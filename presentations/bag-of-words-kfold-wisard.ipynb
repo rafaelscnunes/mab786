{
 "cells": [
  {
   "cell_type": "markdown",
   "metadata": {},
   "source": [
    "# Setup"
   ]
  },
  {
   "cell_type": "code",
   "execution_count": 1,
   "metadata": {
    "ExecuteTime": {
     "end_time": "2018-06-08T05:10:07.040923Z",
     "start_time": "2018-06-08T05:10:06.097214Z"
    }
   },
   "outputs": [],
   "source": [
    "import random\n",
    "import itertools\n",
    "import numpy as np\n",
    "import pandas as pd\n",
    "pd.options.mode.chained_assignment = None  # default='warn'\n",
    "\n",
    "import seaborn as sns\n",
    "color = sns.color_palette()\n",
    "import matplotlib.pyplot as plt \n",
    "%matplotlib inline\n",
    "\n",
    "import warnings\n",
    "warnings.filterwarnings('ignore')\n",
    "\n",
    "from nltk.corpus import stopwords\n",
    "STOP_WORDS = set(stopwords.words('english'))\n",
    "from nltk import word_tokenize, ngrams\n",
    "\n",
    "from sklearn.ensemble import RandomForestClassifier\n",
    "from sklearn.utils import resample\n",
    "from sklearn.metrics import log_loss\n",
    "from sklearn.model_selection import KFold\n",
    "from sklearn.preprocessing import LabelEncoder\n",
    "from sklearn.decomposition import TruncatedSVD\n",
    "from sklearn.model_selection import train_test_split\n",
    "from sklearn.model_selection import StratifiedKFold\n",
    "from sklearn.feature_extraction.text import CountVectorizer\n",
    "from sklearn.feature_extraction.text import TfidfVectorizer\n",
    "from sklearn.naive_bayes import GaussianNB\n",
    "from sklearn.naive_bayes import BernoulliNB\n",
    "from sklearn.metrics import confusion_matrix\n",
    "from sklearn.metrics import accuracy_score\n",
    "from sklearn import svm\n",
    "from time import time\n",
    "from collections import defaultdict\n",
    "\n",
    "import wisardpkg as wp"
   ]
  },
  {
   "cell_type": "markdown",
   "metadata": {},
   "source": [
    "# Pre-processing"
   ]
  },
  {
   "cell_type": "markdown",
   "metadata": {},
   "source": [
    "## Importing..."
   ]
  },
  {
   "cell_type": "code",
   "execution_count": 2,
   "metadata": {
    "ExecuteTime": {
     "end_time": "2018-06-08T05:10:07.752878Z",
     "start_time": "2018-06-08T05:10:07.043009Z"
    }
   },
   "outputs": [],
   "source": [
    "df = {\n",
    "    \"cooking\": pd.read_csv('../../dataset/processed/cooking.csv', usecols=['title', 'content']),\n",
    "    \"crypto\": pd.read_csv('../../dataset/processed/crypto.csv', usecols=['title', 'content']),\n",
    "    \"robotics\": pd.read_csv('../../dataset/processed/robotics.csv', usecols=['title', 'content']),\n",
    "    \"biology\": pd.read_csv('../../dataset/processed/biology.csv', usecols=['title', 'content']),\n",
    "    \"travel\": pd.read_csv('../../dataset/processed/travel.csv', usecols=['title', 'content']),\n",
    "    \"diy\": pd.read_csv('../../dataset/processed/diy.csv', usecols=['title', 'content']),\n",
    "}"
   ]
  },
  {
   "cell_type": "markdown",
   "metadata": {},
   "source": [
    "## Generating new .csv file with title+content and class columns..."
   ]
  },
  {
   "cell_type": "code",
   "execution_count": 3,
   "metadata": {
    "ExecuteTime": {
     "end_time": "2018-06-08T05:10:11.393885Z",
     "start_time": "2018-06-08T05:10:07.755440Z"
    }
   },
   "outputs": [],
   "source": [
    "with open('../../dataset/processed/data.csv', 'w') as f:\n",
    "    f.write('title_content|label\\n')\n",
    "    for _class in df:\n",
    "        df[_class]['title_content'] = df[_class][['title', 'content']].apply(lambda x: '{} {}'.format(x[0],x[1]),\n",
    "                                                                             axis=1)\n",
    "        df[_class]['label'] = _class\n",
    "        df[_class].to_csv(f, sep='|', columns=['title_content', 'label'], header=False, index=False)"
   ]
  },
  {
   "cell_type": "markdown",
   "metadata": {
    "ExecuteTime": {
     "end_time": "2018-04-27T02:48:59.162152Z",
     "start_time": "2018-04-27T02:48:59.120563Z"
    }
   },
   "source": [
    "# Data Analysis"
   ]
  },
  {
   "cell_type": "markdown",
   "metadata": {},
   "source": [
    "## Exploration"
   ]
  },
  {
   "cell_type": "code",
   "execution_count": 4,
   "metadata": {
    "ExecuteTime": {
     "end_time": "2018-06-08T05:10:12.188460Z",
     "start_time": "2018-06-08T05:10:11.397160Z"
    }
   },
   "outputs": [
    {
     "data": {
      "text/html": [
       "<div>\n",
       "<style scoped>\n",
       "    .dataframe tbody tr th:only-of-type {\n",
       "        vertical-align: middle;\n",
       "    }\n",
       "\n",
       "    .dataframe tbody tr th {\n",
       "        vertical-align: top;\n",
       "    }\n",
       "\n",
       "    .dataframe thead th {\n",
       "        text-align: right;\n",
       "    }\n",
       "</style>\n",
       "<table border=\"1\" class=\"dataframe\">\n",
       "  <thead>\n",
       "    <tr style=\"text-align: right;\">\n",
       "      <th></th>\n",
       "      <th>title_content</th>\n",
       "      <th>label</th>\n",
       "    </tr>\n",
       "  </thead>\n",
       "  <tbody>\n",
       "    <tr>\n",
       "      <th>count</th>\n",
       "      <td>87000</td>\n",
       "      <td>87000</td>\n",
       "    </tr>\n",
       "    <tr>\n",
       "      <th>unique</th>\n",
       "      <td>86988</td>\n",
       "      <td>6</td>\n",
       "    </tr>\n",
       "    <tr>\n",
       "      <th>top</th>\n",
       "      <td>motor for diy remote controlled shades current...</td>\n",
       "      <td>diy</td>\n",
       "    </tr>\n",
       "    <tr>\n",
       "      <th>freq</th>\n",
       "      <td>2</td>\n",
       "      <td>25918</td>\n",
       "    </tr>\n",
       "  </tbody>\n",
       "</table>\n",
       "</div>"
      ],
      "text/plain": [
       "                                            title_content  label\n",
       "count                                               87000  87000\n",
       "unique                                              86988      6\n",
       "top     motor for diy remote controlled shades current...    diy\n",
       "freq                                                    2  25918"
      ]
     },
     "execution_count": 4,
     "metadata": {},
     "output_type": "execute_result"
    }
   ],
   "source": [
    "dataset = pd.read_csv('../../dataset/processed/data.csv', sep='|')\n",
    "dataset.describe()"
   ]
  },
  {
   "cell_type": "markdown",
   "metadata": {},
   "source": [
    "## Labels distribution (percentage)"
   ]
  },
  {
   "cell_type": "code",
   "execution_count": 5,
   "metadata": {
    "ExecuteTime": {
     "end_time": "2018-06-08T05:10:12.207960Z",
     "start_time": "2018-06-08T05:10:12.190713Z"
    }
   },
   "outputs": [
    {
     "name": "stdout",
     "output_type": "stream",
     "text": [
      "biology     15.167816\n",
      "cooking     17.705747\n",
      "crypto      11.990805\n",
      "diy         29.790805\n",
      "robotics     3.185057\n",
      "travel      22.159770\n",
      "Name: label, dtype: float64\n"
     ]
    }
   ],
   "source": [
    "labels = dataset['label'].value_counts()\n",
    "print(labels.sort_index()/labels.sum()*100)"
   ]
  },
  {
   "cell_type": "markdown",
   "metadata": {},
   "source": [
    "### Histogram"
   ]
  },
  {
   "cell_type": "code",
   "execution_count": 6,
   "metadata": {
    "ExecuteTime": {
     "end_time": "2018-06-08T05:10:12.668478Z",
     "start_time": "2018-06-08T05:10:12.210372Z"
    }
   },
   "outputs": [
    {
     "data": {
      "image/png": "[encoded data removed]",
      "text/plain": [
       "<Figure size 1440x720 with 1 Axes>"
      ]
     },
     "metadata": {},
     "output_type": "display_data"
    },
    {
     "name": "stdout",
     "output_type": "stream",
     "text": [
      "biology     13196\n",
      "cooking     15404\n",
      "crypto      10432\n",
      "diy         25918\n",
      "robotics     2771\n",
      "travel      19279\n",
      "Name: label, dtype: int64\n"
     ]
    }
   ],
   "source": [
    "fig = plt.figure(figsize=(20, 10))\n",
    "ax1 = sns.countplot(dataset['label'].sort_values())\n",
    "plt.ylabel('Observations', fontsize=12)\n",
    "plt.xlabel('Labels', fontsize=12)\n",
    "plt.xticks(rotation='vertical')\n",
    "plt.title('Labels frequency histogram')\n",
    "plt.show()\n",
    "print(labels.sort_index())"
   ]
  },
  {
   "cell_type": "markdown",
   "metadata": {},
   "source": [
    "## Word distribution"
   ]
  },
  {
   "cell_type": "markdown",
   "metadata": {},
   "source": [
    "### Statistics of the number of words (size) of title_content text field"
   ]
  },
  {
   "cell_type": "code",
   "execution_count": 7,
   "metadata": {
    "ExecuteTime": {
     "end_time": "2018-06-08T05:10:13.115078Z",
     "start_time": "2018-06-08T05:10:12.670769Z"
    }
   },
   "outputs": [
    {
     "name": "stdout",
     "output_type": "stream",
     "text": [
      "The top 20 most frequent size of title_content, and their respective frequency:\n",
      "44    1065\n",
      "39    1058\n",
      "35    1055\n",
      "42    1053\n",
      "51    1023\n",
      "45    1023\n",
      "47    1016\n",
      "50    1008\n",
      "41    1008\n",
      "37     995\n",
      "36     989\n",
      "55     983\n",
      "38     982\n",
      "46     978\n",
      "40     959\n",
      "33     956\n",
      "32     953\n",
      "34     952\n",
      "31     949\n",
      "43     948\n",
      "Name: size, dtype: int64\n"
     ]
    }
   ],
   "source": [
    "dataset['size'] = dataset['title_content'].apply(lambda x : len(str(x).split()))\n",
    "sizes = dataset['size'].value_counts()\n",
    "print('The top 20 most frequent size of title_content, and their respective frequency:')\n",
    "print(sizes.nlargest(20))"
   ]
  },
  {
   "cell_type": "markdown",
   "metadata": {},
   "source": [
    "### Histogram"
   ]
  },
  {
   "cell_type": "code",
   "execution_count": 8,
   "metadata": {
    "ExecuteTime": {
     "end_time": "2018-06-08T05:10:17.212871Z",
     "start_time": "2018-06-08T05:10:13.117344Z"
    }
   },
   "outputs": [
    {
     "data": {
      "image/png": "[encoded data removed]",
      "text/plain": [
       "<Figure size 1440x720 with 1 Axes>"
      ]
     },
     "metadata": {},
     "output_type": "display_data"
    }
   ],
   "source": [
    "fig = plt.figure(figsize=(20, 10))\n",
    "ax1 = sns.barplot(sizes.index, sizes.values, alpha=0.8)\n",
    "ax1.set_xticklabels([])\n",
    "plt.title('Number of words frequency histogram')\n",
    "plt.ylabel('Number of Occurrences', fontsize=12)\n",
    "plt.xlabel('Number of words', fontsize=12)\n",
    "plt.show()"
   ]
  },
  {
   "cell_type": "markdown",
   "metadata": {},
   "source": [
    "## Data example"
   ]
  },
  {
   "cell_type": "markdown",
   "metadata": {},
   "source": [
    "### Robotics texts with more than 200 words"
   ]
  },
  {
   "cell_type": "code",
   "execution_count": 9,
   "metadata": {
    "ExecuteTime": {
     "end_time": "2018-06-08T05:10:17.709542Z",
     "start_time": "2018-06-08T05:10:17.214896Z"
    }
   },
   "outputs": [
    {
     "data": {
      "text/html": [
       "<div>\n",
       "<style scoped>\n",
       "    .dataframe tbody tr th:only-of-type {\n",
       "        vertical-align: middle;\n",
       "    }\n",
       "\n",
       "    .dataframe tbody tr th {\n",
       "        vertical-align: top;\n",
       "    }\n",
       "\n",
       "    .dataframe thead th {\n",
       "        text-align: right;\n",
       "    }\n",
       "</style>\n",
       "<table border=\"1\" class=\"dataframe\">\n",
       "  <thead>\n",
       "    <tr style=\"text-align: right;\">\n",
       "      <th></th>\n",
       "      <th>size</th>\n",
       "    </tr>\n",
       "  </thead>\n",
       "  <tbody>\n",
       "    <tr>\n",
       "      <th>count</th>\n",
       "      <td>237.000000</td>\n",
       "    </tr>\n",
       "    <tr>\n",
       "      <th>mean</th>\n",
       "      <td>299.438819</td>\n",
       "    </tr>\n",
       "    <tr>\n",
       "      <th>std</th>\n",
       "      <td>133.648324</td>\n",
       "    </tr>\n",
       "    <tr>\n",
       "      <th>min</th>\n",
       "      <td>201.000000</td>\n",
       "    </tr>\n",
       "    <tr>\n",
       "      <th>25%</th>\n",
       "      <td>226.000000</td>\n",
       "    </tr>\n",
       "    <tr>\n",
       "      <th>50%</th>\n",
       "      <td>257.000000</td>\n",
       "    </tr>\n",
       "    <tr>\n",
       "      <th>75%</th>\n",
       "      <td>318.000000</td>\n",
       "    </tr>\n",
       "    <tr>\n",
       "      <th>max</th>\n",
       "      <td>1276.000000</td>\n",
       "    </tr>\n",
       "  </tbody>\n",
       "</table>\n",
       "</div>"
      ],
      "text/plain": [
       "              size\n",
       "count   237.000000\n",
       "mean    299.438819\n",
       "std     133.648324\n",
       "min     201.000000\n",
       "25%     226.000000\n",
       "50%     257.000000\n",
       "75%     318.000000\n",
       "max    1276.000000"
      ]
     },
     "execution_count": 9,
     "metadata": {},
     "output_type": "execute_result"
    }
   ],
   "source": [
    "filtered_data = dataset[(dataset.label == 'robotics') & (dataset.title_content.apply(lambda x : len(str(x).split())) > 200)]\n",
    "filtered_data.describe()"
   ]
  },
  {
   "cell_type": "markdown",
   "metadata": {},
   "source": [
    "### Cell content example"
   ]
  },
  {
   "cell_type": "code",
   "execution_count": 10,
   "metadata": {
    "ExecuteTime": {
     "end_time": "2018-06-08T05:10:17.718002Z",
     "start_time": "2018-06-08T05:10:17.711467Z"
    }
   },
   "outputs": [
    {
     "name": "stdout",
     "output_type": "stream",
     "text": [
      "TEXT: visa needed for transit heatrow wife ukrainian citizen with romanian residency permit have tickets for flight madrid heatrow seoul see below details jue iberia turista madrid adolfo rez barajas terminal londres heathrow terminal jue british airways turista londres heathrow terminal seoul incheon want understand she needs transit visa not far that there the datv visa which can used you will not thourgh border control but don know this the case not will not have checkin our luggage but there any other border control that might have pass the terminals will change and not both flights will depart from terminal according this you don need apply for one you have eea family permit which seems the case this situation she not required any visa all\n",
      "LABEL: travel\n",
      "LENGTH: 124 words.\n"
     ]
    }
   ],
   "source": [
    "line=61041\n",
    "print('TEXT: {0}'.format(dataset.loc[61041, 'title_content']))\n",
    "print('LABEL: {0}'.format(dataset.loc[61041, 'label']))\n",
    "print('LENGTH: {0} words.'.format(len(dataset.loc[61041, 'title_content'].split())))"
   ]
  },
  {
   "cell_type": "code",
   "execution_count": 11,
   "metadata": {
    "ExecuteTime": {
     "end_time": "2018-06-08T05:10:17.721896Z",
     "start_time": "2018-06-08T05:10:17.719628Z"
    }
   },
   "outputs": [],
   "source": [
    "ds = dataset"
   ]
  },
  {
   "cell_type": "markdown",
   "metadata": {},
   "source": [
    "# Bag-of-Words"
   ]
  },
  {
   "cell_type": "code",
   "execution_count": 12,
   "metadata": {
    "ExecuteTime": {
     "end_time": "2018-06-08T05:10:23.807745Z",
     "start_time": "2018-06-08T05:10:17.723594Z"
    }
   },
   "outputs": [
    {
     "name": "stdout",
     "output_type": "stream",
     "text": [
      "(87000, 37087)\n",
      "Encoded labels:  [(0, 'biology'), (1, 'cooking'), (2, 'crypto'), (3, 'diy'), (4, 'robotics'), (5, 'travel')]\n"
     ]
    }
   ],
   "source": [
    "tfidf = TfidfVectorizer(analyzer='word',\n",
    "                        stop_words=STOP_WORDS,\n",
    "                        ngram_range=(1,1),\n",
    "                        max_df=0.7, min_df=2,\n",
    "                        sublinear_tf=True)\n",
    "X = tfidf.fit_transform(ds['title_content'])\n",
    "print(X.shape)\n",
    "\n",
    "l_enc = LabelEncoder()\n",
    "y = l_enc.fit_transform(ds['label'])\n",
    "print('Encoded labels: ', list([(i, l_enc.classes_[i]) for i in range(0, len(l_enc.classes_))]))"
   ]
  },
  {
   "cell_type": "markdown",
   "metadata": {},
   "source": [
    "# Dimensionality reduction"
   ]
  },
  {
   "cell_type": "code",
   "execution_count": 13,
   "metadata": {
    "ExecuteTime": {
     "end_time": "2018-06-08T05:12:21.841451Z",
     "start_time": "2018-06-08T05:10:23.809570Z"
    }
   },
   "outputs": [
    {
     "name": "stdout",
     "output_type": "stream",
     "text": [
      "Shape of svd matrix:  (87000, 1000)\n"
     ]
    }
   ],
   "source": [
    "svd = TruncatedSVD(n_components=1000, algorithm='randomized')\n",
    "X_svd = svd.fit_transform(X)\n",
    "print('Shape of svd matrix: ', X_svd.shape)"
   ]
  },
  {
   "cell_type": "markdown",
   "metadata": {},
   "source": [
    "# Split Train/Test examples"
   ]
  },
  {
   "cell_type": "code",
   "execution_count": 14,
   "metadata": {
    "ExecuteTime": {
     "end_time": "2018-06-08T05:12:22.343831Z",
     "start_time": "2018-06-08T05:12:21.843292Z"
    }
   },
   "outputs": [
    {
     "name": "stdout",
     "output_type": "stream",
     "text": [
      "X_train matrix shape is: (69600, 1000)\n",
      "X_valid matrix shape is: (17400, 1000)\n",
      "y_train matrix shape is: (69600,)\n",
      "y_valid matrix shape is: (17400,)\n"
     ]
    }
   ],
   "source": [
    "# X = np.concatenate([svd_titulo, svd_resumo], axis=1)\n",
    "X_train, X_valid, y_train, y_valid = train_test_split(X_svd, y, test_size=0.2, random_state=283)\n",
    "\n",
    "print('X_train matrix shape is: {0}'.format(X_train.shape))\n",
    "print('X_valid matrix shape is: {0}'.format(X_valid.shape))\n",
    "print('y_train matrix shape is: {0}'.format(y_train.shape))\n",
    "print('y_valid matrix shape is: {0}'.format(y_valid.shape))"
   ]
  },
  {
   "cell_type": "markdown",
   "metadata": {},
   "source": [
    "# Functions"
   ]
  },
  {
   "cell_type": "code",
   "execution_count": 15,
   "metadata": {
    "ExecuteTime": {
     "end_time": "2018-06-08T05:12:22.356793Z",
     "start_time": "2018-06-08T05:12:22.345787Z"
    }
   },
   "outputs": [],
   "source": [
    "def plot_confusion_matrix(cm, classes,\n",
    "                          normalize=False,\n",
    "                          title='',\n",
    "                          cmap=plt.cm.Blues):\n",
    "    \"\"\"\n",
    "    This function prints and plots the confusion matrix.\n",
    "    Normalization can be applied by setting `normalize=True`.\n",
    "    \"\"\"\n",
    "      \n",
    "    plt.figure(figsize=(12,6))\n",
    "    \n",
    "    if normalize:\n",
    "        cm = cm.astype('float') / cm.sum(axis=1)[:, np.newaxis]\n",
    "        plt.title(title + \" normalized confusion matrix\")\n",
    "    else:\n",
    "        plt.title(title + ' confusion matrix, without normalization')\n",
    "        \n",
    "    plt.imshow(cm, interpolation='nearest', cmap=cmap)\n",
    "    plt.colorbar()\n",
    "    tick_marks = np.arange(len(classes))\n",
    "    plt.xticks(tick_marks, classes, rotation=45)\n",
    "    plt.yticks(tick_marks, classes)\n",
    "\n",
    "    #print(cm)\n",
    "\n",
    "    fmt = '.2f' if normalize else 'd'\n",
    "    thresh = cm.max() / 2.\n",
    "    for i, j in itertools.product(range(cm.shape[0]), range(cm.shape[1])):\n",
    "        plt.text(j, i, format(cm[i, j], fmt),\n",
    "                 horizontalalignment=\"center\",\n",
    "                 color=\"white\" if cm[i, j] > thresh else \"black\")\n",
    "    plt.tight_layout()\n",
    "    plt.ylabel('True class')\n",
    "    plt.xlabel('Predicted class')\n",
    "    plt.show()\n",
    "    \n",
    "\n",
    "def benchmark(clf, X_train, y_train, X_test, y_test):\n",
    "\n",
    "    print(\"Training: \", clf)\n",
    "    t0 = time()\n",
    "    clf.fit(X_train, y_train)\n",
    "    train_time = time() - t0\n",
    "    print(\"train time: %0.3fs\" % train_time)\n",
    "\n",
    "    t0 = time()\n",
    "    pred = clf.predict(X_test)\n",
    "    test_time = time() - t0\n",
    "    print(\"test time:  %0.3fs\" % test_time)\n",
    "\n",
    "    score = accuracy_score(y_test, pred)\n",
    "    print(\"accuracy:   %0.3f\" % score)\n",
    "    \n",
    "    clf_descr = str(clf).split('(')[0]\n",
    "    print(\"Done with \" + clf_descr)\n",
    "    print('-' * 80)\n",
    "    \n",
    "    return clf_descr, score, train_time, test_time\n",
    "\n",
    "\n",
    "def one_hot(real_vec, min_value=-1.0, max_value=1.0, n=10):\n",
    "    vec = []\n",
    "    for v in real_vec:\n",
    "        if v == max_value:\n",
    "            rang = [0] * n\n",
    "            rang[-1] = 1\n",
    "            vec.extend(rang)\n",
    "        else:\n",
    "            rang = [0] * n\n",
    "            t = (max_value - min_value)\n",
    "            p = v - min_value\n",
    "            s = int((p / t) * n)\n",
    "            rang[s] = 1\n",
    "            vec.extend(rang)\n",
    "    return np.array(vec)\n",
    "\n",
    "\n",
    "def show_retina(X, rows=50, columns=10): \n",
    "    pixels = np.array(X, dtype='uint8')\n",
    "    # Reshape the array into 28 x 28 array (2-dimensional array)\n",
    "    pixels = pixels.reshape((columns, rows))\n",
    "    # Plot\n",
    "    plt.imshow(pixels, cmap='gray', interpolation='nearest')\n",
    "    plt.show()"
   ]
  },
  {
   "cell_type": "markdown",
   "metadata": {},
   "source": [
    "# KFold"
   ]
  },
  {
   "cell_type": "code",
   "execution_count": 16,
   "metadata": {
    "ExecuteTime": {
     "end_time": "2018-06-08T05:17:17.804054Z",
     "start_time": "2018-06-08T05:12:22.358753Z"
    }
   },
   "outputs": [
    {
     "name": "stdout",
     "output_type": "stream",
     "text": [
      "Training:  GaussianNB(priors=None)\n",
      "train time: 1.791s\n",
      "test time:  0.570s\n",
      "accuracy:   0.802\n",
      "Done with GaussianNB\n",
      "--------------------------------------------------------------------------------\n",
      "Training:  BernoulliNB(alpha=1.0, binarize=0.0, class_prior=None, fit_prior=True)\n",
      "train time: 2.155s\n",
      "test time:  0.222s\n",
      "accuracy:   0.903\n",
      "Done with BernoulliNB\n",
      "--------------------------------------------------------------------------------\n",
      "Training:  RandomForestClassifier(bootstrap=True, class_weight=None, criterion='gini',\n",
      "            max_depth=None, max_features='auto', max_leaf_nodes=None,\n",
      "            min_impurity_decrease=0.0, min_impurity_split=None,\n",
      "            min_samples_leaf=1, min_samples_split=2,\n",
      "            min_weight_fraction_leaf=0.0, n_estimators=10, n_jobs=16,\n",
      "            oob_score=False, random_state=None, verbose=0,\n",
      "            warm_start=False)\n",
      "train time: 4.767s\n",
      "test time:  0.118s\n",
      "accuracy:   0.909\n",
      "Done with RandomForestClassifier\n",
      "--------------------------------------------------------------------------------\n",
      "Training:  LinearSVC(C=1.0, class_weight=None, dual=True, fit_intercept=True,\n",
      "     intercept_scaling=1, loss='squared_hinge', max_iter=1000,\n",
      "     multi_class='ovr', penalty='l2', random_state=None, tol=0.0001,\n",
      "     verbose=0)\n",
      "train time: 17.432s\n",
      "test time:  0.027s\n",
      "accuracy:   0.971\n",
      "Done with LinearSVC\n",
      "--------------------------------------------------------------------------------\n",
      "Training:  GaussianNB(priors=None)\n",
      "train time: 1.889s\n",
      "test time:  0.637s\n",
      "accuracy:   0.803\n",
      "Done with GaussianNB\n",
      "--------------------------------------------------------------------------------\n",
      "Training:  BernoulliNB(alpha=1.0, binarize=0.0, class_prior=None, fit_prior=True)\n",
      "train time: 2.367s\n",
      "test time:  0.228s\n",
      "accuracy:   0.902\n",
      "Done with BernoulliNB\n",
      "--------------------------------------------------------------------------------\n",
      "Training:  RandomForestClassifier(bootstrap=True, class_weight=None, criterion='gini',\n",
      "            max_depth=None, max_features='auto', max_leaf_nodes=None,\n",
      "            min_impurity_decrease=0.0, min_impurity_split=None,\n",
      "            min_samples_leaf=1, min_samples_split=2,\n",
      "            min_weight_fraction_leaf=0.0, n_estimators=10, n_jobs=16,\n",
      "            oob_score=False, random_state=None, verbose=0,\n",
      "            warm_start=False)\n",
      "train time: 4.584s\n",
      "test time:  0.117s\n",
      "accuracy:   0.905\n",
      "Done with RandomForestClassifier\n",
      "--------------------------------------------------------------------------------\n",
      "Training:  LinearSVC(C=1.0, class_weight=None, dual=True, fit_intercept=True,\n",
      "     intercept_scaling=1, loss='squared_hinge', max_iter=1000,\n",
      "     multi_class='ovr', penalty='l2', random_state=None, tol=0.0001,\n",
      "     verbose=0)\n",
      "train time: 18.130s\n",
      "test time:  0.023s\n",
      "accuracy:   0.974\n",
      "Done with LinearSVC\n",
      "--------------------------------------------------------------------------------\n",
      "Training:  GaussianNB(priors=None)\n",
      "train time: 1.809s\n",
      "test time:  0.646s\n",
      "accuracy:   0.808\n",
      "Done with GaussianNB\n",
      "--------------------------------------------------------------------------------\n",
      "Training:  BernoulliNB(alpha=1.0, binarize=0.0, class_prior=None, fit_prior=True)\n",
      "train time: 2.332s\n",
      "test time:  0.228s\n",
      "accuracy:   0.908\n",
      "Done with BernoulliNB\n",
      "--------------------------------------------------------------------------------\n",
      "Training:  RandomForestClassifier(bootstrap=True, class_weight=None, criterion='gini',\n",
      "            max_depth=None, max_features='auto', max_leaf_nodes=None,\n",
      "            min_impurity_decrease=0.0, min_impurity_split=None,\n",
      "            min_samples_leaf=1, min_samples_split=2,\n",
      "            min_weight_fraction_leaf=0.0, n_estimators=10, n_jobs=16,\n",
      "            oob_score=False, random_state=None, verbose=0,\n",
      "            warm_start=False)\n",
      "train time: 4.660s\n",
      "test time:  0.118s\n",
      "accuracy:   0.916\n",
      "Done with RandomForestClassifier\n",
      "--------------------------------------------------------------------------------\n",
      "Training:  LinearSVC(C=1.0, class_weight=None, dual=True, fit_intercept=True,\n",
      "     intercept_scaling=1, loss='squared_hinge', max_iter=1000,\n",
      "     multi_class='ovr', penalty='l2', random_state=None, tol=0.0001,\n",
      "     verbose=0)\n",
      "train time: 17.793s\n",
      "test time:  0.027s\n",
      "accuracy:   0.976\n",
      "Done with LinearSVC\n",
      "--------------------------------------------------------------------------------\n",
      "Training:  GaussianNB(priors=None)\n",
      "train time: 1.863s\n",
      "test time:  0.659s\n",
      "accuracy:   0.807\n",
      "Done with GaussianNB\n",
      "--------------------------------------------------------------------------------\n",
      "Training:  BernoulliNB(alpha=1.0, binarize=0.0, class_prior=None, fit_prior=True)\n",
      "train time: 2.378s\n",
      "test time:  0.239s\n",
      "accuracy:   0.908\n",
      "Done with BernoulliNB\n",
      "--------------------------------------------------------------------------------\n",
      "Training:  RandomForestClassifier(bootstrap=True, class_weight=None, criterion='gini',\n",
      "            max_depth=None, max_features='auto', max_leaf_nodes=None,\n",
      "            min_impurity_decrease=0.0, min_impurity_split=None,\n",
      "            min_samples_leaf=1, min_samples_split=2,\n",
      "            min_weight_fraction_leaf=0.0, n_estimators=10, n_jobs=16,\n",
      "            oob_score=False, random_state=None, verbose=0,\n",
      "            warm_start=False)\n",
      "train time: 5.185s\n",
      "test time:  0.117s\n",
      "accuracy:   0.914\n",
      "Done with RandomForestClassifier\n",
      "--------------------------------------------------------------------------------\n",
      "Training:  LinearSVC(C=1.0, class_weight=None, dual=True, fit_intercept=True,\n",
      "     intercept_scaling=1, loss='squared_hinge', max_iter=1000,\n",
      "     multi_class='ovr', penalty='l2', random_state=None, tol=0.0001,\n",
      "     verbose=0)\n",
      "train time: 17.774s\n",
      "test time:  0.024s\n",
      "accuracy:   0.974\n",
      "Done with LinearSVC\n",
      "--------------------------------------------------------------------------------\n",
      "Training:  GaussianNB(priors=None)\n",
      "train time: 1.793s\n",
      "test time:  0.636s\n",
      "accuracy:   0.805\n",
      "Done with GaussianNB\n",
      "--------------------------------------------------------------------------------\n",
      "Training:  BernoulliNB(alpha=1.0, binarize=0.0, class_prior=None, fit_prior=True)\n",
      "train time: 2.310s\n",
      "test time:  0.228s\n",
      "accuracy:   0.907\n",
      "Done with BernoulliNB\n",
      "--------------------------------------------------------------------------------\n",
      "Training:  RandomForestClassifier(bootstrap=True, class_weight=None, criterion='gini',\n",
      "            max_depth=None, max_features='auto', max_leaf_nodes=None,\n",
      "            min_impurity_decrease=0.0, min_impurity_split=None,\n",
      "            min_samples_leaf=1, min_samples_split=2,\n",
      "            min_weight_fraction_leaf=0.0, n_estimators=10, n_jobs=16,\n",
      "            oob_score=False, random_state=None, verbose=0,\n",
      "            warm_start=False)\n",
      "train time: 5.484s\n",
      "test time:  0.117s\n",
      "accuracy:   0.911\n",
      "Done with RandomForestClassifier\n",
      "--------------------------------------------------------------------------------\n",
      "Training:  LinearSVC(C=1.0, class_weight=None, dual=True, fit_intercept=True,\n",
      "     intercept_scaling=1, loss='squared_hinge', max_iter=1000,\n",
      "     multi_class='ovr', penalty='l2', random_state=None, tol=0.0001,\n",
      "     verbose=0)\n",
      "train time: 17.836s\n",
      "test time:  0.027s\n",
      "accuracy:   0.978\n",
      "Done with LinearSVC\n",
      "--------------------------------------------------------------------------------\n",
      "Training:  GaussianNB(priors=None)\n",
      "train time: 1.812s\n",
      "test time:  0.593s\n",
      "accuracy:   0.802\n",
      "Done with GaussianNB\n",
      "--------------------------------------------------------------------------------\n",
      "Training:  BernoulliNB(alpha=1.0, binarize=0.0, class_prior=None, fit_prior=True)\n",
      "train time: 2.341s\n",
      "test time:  0.248s\n",
      "accuracy:   0.908\n",
      "Done with BernoulliNB\n",
      "--------------------------------------------------------------------------------\n",
      "Training:  RandomForestClassifier(bootstrap=True, class_weight=None, criterion='gini',\n",
      "            max_depth=None, max_features='auto', max_leaf_nodes=None,\n",
      "            min_impurity_decrease=0.0, min_impurity_split=None,\n",
      "            min_samples_leaf=1, min_samples_split=2,\n",
      "            min_weight_fraction_leaf=0.0, n_estimators=10, n_jobs=16,\n",
      "            oob_score=False, random_state=None, verbose=0,\n",
      "            warm_start=False)\n",
      "train time: 4.691s\n",
      "test time:  0.117s\n",
      "accuracy:   0.912\n",
      "Done with RandomForestClassifier\n",
      "--------------------------------------------------------------------------------\n",
      "Training:  LinearSVC(C=1.0, class_weight=None, dual=True, fit_intercept=True,\n",
      "     intercept_scaling=1, loss='squared_hinge', max_iter=1000,\n",
      "     multi_class='ovr', penalty='l2', random_state=None, tol=0.0001,\n",
      "     verbose=0)\n"
     ]
    },
    {
     "name": "stdout",
     "output_type": "stream",
     "text": [
      "train time: 17.610s\n",
      "test time:  0.024s\n",
      "accuracy:   0.975\n",
      "Done with LinearSVC\n",
      "--------------------------------------------------------------------------------\n",
      "Training:  GaussianNB(priors=None)\n",
      "train time: 1.781s\n",
      "test time:  0.605s\n",
      "accuracy:   0.807\n",
      "Done with GaussianNB\n",
      "--------------------------------------------------------------------------------\n",
      "Training:  BernoulliNB(alpha=1.0, binarize=0.0, class_prior=None, fit_prior=True)\n",
      "train time: 2.277s\n",
      "test time:  0.251s\n",
      "accuracy:   0.899\n",
      "Done with BernoulliNB\n",
      "--------------------------------------------------------------------------------\n",
      "Training:  RandomForestClassifier(bootstrap=True, class_weight=None, criterion='gini',\n",
      "            max_depth=None, max_features='auto', max_leaf_nodes=None,\n",
      "            min_impurity_decrease=0.0, min_impurity_split=None,\n",
      "            min_samples_leaf=1, min_samples_split=2,\n",
      "            min_weight_fraction_leaf=0.0, n_estimators=10, n_jobs=16,\n",
      "            oob_score=False, random_state=None, verbose=0,\n",
      "            warm_start=False)\n",
      "train time: 4.979s\n",
      "test time:  0.117s\n",
      "accuracy:   0.911\n",
      "Done with RandomForestClassifier\n",
      "--------------------------------------------------------------------------------\n",
      "Training:  LinearSVC(C=1.0, class_weight=None, dual=True, fit_intercept=True,\n",
      "     intercept_scaling=1, loss='squared_hinge', max_iter=1000,\n",
      "     multi_class='ovr', penalty='l2', random_state=None, tol=0.0001,\n",
      "     verbose=0)\n",
      "train time: 17.421s\n",
      "test time:  0.025s\n",
      "accuracy:   0.973\n",
      "Done with LinearSVC\n",
      "--------------------------------------------------------------------------------\n",
      "Training:  GaussianNB(priors=None)\n",
      "train time: 1.746s\n",
      "test time:  0.589s\n",
      "accuracy:   0.800\n",
      "Done with GaussianNB\n",
      "--------------------------------------------------------------------------------\n",
      "Training:  BernoulliNB(alpha=1.0, binarize=0.0, class_prior=None, fit_prior=True)\n",
      "train time: 2.336s\n",
      "test time:  0.252s\n",
      "accuracy:   0.900\n",
      "Done with BernoulliNB\n",
      "--------------------------------------------------------------------------------\n",
      "Training:  RandomForestClassifier(bootstrap=True, class_weight=None, criterion='gini',\n",
      "            max_depth=None, max_features='auto', max_leaf_nodes=None,\n",
      "            min_impurity_decrease=0.0, min_impurity_split=None,\n",
      "            min_samples_leaf=1, min_samples_split=2,\n",
      "            min_weight_fraction_leaf=0.0, n_estimators=10, n_jobs=16,\n",
      "            oob_score=False, random_state=None, verbose=0,\n",
      "            warm_start=False)\n",
      "train time: 5.097s\n",
      "test time:  0.118s\n",
      "accuracy:   0.911\n",
      "Done with RandomForestClassifier\n",
      "--------------------------------------------------------------------------------\n",
      "Training:  LinearSVC(C=1.0, class_weight=None, dual=True, fit_intercept=True,\n",
      "     intercept_scaling=1, loss='squared_hinge', max_iter=1000,\n",
      "     multi_class='ovr', penalty='l2', random_state=None, tol=0.0001,\n",
      "     verbose=0)\n",
      "train time: 17.677s\n",
      "test time:  0.027s\n",
      "accuracy:   0.973\n",
      "Done with LinearSVC\n",
      "--------------------------------------------------------------------------------\n",
      "Training:  GaussianNB(priors=None)\n",
      "train time: 1.772s\n",
      "test time:  0.601s\n",
      "accuracy:   0.822\n",
      "Done with GaussianNB\n",
      "--------------------------------------------------------------------------------\n",
      "Training:  BernoulliNB(alpha=1.0, binarize=0.0, class_prior=None, fit_prior=True)\n",
      "train time: 2.234s\n",
      "test time:  0.242s\n",
      "accuracy:   0.910\n",
      "Done with BernoulliNB\n",
      "--------------------------------------------------------------------------------\n",
      "Training:  RandomForestClassifier(bootstrap=True, class_weight=None, criterion='gini',\n",
      "            max_depth=None, max_features='auto', max_leaf_nodes=None,\n",
      "            min_impurity_decrease=0.0, min_impurity_split=None,\n",
      "            min_samples_leaf=1, min_samples_split=2,\n",
      "            min_weight_fraction_leaf=0.0, n_estimators=10, n_jobs=16,\n",
      "            oob_score=False, random_state=None, verbose=0,\n",
      "            warm_start=False)\n",
      "train time: 4.675s\n",
      "test time:  0.118s\n",
      "accuracy:   0.913\n",
      "Done with RandomForestClassifier\n",
      "--------------------------------------------------------------------------------\n",
      "Training:  LinearSVC(C=1.0, class_weight=None, dual=True, fit_intercept=True,\n",
      "     intercept_scaling=1, loss='squared_hinge', max_iter=1000,\n",
      "     multi_class='ovr', penalty='l2', random_state=None, tol=0.0001,\n",
      "     verbose=0)\n",
      "train time: 18.000s\n",
      "test time:  0.027s\n",
      "accuracy:   0.977\n",
      "Done with LinearSVC\n",
      "--------------------------------------------------------------------------------\n",
      "Training:  GaussianNB(priors=None)\n",
      "train time: 1.850s\n",
      "test time:  0.619s\n",
      "accuracy:   0.810\n",
      "Done with GaussianNB\n",
      "--------------------------------------------------------------------------------\n",
      "Training:  BernoulliNB(alpha=1.0, binarize=0.0, class_prior=None, fit_prior=True)\n",
      "train time: 2.355s\n",
      "test time:  0.238s\n",
      "accuracy:   0.907\n",
      "Done with BernoulliNB\n",
      "--------------------------------------------------------------------------------\n",
      "Training:  RandomForestClassifier(bootstrap=True, class_weight=None, criterion='gini',\n",
      "            max_depth=None, max_features='auto', max_leaf_nodes=None,\n",
      "            min_impurity_decrease=0.0, min_impurity_split=None,\n",
      "            min_samples_leaf=1, min_samples_split=2,\n",
      "            min_weight_fraction_leaf=0.0, n_estimators=10, n_jobs=16,\n",
      "            oob_score=False, random_state=None, verbose=0,\n",
      "            warm_start=False)\n",
      "train time: 5.081s\n",
      "test time:  0.119s\n",
      "accuracy:   0.916\n",
      "Done with RandomForestClassifier\n",
      "--------------------------------------------------------------------------------\n",
      "Training:  LinearSVC(C=1.0, class_weight=None, dual=True, fit_intercept=True,\n",
      "     intercept_scaling=1, loss='squared_hinge', max_iter=1000,\n",
      "     multi_class='ovr', penalty='l2', random_state=None, tol=0.0001,\n",
      "     verbose=0)\n",
      "train time: 17.523s\n",
      "test time:  0.027s\n",
      "accuracy:   0.974\n",
      "Done with LinearSVC\n",
      "--------------------------------------------------------------------------------\n"
     ]
    }
   ],
   "source": [
    "kf = StratifiedKFold(n_splits=10)\n",
    "\n",
    "resultsGaussianNB = []\n",
    "resultsBernoulliNB = []\n",
    "resultsRandomForest = []\n",
    "resultsSVM = []\n",
    "\n",
    "\n",
    "for train, test in kf.split(X_train, y_train):\n",
    "    resultsGaussianNB.append(benchmark(GaussianNB(), X_train[train], y_train[train], X_train[test], y_train[test]))\n",
    "    resultsBernoulliNB.append(benchmark(BernoulliNB(), X_train[train], y_train[train], X_train[test], y_train[test]))\n",
    "    resultsRandomForest.append(benchmark(RandomForestClassifier(n_jobs=16), X_train[train], y_train[train], X_train[test], y_train[test]))\n",
    "    resultsSVM.append(benchmark(svm.LinearSVC(), X_train[train], y_train[train], X_train[test], y_train[test]))"
   ]
  },
  {
   "cell_type": "code",
   "execution_count": 17,
   "metadata": {
    "ExecuteTime": {
     "end_time": "2018-06-08T05:17:17.815237Z",
     "start_time": "2018-06-08T05:17:17.806097Z"
    }
   },
   "outputs": [
    {
     "name": "stdout",
     "output_type": "stream",
     "text": [
      "Mean Accuracy of the Gaussian Naïve-Bayes Classifier was 0.81%.\n",
      "Mean Accuracy of the Bernoulli Naïve-Bayes Classifier was 0.91%.\n",
      "Mean Accuracy of the Random Forrest Classifier was 0.91%.\n",
      "Mean Accuracy of the SVM Classifier was 0.97%.\n",
      "\n",
      "Mean Train Time of the Gaussian Naïve-Bayes Classifier was 1.811s.\n",
      "Mean Train Time of the Bernoulli Naïve-Bayes Classifier was 2.308s.\n",
      "Mean Train Time of the Random Forrest Classifier was 4.920s.\n",
      "Mean Train Time of the SVM Classifier was 17.719s.\n",
      "\n",
      "Mean Test Time of the Gaussian Naïve-Bayes Classifier was 0.615s.\n",
      "Mean Test Time of the Bernoulli Naïve-Bayes Classifier was 0.238s.\n",
      "Mean Test Time of the Random Forrest Classifier was 0.118s.\n",
      "Mean Test Time of the SVM Classifier was 0.026s.\n"
     ]
    }
   ],
   "source": [
    "_sum_nbg, _sum_nbb, _sum_rf, _sum_svm = 0, 0, 0, 0\n",
    "\n",
    "for i in range(len(resultsGaussianNB)):\n",
    "    _sum_nbg += resultsGaussianNB[i][1]\n",
    "    _sum_nbb += resultsBernoulliNB[i][1]\n",
    "    _sum_rf += resultsRandomForest[i][1]\n",
    "    _sum_svm += resultsSVM[i][1]\n",
    "    \n",
    "print('Mean Accuracy of the Gaussian Naïve-Bayes Classifier was {0:0.2f}%.'.format(_sum_nbg/len(resultsGaussianNB)))\n",
    "print('Mean Accuracy of the Bernoulli Naïve-Bayes Classifier was {0:0.2f}%.'.format(_sum_nbb/len(resultsBernoulliNB)))\n",
    "print('Mean Accuracy of the Random Forrest Classifier was {0:0.2f}%.'.format(_sum_rf/len(resultsRandomForest)))\n",
    "print('Mean Accuracy of the SVM Classifier was {0:0.2f}%.'.format(_sum_svm/len(resultsSVM)))\n",
    "print()\n",
    "\n",
    "_sum_nbg2, _sum_nbb2, _sum_rf2, _sum_svm2 = 0, 0, 0, 0\n",
    "\n",
    "for i in range(len(resultsGaussianNB)):\n",
    "    _sum_nbg2 += resultsGaussianNB[i][2]\n",
    "    _sum_nbb2 += resultsBernoulliNB[i][2]\n",
    "    _sum_rf2 += resultsRandomForest[i][2]\n",
    "    _sum_svm2 += resultsSVM[i][2]\n",
    "    \n",
    "print('Mean Train Time of the Gaussian Naïve-Bayes Classifier was {0:0.3f}s.'.format(_sum_nbg2/len(resultsGaussianNB)))\n",
    "print('Mean Train Time of the Bernoulli Naïve-Bayes Classifier was {0:0.3f}s.'.format(_sum_nbb2/len(resultsBernoulliNB)))\n",
    "print('Mean Train Time of the Random Forrest Classifier was {0:0.3f}s.'.format(_sum_rf2/len(resultsRandomForest)))\n",
    "print('Mean Train Time of the SVM Classifier was {0:0.3f}s.'.format(_sum_svm2/len(resultsSVM)))\n",
    "print()\n",
    "\n",
    "_sum_nbg3, _sum_nbb3, _sum_rf3, _sum_svm3 = 0, 0, 0, 0\n",
    "\n",
    "for i in range(len(resultsGaussianNB)):\n",
    "    _sum_nbg3 += resultsGaussianNB[i][3]\n",
    "    _sum_nbb3 += resultsBernoulliNB[i][3]\n",
    "    _sum_rf3 += resultsRandomForest[i][3]\n",
    "    _sum_svm3 += resultsSVM[i][3]\n",
    "    \n",
    "print('Mean Test Time of the Gaussian Naïve-Bayes Classifier was {0:0.3f}s.'.format(_sum_nbg3/len(resultsGaussianNB)))\n",
    "print('Mean Test Time of the Bernoulli Naïve-Bayes Classifier was {0:0.3f}s.'.format(_sum_nbb3/len(resultsBernoulliNB)))\n",
    "print('Mean Test Time of the Random Forrest Classifier was {0:0.3f}s.'.format(_sum_rf3/len(resultsRandomForest)))\n",
    "print('Mean Test Time of the SVM Classifier was {0:0.3f}s.'.format(_sum_svm3/len(resultsSVM)))"
   ]
  },
  {
   "cell_type": "markdown",
   "metadata": {},
   "source": [
    "## Naïve-Bayes Gaussian"
   ]
  },
  {
   "cell_type": "code",
   "execution_count": 18,
   "metadata": {
    "ExecuteTime": {
     "end_time": "2018-06-08T05:17:21.560761Z",
     "start_time": "2018-06-08T05:17:17.817153Z"
    }
   },
   "outputs": [
    {
     "name": "stdout",
     "output_type": "stream",
     "text": [
      "Naïve-Bayes Gaussian train time: 1.947s\n",
      "Naïve-Bayes Gaussian test time: 1.473s\n",
      "Accuracy: 80.420%\n"
     ]
    },
    {
     "data": {
      "image/png": "[encoded data removed]",
      "text/plain": [
       "<Figure size 864x432 with 2 Axes>"
      ]
     },
     "metadata": {},
     "output_type": "display_data"
    }
   ],
   "source": [
    "nbg = GaussianNB()\n",
    "\n",
    "t0 = time()\n",
    "nbg.fit(X_train, y_train)\n",
    "print('Naïve-Bayes Gaussian train time: {0:0.3f}s'.format(time()-t0))\n",
    "\n",
    "t0 = time()\n",
    "y_pred = nbg.predict(X_valid) \n",
    "print('Naïve-Bayes Gaussian test time: {0:0.3f}s'.format(time()-t0))\n",
    "                          \n",
    "cm = confusion_matrix(y_valid, y_pred)                      \n",
    "print('Accuracy: {0:0.3f}%'.format(100*accuracy_score(y_valid, y_pred)))  \n",
    "plot_confusion_matrix(cm, l_enc.classes_, title='Naïve-Bayes Gaussian', normalize=True)"
   ]
  },
  {
   "cell_type": "markdown",
   "metadata": {},
   "source": [
    "## Naïve-Bayes Bernoulli"
   ]
  },
  {
   "cell_type": "code",
   "execution_count": 19,
   "metadata": {
    "ExecuteTime": {
     "end_time": "2018-06-08T05:17:24.980490Z",
     "start_time": "2018-06-08T05:17:21.562646Z"
    }
   },
   "outputs": [
    {
     "name": "stdout",
     "output_type": "stream",
     "text": [
      "Naïve-Bayes Bernoulli train time: 2.492s\n",
      "Naïve-Bayes Bernoulli test time: 0.617s\n",
      "Accuracy: 90.552%\n"
     ]
    },
    {
     "data": {
      "image/png": "[encoded data removed]",
      "text/plain": [
       "<Figure size 864x432 with 2 Axes>"
      ]
     },
     "metadata": {},
     "output_type": "display_data"
    }
   ],
   "source": [
    "nbb = BernoulliNB()\n",
    "\n",
    "t0 = time()\n",
    "nbb.fit(X_train, y_train) \n",
    "print('Naïve-Bayes Bernoulli train time: {0:0.3f}s'.format(time()-t0))\n",
    "\n",
    "t0 = time()\n",
    "y_pred = nbb.predict(X_valid) \n",
    "print('Naïve-Bayes Bernoulli test time: {0:0.3f}s'.format(time()-t0))\n",
    "\n",
    "cm = confusion_matrix(y_valid, y_pred)                      \n",
    "print('Accuracy: {0:0.3f}%'.format(100*accuracy_score(y_valid, y_pred)))  \n",
    "plot_confusion_matrix(cm, l_enc.classes_, title='Naïve-Bayes Bernoulli', normalize=True)"
   ]
  },
  {
   "cell_type": "markdown",
   "metadata": {},
   "source": [
    "## Random Forest"
   ]
  },
  {
   "cell_type": "code",
   "execution_count": 20,
   "metadata": {
    "ExecuteTime": {
     "end_time": "2018-06-08T05:17:30.988832Z",
     "start_time": "2018-06-08T05:17:24.982876Z"
    }
   },
   "outputs": [
    {
     "name": "stdout",
     "output_type": "stream",
     "text": [
      "Random Forest train time: 5.527s\n",
      "Random Forest test time: 0.176s\n",
      "Accuracy: 91.385%\n"
     ]
    },
    {
     "data": {
      "image/png": "[encoded data removed]",
      "text/plain": [
       "<Figure size 864x432 with 2 Axes>"
      ]
     },
     "metadata": {},
     "output_type": "display_data"
    }
   ],
   "source": [
    "rf = RandomForestClassifier(n_jobs=16)\n",
    "\n",
    "t0 = time()\n",
    "rf.fit(X_train, y_train)\n",
    "print('Random Forest train time: {0:0.3f}s'.format(time()-t0))\n",
    "\n",
    "t0 = time()\n",
    "y_pred = rf.predict(X_valid) \n",
    "print('Random Forest test time: {0:0.3f}s'.format(time()-t0))\n",
    "                               \n",
    "cm = confusion_matrix(y_valid, y_pred)                      \n",
    "print('Accuracy: {0:0.3f}%'.format(100*accuracy_score(y_valid, y_pred)))  \n",
    "plot_confusion_matrix(cm, l_enc.classes_, title='Random Forest', normalize=True)"
   ]
  },
  {
   "cell_type": "markdown",
   "metadata": {},
   "source": [
    "## SVM"
   ]
  },
  {
   "cell_type": "code",
   "execution_count": 21,
   "metadata": {
    "ExecuteTime": {
     "end_time": "2018-06-08T05:17:50.691481Z",
     "start_time": "2018-06-08T05:17:30.990787Z"
    }
   },
   "outputs": [
    {
     "name": "stdout",
     "output_type": "stream",
     "text": [
      "SVM train time: 19.205s\n",
      "SVM test time: 0.069s\n",
      "Accuracy: 97.460%\n"
     ]
    },
    {
     "data": {
      "image/png": "[encoded data removed]",
      "text/plain": [
       "<Figure size 864x432 with 2 Axes>"
      ]
     },
     "metadata": {},
     "output_type": "display_data"
    }
   ],
   "source": [
    "lin_clf = svm.LinearSVC()\n",
    "\n",
    "t0 = time()\n",
    "lin_clf.fit(X_train, y_train)\n",
    "print('SVM train time: {0:0.3f}s'.format(time()-t0))\n",
    "\n",
    "t0 = time()\n",
    "y_pred = lin_clf.predict(X_valid)\n",
    "print('SVM test time: {0:0.3f}s'.format(time()-t0))\n",
    "                           \n",
    "cm = confusion_matrix(y_valid, y_pred)                      \n",
    "print('Accuracy: {0:0.3f}%'.format(100*accuracy_score(y_valid, y_pred)))  \n",
    "plot_confusion_matrix(cm, l_enc.classes_, title='SVM', normalize=True)"
   ]
  },
  {
   "cell_type": "markdown",
   "metadata": {},
   "source": [
    "## WiSARD"
   ]
  },
  {
   "cell_type": "markdown",
   "metadata": {},
   "source": [
    "### OneHot encoding"
   ]
  },
  {
   "cell_type": "code",
   "execution_count": 22,
   "metadata": {
    "ExecuteTime": {
     "end_time": "2018-06-08T05:20:59.645374Z",
     "start_time": "2018-06-08T05:17:50.693207Z"
    }
   },
   "outputs": [
    {
     "name": "stderr",
     "output_type": "stream",
     "text": [
      "/home/rafaenune/.local/lib/python3.6/site-packages/sklearn/preprocessing/label.py:151: DeprecationWarning: The truth value of an empty array is ambiguous. Returning False, but in future this will result in an error. Use `array.size > 0` to check that an array is not empty.\n",
      "  if diff:\n",
      "/home/rafaenune/.local/lib/python3.6/site-packages/sklearn/preprocessing/label.py:151: DeprecationWarning: The truth value of an empty array is ambiguous. Returning False, but in future this will result in an error. Use `array.size > 0` to check that an array is not empty.\n",
      "  if diff:\n"
     ]
    }
   ],
   "source": [
    "AddressSize = 4\n",
    "\n",
    "X_bool_train, y_bool_train = [], []\n",
    "for example in X_train:\n",
    "    X_bool_train.append(one_hot(example, min_value=-1.0, max_value=1.0, n=2 ** AddressSize))\n",
    "y_bool_train = l_enc.inverse_transform(y_train)\n",
    "\n",
    "X_bool_valid, y_bool_valid = [], []\n",
    "for example in X_valid:\n",
    "    X_bool_valid.append(one_hot(example, min_value=-1.0, max_value=1.0, n=2 ** AddressSize))    \n",
    "y_bool_valid = l_enc.inverse_transform(y_valid)"
   ]
  },
  {
   "cell_type": "markdown",
   "metadata": {},
   "source": [
    "### Training & testing..."
   ]
  },
  {
   "cell_type": "code",
   "execution_count": 23,
   "metadata": {
    "ExecuteTime": {
     "end_time": "2018-06-08T05:24:38.371244Z",
     "start_time": "2018-06-08T05:20:59.647832Z"
    }
   },
   "outputs": [
    {
     "name": "stdout",
     "output_type": "stream",
     "text": [
      "WiSARD train time: 99.048s\n",
      "WiSARD test time: 119.318s\n",
      "Accuracy: 17.868%\n"
     ]
    },
    {
     "data": {
      "image/png": "[encoded data removed]",
      "text/plain": [
       "<Figure size 864x432 with 2 Axes>"
      ]
     },
     "metadata": {},
     "output_type": "display_data"
    }
   ],
   "source": [
    "wsd = wp.Wisard(AddressSize, ignoreZero=True, verbose=True)\n",
    "\n",
    "t0 = time()\n",
    "wsd.train(X_bool_train, y_bool_train)\n",
    "print('WiSARD train time: {0:0.3f}s'.format(time()-t0))\n",
    "\n",
    "t0 = time()\n",
    "y_pred = wsd.classify(X_bool_valid)\n",
    "print('WiSARD test time: {0:0.3f}s'.format(time()-t0))\n",
    "\n",
    "cm = confusion_matrix(l_enc.transform(y_bool_valid), l_enc.transform(y_pred))                      \n",
    "print('Accuracy: {0:0.3f}%'.format(100*accuracy_score(l_enc.transform(y_bool_valid), l_enc.transform(y_pred))))  \n",
    "plot_confusion_matrix(cm, l_enc.classes_, title='WiSARD', normalize=True)"
   ]
  },
  {
   "cell_type": "markdown",
   "metadata": {},
   "source": [
    "## WiSARD with 10% training set"
   ]
  },
  {
   "cell_type": "markdown",
   "metadata": {},
   "source": [
    "### Resampling"
   ]
  },
  {
   "cell_type": "code",
   "execution_count": 24,
   "metadata": {
    "ExecuteTime": {
     "end_time": "2018-06-08T05:24:38.539093Z",
     "start_time": "2018-06-08T05:24:38.373256Z"
    }
   },
   "outputs": [],
   "source": [
    "X_train_re, X_valid_re, y_train_re, y_valid_re = train_test_split(X_train, y_train, test_size=0.9, random_state=543)"
   ]
  },
  {
   "cell_type": "markdown",
   "metadata": {},
   "source": [
    "### OneHot encoding"
   ]
  },
  {
   "cell_type": "code",
   "execution_count": 25,
   "metadata": {
    "ExecuteTime": {
     "end_time": "2018-06-08T05:24:53.868575Z",
     "start_time": "2018-06-08T05:24:38.541483Z"
    }
   },
   "outputs": [
    {
     "name": "stderr",
     "output_type": "stream",
     "text": [
      "/home/rafaenune/.local/lib/python3.6/site-packages/sklearn/preprocessing/label.py:151: DeprecationWarning: The truth value of an empty array is ambiguous. Returning False, but in future this will result in an error. Use `array.size > 0` to check that an array is not empty.\n",
      "  if diff:\n"
     ]
    }
   ],
   "source": [
    "AddressSize = 4\n",
    "\n",
    "X_bool_train_re, y_bool_train_re = [], []\n",
    "for example in X_train_re:\n",
    "    X_bool_train_re.append(one_hot(example, min_value=-1.0, max_value=1.0, n=2 ** AddressSize))\n",
    "y_bool_train_re = l_enc.inverse_transform(y_train_re)"
   ]
  },
  {
   "cell_type": "markdown",
   "metadata": {},
   "source": [
    "### Training & testing..."
   ]
  },
  {
   "cell_type": "code",
   "execution_count": 26,
   "metadata": {
    "ExecuteTime": {
     "end_time": "2018-06-08T05:26:25.476788Z",
     "start_time": "2018-06-08T05:24:53.870651Z"
    }
   },
   "outputs": [
    {
     "name": "stdout",
     "output_type": "stream",
     "text": [
      "WiSARD with 10% training set train time: 10.212s\n",
      "WiSARD with 10% training set test time: 81.025s\n",
      "Accuracy: 20.690%\n"
     ]
    },
    {
     "data": {
      "image/png": "[encoded data removed]",
      "text/plain": [
       "<Figure size 864x432 with 2 Axes>"
      ]
     },
     "metadata": {},
     "output_type": "display_data"
    }
   ],
   "source": [
    "wsd = wp.Wisard(AddressSize, ignoreZero=True, verbose=True)\n",
    "\n",
    "t0 = time()\n",
    "wsd.train(X_bool_train_re, y_bool_train_re)\n",
    "print('WiSARD with 10% training set train time: {0:0.3f}s'.format(time()-t0))\n",
    "\n",
    "t0 = time()\n",
    "y_pred = wsd.classify(X_bool_valid)\n",
    "print('WiSARD with 10% training set test time: {0:0.3f}s'.format(time()-t0))\n",
    "\n",
    "cm = confusion_matrix(l_enc.transform(y_bool_valid), l_enc.transform(y_pred))                      \n",
    "print('Accuracy: {0:0.3f}%'.format(100*accuracy_score(l_enc.transform(y_bool_valid), l_enc.transform(y_pred))))  \n",
    "plot_confusion_matrix(cm, l_enc.classes_, title='WiSARD with 10% training set', normalize=True)"
   ]
  },
  {
   "cell_type": "code",
   "execution_count": null,
   "metadata": {},
   "outputs": [],
   "source": []
  }
 ],
 "metadata": {
  "anaconda-cloud": {},
  "hide_input": false,
  "kernelspec": {
   "display_name": "Python 3",
   "language": "python",
   "name": "python3"
  },
  "language_info": {
   "codemirror_mode": {
    "name": "ipython",
    "version": 3
   },
   "file_extension": ".py",
   "mimetype": "text/x-python",
   "name": "python",
   "nbconvert_exporter": "python",
   "pygments_lexer": "ipython3",
   "version": "3.6.3"
  },
  "latex_envs": {
   "LaTeX_envs_menu_present": true,
   "autoclose": false,
   "autocomplete": true,
   "bibliofile": "biblio.bib",
   "cite_by": "apalike",
   "current_citInitial": 1,
   "eqLabelWithNumbers": true,
   "eqNumInitial": 1,
   "hotkeys": {
    "equation": "Ctrl-E",
    "itemize": "Ctrl-I"
   },
   "labels_anchors": false,
   "latex_user_defs": false,
   "report_style_numbering": false,
   "user_envs_cfg": false
  },
  "varInspector": {
   "cols": {
    "lenName": 16,
    "lenType": 16,
    "lenVar": 40
   },
   "kernels_config": {
    "python": {
     "delete_cmd_postfix": "",
     "delete_cmd_prefix": "del ",
     "library": "var_list.py",
     "varRefreshCmd": "print(var_dic_list())"
    },
    "r": {
     "delete_cmd_postfix": ") ",
     "delete_cmd_prefix": "rm(",
     "library": "var_list.r",
     "varRefreshCmd": "cat(var_dic_list()) "
    }
   },
   "types_to_exclude": [
    "module",
    "function",
    "builtin_function_or_method",
    "instance",
    "_Feature"
   ],
   "window_display": false
  }
 },
 "nbformat": 4,
 "nbformat_minor": 1
}
