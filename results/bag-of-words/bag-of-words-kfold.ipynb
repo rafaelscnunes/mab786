{
 "cells": [
  {
   "cell_type": "markdown",
   "metadata": {},
   "source": [
    "# Setup"
   ]
  },
  {
   "cell_type": "code",
   "execution_count": 1,
   "metadata": {
    "ExecuteTime": {
     "end_time": "2018-05-18T05:47:54.531599Z",
     "start_time": "2018-05-18T05:47:53.417654Z"
    }
   },
   "outputs": [],
   "source": [
    "import numpy as np\n",
    "import pandas as pd\n",
    "pd.options.mode.chained_assignment = None  # default='warn'\n",
    "\n",
    "import seaborn as sns\n",
    "color = sns.color_palette()\n",
    "import matplotlib.pyplot as plt \n",
    "%matplotlib inline\n",
    "\n",
    "from nltk.corpus import stopwords\n",
    "STOP_WORDS = set(stopwords.words('english'))\n",
    "from nltk import word_tokenize, ngrams\n",
    "\n",
    "from sklearn.ensemble import RandomForestClassifier\n",
    "from sklearn.utils import resample\n",
    "from sklearn.metrics import log_loss\n",
    "from sklearn.model_selection import KFold\n",
    "from sklearn.preprocessing import LabelEncoder\n",
    "from sklearn.decomposition import TruncatedSVD\n",
    "from sklearn.model_selection import train_test_split\n",
    "from sklearn.model_selection import StratifiedKFold\n",
    "qtd_splits = 10\n",
    "from sklearn.feature_extraction.text import TfidfVectorizer\n",
    "from sklearn.naive_bayes import GaussianNB\n",
    "from sklearn.naive_bayes import BernoulliNB\n",
    "from sklearn.metrics import confusion_matrix\n",
    "from sklearn.metrics import accuracy_score\n",
    "from sklearn import svm\n",
    "from time import time\n",
    "from collections import defaultdict\n",
    "\n",
    "import itertools\n",
    "#import xgboost as xgb"
   ]
  },
  {
   "cell_type": "markdown",
   "metadata": {},
   "source": [
    "# Pre-processing"
   ]
  },
  {
   "cell_type": "markdown",
   "metadata": {},
   "source": [
    "## Importing..."
   ]
  },
  {
   "cell_type": "code",
   "execution_count": 2,
   "metadata": {
    "ExecuteTime": {
     "end_time": "2018-05-18T05:47:55.298508Z",
     "start_time": "2018-05-18T05:47:54.534549Z"
    }
   },
   "outputs": [],
   "source": [
    "# df = pd.read_csv('pizza.csv')\n",
    "# df = pd.read_csv('pizza.csv', parse_dates=['dates'])\n",
    "# df = pd.read_csv('pizza.csv', usecols=['foo', 'bar'])\n",
    "\n",
    "df = {\n",
    "    \"cooking\": pd.read_csv('../../dataset/processed/cooking.csv', usecols=['title', 'content']),\n",
    "    \"crypto\": pd.read_csv('../../dataset/processed/crypto.csv', usecols=['title', 'content']),\n",
    "    \"robotics\": pd.read_csv('../../dataset/processed/robotics.csv', usecols=['title', 'content']),\n",
    "    \"biology\": pd.read_csv('../../dataset/processed/biology.csv', usecols=['title', 'content']),\n",
    "    \"travel\": pd.read_csv('../../dataset/processed/travel.csv', usecols=['title', 'content']),\n",
    "    \"diy\": pd.read_csv('../../dataset/processed/diy.csv', usecols=['title', 'content']),\n",
    "    #\"physics\": pd.read_csv('physics.csv'),\n",
    "}"
   ]
  },
  {
   "cell_type": "markdown",
   "metadata": {},
   "source": [
    "## Generating new .csv file with title+content and class columns..."
   ]
  },
  {
   "cell_type": "code",
   "execution_count": 3,
   "metadata": {
    "ExecuteTime": {
     "end_time": "2018-05-18T05:47:59.134944Z",
     "start_time": "2018-05-18T05:47:55.301064Z"
    }
   },
   "outputs": [],
   "source": [
    "with open('../../dataset/processed/data.csv', 'w') as f:\n",
    "    f.write('title_content|label\\n')\n",
    "    for _class in df:\n",
    "        df[_class]['title_content'] = df[_class][['title', 'content']].apply(lambda x: '{} {}'.format(x[0],x[1]), axis=1)\n",
    "        df[_class]['label'] = _class\n",
    "        df[_class].to_csv(f, sep='|', columns=['title_content', 'label'], header=False, index=False)"
   ]
  },
  {
   "cell_type": "markdown",
   "metadata": {
    "ExecuteTime": {
     "end_time": "2018-04-27T02:48:59.162152Z",
     "start_time": "2018-04-27T02:48:59.120563Z"
    }
   },
   "source": [
    "# Data Analysis"
   ]
  },
  {
   "cell_type": "markdown",
   "metadata": {},
   "source": [
    "## Exploration"
   ]
  },
  {
   "cell_type": "code",
   "execution_count": 4,
   "metadata": {
    "ExecuteTime": {
     "end_time": "2018-05-18T05:48:00.069571Z",
     "start_time": "2018-05-18T05:47:59.137825Z"
    }
   },
   "outputs": [
    {
     "data": {
      "text/html": [
       "<div>\n",
       "<style scoped>\n",
       "    .dataframe tbody tr th:only-of-type {\n",
       "        vertical-align: middle;\n",
       "    }\n",
       "\n",
       "    .dataframe tbody tr th {\n",
       "        vertical-align: top;\n",
       "    }\n",
       "\n",
       "    .dataframe thead th {\n",
       "        text-align: right;\n",
       "    }\n",
       "</style>\n",
       "<table border=\"1\" class=\"dataframe\">\n",
       "  <thead>\n",
       "    <tr style=\"text-align: right;\">\n",
       "      <th></th>\n",
       "      <th>title_content</th>\n",
       "      <th>label</th>\n",
       "    </tr>\n",
       "  </thead>\n",
       "  <tbody>\n",
       "    <tr>\n",
       "      <th>count</th>\n",
       "      <td>87000</td>\n",
       "      <td>87000</td>\n",
       "    </tr>\n",
       "    <tr>\n",
       "      <th>unique</th>\n",
       "      <td>86988</td>\n",
       "      <td>6</td>\n",
       "    </tr>\n",
       "    <tr>\n",
       "      <th>top</th>\n",
       "      <td>there strong reason for gcm bit limit reading ...</td>\n",
       "      <td>diy</td>\n",
       "    </tr>\n",
       "    <tr>\n",
       "      <th>freq</th>\n",
       "      <td>2</td>\n",
       "      <td>25918</td>\n",
       "    </tr>\n",
       "  </tbody>\n",
       "</table>\n",
       "</div>"
      ],
      "text/plain": [
       "                                            title_content  label\n",
       "count                                               87000  87000\n",
       "unique                                              86988      6\n",
       "top     there strong reason for gcm bit limit reading ...    diy\n",
       "freq                                                    2  25918"
      ]
     },
     "execution_count": 4,
     "metadata": {},
     "output_type": "execute_result"
    }
   ],
   "source": [
    "dataset = pd.read_csv('../../dataset/processed/data.csv', sep='|')\n",
    "# dataset.head()\n",
    "# dataset.tail()\n",
    "dataset.sample(5)\n",
    "# dataset.shape\n",
    "dataset.describe()\n",
    "# dataset.info()"
   ]
  },
  {
   "cell_type": "markdown",
   "metadata": {},
   "source": [
    "## Labels distribution"
   ]
  },
  {
   "cell_type": "markdown",
   "metadata": {},
   "source": [
    "### Absolut numbers & Percentage"
   ]
  },
  {
   "cell_type": "code",
   "execution_count": 5,
   "metadata": {
    "ExecuteTime": {
     "end_time": "2018-05-18T05:48:00.095335Z",
     "start_time": "2018-05-18T05:48:00.071676Z"
    }
   },
   "outputs": [
    {
     "name": "stdout",
     "output_type": "stream",
     "text": [
      "count        6.000000\n",
      "mean     14500.000000\n",
      "std       7872.042454\n",
      "min       2771.000000\n",
      "25%      11123.000000\n",
      "50%      14300.000000\n",
      "75%      18310.250000\n",
      "max      25918.000000\n",
      "Name: label, dtype: float64\n",
      "biology     13196\n",
      "cooking     15404\n",
      "crypto      10432\n",
      "diy         25918\n",
      "robotics     2771\n",
      "travel      19279\n",
      "Name: label, dtype: int64\n",
      "biology     15.167816\n",
      "cooking     17.705747\n",
      "crypto      11.990805\n",
      "diy         29.790805\n",
      "robotics     3.185057\n",
      "travel      22.159770\n",
      "Name: label, dtype: float64\n"
     ]
    }
   ],
   "source": [
    "labels = dataset['label'].value_counts()\n",
    "print(labels.describe())\n",
    "print(labels.sort_index())\n",
    "print(labels.sort_index()/labels.sum()*100)"
   ]
  },
  {
   "cell_type": "markdown",
   "metadata": {},
   "source": [
    "### Histogram"
   ]
  },
  {
   "cell_type": "code",
   "execution_count": 6,
   "metadata": {
    "ExecuteTime": {
     "end_time": "2018-05-18T05:48:00.580555Z",
     "start_time": "2018-05-18T05:48:00.097754Z"
    }
   },
   "outputs": [
    {
     "data": {
      "image/png": "[encoded data removed]",
      "text/plain": [
       "<Figure size 1440x720 with 1 Axes>"
      ]
     },
     "metadata": {},
     "output_type": "display_data"
    }
   ],
   "source": [
    "fig = plt.figure(figsize=(20, 10))\n",
    "ax1 = sns.countplot(dataset['label'].sort_values())\n",
    "plt.ylabel('Observations', fontsize=12)\n",
    "plt.xlabel('Labels', fontsize=12)\n",
    "plt.xticks(rotation='vertical')\n",
    "plt.title('Labels frequency histogram')\n",
    "plt.show()"
   ]
  },
  {
   "cell_type": "markdown",
   "metadata": {},
   "source": [
    "## Word distribution"
   ]
  },
  {
   "cell_type": "markdown",
   "metadata": {},
   "source": [
    "### Statistics of the number of words (size) of title_content text field"
   ]
  },
  {
   "cell_type": "code",
   "execution_count": 7,
   "metadata": {
    "ExecuteTime": {
     "end_time": "2018-05-18T05:48:01.054287Z",
     "start_time": "2018-05-18T05:48:00.583216Z"
    }
   },
   "outputs": [],
   "source": [
    "dataset['size'] = dataset['title_content'].apply(lambda x : len(str(x).split()))\n",
    "sizes = dataset['size'].value_counts()"
   ]
  },
  {
   "cell_type": "code",
   "execution_count": 8,
   "metadata": {
    "ExecuteTime": {
     "end_time": "2018-05-18T05:48:01.072245Z",
     "start_time": "2018-05-18T05:48:01.057110Z"
    }
   },
   "outputs": [
    {
     "name": "stdout",
     "output_type": "stream",
     "text": [
      "The top 20 most frequent size of title_content, and their respective frequency:\n",
      "44    1065\n",
      "39    1058\n",
      "35    1055\n",
      "42    1053\n",
      "51    1023\n",
      "45    1023\n",
      "47    1016\n",
      "50    1008\n",
      "41    1008\n",
      "37     995\n",
      "36     989\n",
      "55     983\n",
      "38     982\n",
      "46     978\n",
      "40     959\n",
      "33     956\n",
      "32     953\n",
      "34     952\n",
      "31     949\n",
      "43     948\n",
      "Name: size, dtype: int64\n"
     ]
    }
   ],
   "source": [
    "dataset['size'].describe()\n",
    "print('The top 20 most frequent size of title_content, and their respective frequency:')\n",
    "print(sizes.nlargest(20))"
   ]
  },
  {
   "cell_type": "markdown",
   "metadata": {},
   "source": [
    "### Histogram"
   ]
  },
  {
   "cell_type": "code",
   "execution_count": 9,
   "metadata": {
    "ExecuteTime": {
     "end_time": "2018-05-18T05:48:05.791708Z",
     "start_time": "2018-05-18T05:48:01.074547Z"
    }
   },
   "outputs": [
    {
     "data": {
      "image/png": "[encoded data removed]",
      "text/plain": [
       "<Figure size 1440x720 with 1 Axes>"
      ]
     },
     "metadata": {},
     "output_type": "display_data"
    }
   ],
   "source": [
    "fig = plt.figure(figsize=(20, 10))\n",
    "ax1 = sns.barplot(sizes.index, sizes.values, alpha=0.8)\n",
    "ax1.set_xticklabels([])\n",
    "plt.title('Number of words frequency histogram')\n",
    "plt.ylabel('Number of Occurrences', fontsize=12)\n",
    "plt.xlabel('Number of words', fontsize=12)\n",
    "plt.show()"
   ]
  },
  {
   "cell_type": "markdown",
   "metadata": {},
   "source": [
    "## Data example"
   ]
  },
  {
   "cell_type": "markdown",
   "metadata": {},
   "source": [
    "### Robotics texts with more than 200 words"
   ]
  },
  {
   "cell_type": "code",
   "execution_count": 10,
   "metadata": {
    "ExecuteTime": {
     "end_time": "2018-05-18T05:48:06.299097Z",
     "start_time": "2018-05-18T05:48:05.793976Z"
    }
   },
   "outputs": [
    {
     "data": {
      "text/html": [
       "<div>\n",
       "<style scoped>\n",
       "    .dataframe tbody tr th:only-of-type {\n",
       "        vertical-align: middle;\n",
       "    }\n",
       "\n",
       "    .dataframe tbody tr th {\n",
       "        vertical-align: top;\n",
       "    }\n",
       "\n",
       "    .dataframe thead th {\n",
       "        text-align: right;\n",
       "    }\n",
       "</style>\n",
       "<table border=\"1\" class=\"dataframe\">\n",
       "  <thead>\n",
       "    <tr style=\"text-align: right;\">\n",
       "      <th></th>\n",
       "      <th>size</th>\n",
       "    </tr>\n",
       "  </thead>\n",
       "  <tbody>\n",
       "    <tr>\n",
       "      <th>count</th>\n",
       "      <td>237.000000</td>\n",
       "    </tr>\n",
       "    <tr>\n",
       "      <th>mean</th>\n",
       "      <td>299.438819</td>\n",
       "    </tr>\n",
       "    <tr>\n",
       "      <th>std</th>\n",
       "      <td>133.648324</td>\n",
       "    </tr>\n",
       "    <tr>\n",
       "      <th>min</th>\n",
       "      <td>201.000000</td>\n",
       "    </tr>\n",
       "    <tr>\n",
       "      <th>25%</th>\n",
       "      <td>226.000000</td>\n",
       "    </tr>\n",
       "    <tr>\n",
       "      <th>50%</th>\n",
       "      <td>257.000000</td>\n",
       "    </tr>\n",
       "    <tr>\n",
       "      <th>75%</th>\n",
       "      <td>318.000000</td>\n",
       "    </tr>\n",
       "    <tr>\n",
       "      <th>max</th>\n",
       "      <td>1276.000000</td>\n",
       "    </tr>\n",
       "  </tbody>\n",
       "</table>\n",
       "</div>"
      ],
      "text/plain": [
       "              size\n",
       "count   237.000000\n",
       "mean    299.438819\n",
       "std     133.648324\n",
       "min     201.000000\n",
       "25%     226.000000\n",
       "50%     257.000000\n",
       "75%     318.000000\n",
       "max    1276.000000"
      ]
     },
     "execution_count": 10,
     "metadata": {},
     "output_type": "execute_result"
    }
   ],
   "source": [
    "filtered_data = dataset[(dataset.label == 'robotics') & (dataset.title_content.apply(lambda x : len(str(x).split())) > 200)]\n",
    "filtered_data.describe()"
   ]
  },
  {
   "cell_type": "markdown",
   "metadata": {},
   "source": [
    "### Cell content example"
   ]
  },
  {
   "cell_type": "code",
   "execution_count": 11,
   "metadata": {
    "ExecuteTime": {
     "end_time": "2018-05-18T05:48:06.309535Z",
     "start_time": "2018-05-18T05:48:06.301397Z"
    }
   },
   "outputs": [
    {
     "name": "stdout",
     "output_type": "stream",
     "text": [
      "TEXT: visa needed for transit heatrow wife ukrainian citizen with romanian residency permit have tickets for flight madrid heatrow seoul see below details jue iberia turista madrid adolfo rez barajas terminal londres heathrow terminal jue british airways turista londres heathrow terminal seoul incheon want understand she needs transit visa not far that there the datv visa which can used you will not thourgh border control but don know this the case not will not have checkin our luggage but there any other border control that might have pass the terminals will change and not both flights will depart from terminal according this you don need apply for one you have eea family permit which seems the case this situation she not required any visa all\n",
      "LABEL: travel\n",
      "LENGTH: 124 words.\n"
     ]
    }
   ],
   "source": [
    "line=61041\n",
    "print('TEXT: {0}'.format(dataset.loc[61041, 'title_content']))\n",
    "print('LABEL: {0}'.format(dataset.loc[61041, 'label']))\n",
    "print('LENGTH: {0} words.'.format(len(dataset.loc[61041, 'title_content'].split())))"
   ]
  },
  {
   "cell_type": "markdown",
   "metadata": {
    "hide_input": false
   },
   "source": [
    "# Sampling"
   ]
  },
  {
   "cell_type": "code",
   "execution_count": 12,
   "metadata": {
    "ExecuteTime": {
     "end_time": "2018-05-18T05:48:06.871399Z",
     "start_time": "2018-05-18T05:48:06.311588Z"
    }
   },
   "outputs": [
    {
     "data": {
      "image/png": "[encoded data removed]",
      "text/plain": [
       "<Figure size 1440x720 with 1 Axes>"
      ]
     },
     "metadata": {},
     "output_type": "display_data"
    }
   ],
   "source": [
    "ds = {}\n",
    "for label in labels.keys():\n",
    "    ds[label] = dataset[dataset.label == label]\n",
    "#     ds[label] = resample(ds[label], replace=False, n_samples=labels.min(), random_state=711)\n",
    "ds = pd.concat(ds[label] for label in ds)\n",
    "\n",
    "fig = plt.figure(figsize=(20, 10))\n",
    "ax1 = sns.countplot(ds['label'].sort_values())\n",
    "plt.ylabel('Observations', fontsize=12)\n",
    "plt.xlabel('Labels', fontsize=12)\n",
    "# plt.xticks(rotation='vertical')\n",
    "plt.title('Labels Histogram')\n",
    "plt.show()"
   ]
  },
  {
   "cell_type": "markdown",
   "metadata": {},
   "source": [
    "# Bag-of-Words"
   ]
  },
  {
   "cell_type": "code",
   "execution_count": 13,
   "metadata": {
    "ExecuteTime": {
     "end_time": "2018-05-18T05:48:13.817772Z",
     "start_time": "2018-05-18T05:48:06.873570Z"
    }
   },
   "outputs": [
    {
     "name": "stdout",
     "output_type": "stream",
     "text": [
      "(87000, 37087)\n",
      "Encoded labels:  [(0, 'biology'), (1, 'cooking'), (2, 'crypto'), (3, 'diy'), (4, 'robotics'), (5, 'travel')]\n"
     ]
    }
   ],
   "source": [
    "tfidf = TfidfVectorizer(analyzer='word',\n",
    "                        stop_words=STOP_WORDS,\n",
    "                        ngram_range=(1,1),\n",
    "                        max_df=0.7, min_df=2,\n",
    "                        sublinear_tf=True)\n",
    "X = tfidf.fit_transform(ds['title_content'])\n",
    "print(X.shape)\n",
    "\n",
    "l_enc = LabelEncoder()\n",
    "y = l_enc.fit_transform(ds['label'])\n",
    "print('Encoded labels: ', list([(i, l_enc.classes_[i]) for i in range(0, len(l_enc.classes_))]))"
   ]
  },
  {
   "cell_type": "markdown",
   "metadata": {},
   "source": [
    "# Dimensionality reduction"
   ]
  },
  {
   "cell_type": "code",
   "execution_count": 14,
   "metadata": {
    "ExecuteTime": {
     "end_time": "2018-05-18T05:51:02.014747Z",
     "start_time": "2018-05-18T05:48:13.820531Z"
    }
   },
   "outputs": [
    {
     "name": "stdout",
     "output_type": "stream",
     "text": [
      "Shape of svd matrix:  (87000, 1000)\n"
     ]
    }
   ],
   "source": [
    "svd = TruncatedSVD(n_components=1000, algorithm='randomized')\n",
    "X_svd = svd.fit_transform(X)\n",
    "print('Shape of svd matrix: ', X_svd.shape)"
   ]
  },
  {
   "cell_type": "markdown",
   "metadata": {},
   "source": [
    "# Split Train/Test examples"
   ]
  },
  {
   "cell_type": "code",
   "execution_count": 16,
   "metadata": {
    "ExecuteTime": {
     "end_time": "2018-05-18T05:53:24.483785Z",
     "start_time": "2018-05-18T05:53:23.818642Z"
    }
   },
   "outputs": [
    {
     "name": "stdout",
     "output_type": "stream",
     "text": [
      "X_train matrix shape is: (69600, 1000)\n",
      "X_valid matrix shape is: (17400, 1000)\n",
      "y_train matrix shape is: (69600,)\n",
      "y_valid matrix shape is: (17400,)\n"
     ]
    }
   ],
   "source": [
    "# X = np.concatenate([svd_titulo, svd_resumo], axis=1)\n",
    "X_train, X_valid, y_train, y_valid = train_test_split(X_svd, y, test_size=0.2, random_state=283)\n",
    "\n",
    "print('X_train matrix shape is: {0}'.format(X_train.shape))\n",
    "print('X_valid matrix shape is: {0}'.format(X_valid.shape))\n",
    "print('y_train matrix shape is: {0}'.format(y_train.shape))\n",
    "print('y_valid matrix shape is: {0}'.format(y_valid.shape))"
   ]
  },
  {
   "cell_type": "markdown",
   "metadata": {},
   "source": [
    "# Functions"
   ]
  },
  {
   "cell_type": "code",
   "execution_count": 17,
   "metadata": {
    "ExecuteTime": {
     "end_time": "2018-05-18T05:53:28.972891Z",
     "start_time": "2018-05-18T05:53:28.962009Z"
    }
   },
   "outputs": [],
   "source": [
    "def plot_confusion_matrix(cm, classes,\n",
    "                          normalize=False,\n",
    "                          title='',\n",
    "                          cmap=plt.cm.Blues):\n",
    "    \"\"\"\n",
    "    This function prints and plots the confusion matrix.\n",
    "    Normalization can be applied by setting `normalize=True`.\n",
    "    \"\"\"\n",
    "      \n",
    "    plt.figure(figsize=(12,6))\n",
    "    \n",
    "    if normalize:\n",
    "        cm = cm.astype('float') / cm.sum(axis=1)[:, np.newaxis]\n",
    "        plt.title(title + \" normalized confusion matrix\")\n",
    "    else:\n",
    "        plt.title(title + ' confusion matrix, without normalization')\n",
    "        \n",
    "    plt.imshow(cm, interpolation='nearest', cmap=cmap)\n",
    "    plt.colorbar()\n",
    "    tick_marks = np.arange(len(classes))\n",
    "    plt.xticks(tick_marks, classes, rotation=45)\n",
    "    plt.yticks(tick_marks, classes)\n",
    "\n",
    "    #print(cm)\n",
    "\n",
    "    fmt = '.2f' if normalize else 'd'\n",
    "    thresh = cm.max() / 2.\n",
    "    for i, j in itertools.product(range(cm.shape[0]), range(cm.shape[1])):\n",
    "        plt.text(j, i, format(cm[i, j], fmt),\n",
    "                 horizontalalignment=\"center\",\n",
    "                 color=\"white\" if cm[i, j] > thresh else \"black\")\n",
    "    plt.tight_layout()\n",
    "    plt.ylabel('True class')\n",
    "    plt.xlabel('Predicted class')\n",
    "    plt.show()\n",
    "    \n",
    "\n",
    "def benchmark(clf, X_train, y_train, X_test, y_test):\n",
    "\n",
    "    print(\"Training: \")\n",
    "    print(clf)\n",
    "    t0 = time()\n",
    "    clf.fit(X_train, y_train)\n",
    "    train_time = time() - t0\n",
    "    print(\"train time: %0.3fs\" % train_time)\n",
    "\n",
    "    t0 = time()\n",
    "    pred = clf.predict(X_test)\n",
    "    test_time = time() - t0\n",
    "    print(\"test time:  %0.3fs\" % test_time)\n",
    "\n",
    "    score = accuracy_score(y_test, pred)\n",
    "    print(\"accuracy:   %0.3f\" % score)\n",
    "    \n",
    "    print()\n",
    "    \n",
    "    clf_descr = str(clf).split('(')[0]\n",
    "    print(\"Done with \" + clf_descr)\n",
    "    print('_' * 80)\n",
    "    \n",
    "    return clf_descr, score, train_time, test_time"
   ]
  },
  {
   "cell_type": "markdown",
   "metadata": {},
   "source": [
    "# KFold"
   ]
  },
  {
   "cell_type": "code",
   "execution_count": 18,
   "metadata": {
    "ExecuteTime": {
     "end_time": "2018-05-18T06:05:25.913760Z",
     "start_time": "2018-05-18T05:53:31.133815Z"
    }
   },
   "outputs": [
    {
     "name": "stdout",
     "output_type": "stream",
     "text": [
      "Training: \n",
      "GaussianNB(priors=None)\n",
      "train time: 2.136s\n",
      "test time:  0.657s\n",
      "accuracy:   0.801\n",
      "\n",
      "Done with GaussianNB\n",
      "________________________________________________________________________________\n",
      "Training: \n",
      "BernoulliNB(alpha=1.0, binarize=0.0, class_prior=None, fit_prior=True)\n",
      "train time: 2.676s\n",
      "test time:  0.301s\n",
      "accuracy:   0.906\n",
      "\n",
      "Done with BernoulliNB\n",
      "________________________________________________________________________________\n",
      "Training: \n",
      "RandomForestClassifier(bootstrap=True, class_weight=None, criterion='gini',\n",
      "            max_depth=None, max_features='auto', max_leaf_nodes=None,\n",
      "            min_impurity_decrease=0.0, min_impurity_split=None,\n",
      "            min_samples_leaf=1, min_samples_split=2,\n",
      "            min_weight_fraction_leaf=0.0, n_estimators=10, n_jobs=1,\n",
      "            oob_score=False, random_state=None, verbose=0,\n",
      "            warm_start=False)\n",
      "train time: 43.932s\n",
      "test time:  0.081s\n",
      "accuracy:   0.916\n",
      "\n",
      "Done with RandomForestClassifier\n",
      "________________________________________________________________________________\n",
      "Training: \n",
      "LinearSVC(C=1.0, class_weight=None, dual=True, fit_intercept=True,\n",
      "     intercept_scaling=1, loss='squared_hinge', max_iter=1000,\n",
      "     multi_class='ovr', penalty='l2', random_state=None, tol=0.0001,\n",
      "     verbose=0)\n",
      "train time: 21.201s\n",
      "test time:  0.028s\n",
      "accuracy:   0.976\n",
      "\n",
      "Done with LinearSVC\n",
      "________________________________________________________________________________\n",
      "Training: \n",
      "GaussianNB(priors=None)\n",
      "train time: 2.076s\n",
      "test time:  0.681s\n",
      "accuracy:   0.813\n",
      "\n",
      "Done with GaussianNB\n",
      "________________________________________________________________________________\n",
      "Training: \n",
      "BernoulliNB(alpha=1.0, binarize=0.0, class_prior=None, fit_prior=True)\n",
      "train time: 2.512s\n",
      "test time:  0.293s\n",
      "accuracy:   0.904\n",
      "\n",
      "Done with BernoulliNB\n",
      "________________________________________________________________________________\n",
      "Training: \n",
      "RandomForestClassifier(bootstrap=True, class_weight=None, criterion='gini',\n",
      "            max_depth=None, max_features='auto', max_leaf_nodes=None,\n",
      "            min_impurity_decrease=0.0, min_impurity_split=None,\n",
      "            min_samples_leaf=1, min_samples_split=2,\n",
      "            min_weight_fraction_leaf=0.0, n_estimators=10, n_jobs=1,\n",
      "            oob_score=False, random_state=None, verbose=0,\n",
      "            warm_start=False)\n",
      "train time: 41.193s\n",
      "test time:  0.086s\n",
      "accuracy:   0.912\n",
      "\n",
      "Done with RandomForestClassifier\n",
      "________________________________________________________________________________\n",
      "Training: \n",
      "LinearSVC(C=1.0, class_weight=None, dual=True, fit_intercept=True,\n",
      "     intercept_scaling=1, loss='squared_hinge', max_iter=1000,\n",
      "     multi_class='ovr', penalty='l2', random_state=None, tol=0.0001,\n",
      "     verbose=0)\n",
      "train time: 23.337s\n",
      "test time:  0.033s\n",
      "accuracy:   0.973\n",
      "\n",
      "Done with LinearSVC\n",
      "________________________________________________________________________________\n",
      "Training: \n",
      "GaussianNB(priors=None)\n",
      "train time: 2.387s\n",
      "test time:  0.791s\n",
      "accuracy:   0.810\n",
      "\n",
      "Done with GaussianNB\n",
      "________________________________________________________________________________\n",
      "Training: \n",
      "BernoulliNB(alpha=1.0, binarize=0.0, class_prior=None, fit_prior=True)\n",
      "train time: 2.738s\n",
      "test time:  0.262s\n",
      "accuracy:   0.910\n",
      "\n",
      "Done with BernoulliNB\n",
      "________________________________________________________________________________\n",
      "Training: \n",
      "RandomForestClassifier(bootstrap=True, class_weight=None, criterion='gini',\n",
      "            max_depth=None, max_features='auto', max_leaf_nodes=None,\n",
      "            min_impurity_decrease=0.0, min_impurity_split=None,\n",
      "            min_samples_leaf=1, min_samples_split=2,\n",
      "            min_weight_fraction_leaf=0.0, n_estimators=10, n_jobs=1,\n",
      "            oob_score=False, random_state=None, verbose=0,\n",
      "            warm_start=False)\n",
      "train time: 42.253s\n",
      "test time:  0.092s\n",
      "accuracy:   0.915\n",
      "\n",
      "Done with RandomForestClassifier\n",
      "________________________________________________________________________________\n",
      "Training: \n",
      "LinearSVC(C=1.0, class_weight=None, dual=True, fit_intercept=True,\n",
      "     intercept_scaling=1, loss='squared_hinge', max_iter=1000,\n",
      "     multi_class='ovr', penalty='l2', random_state=None, tol=0.0001,\n",
      "     verbose=0)\n",
      "train time: 21.574s\n",
      "test time:  0.030s\n",
      "accuracy:   0.978\n",
      "\n",
      "Done with LinearSVC\n",
      "________________________________________________________________________________\n",
      "Training: \n",
      "GaussianNB(priors=None)\n",
      "train time: 2.231s\n",
      "test time:  0.690s\n",
      "accuracy:   0.803\n",
      "\n",
      "Done with GaussianNB\n",
      "________________________________________________________________________________\n",
      "Training: \n",
      "BernoulliNB(alpha=1.0, binarize=0.0, class_prior=None, fit_prior=True)\n",
      "train time: 2.535s\n",
      "test time:  0.265s\n",
      "accuracy:   0.904\n",
      "\n",
      "Done with BernoulliNB\n",
      "________________________________________________________________________________\n",
      "Training: \n",
      "RandomForestClassifier(bootstrap=True, class_weight=None, criterion='gini',\n",
      "            max_depth=None, max_features='auto', max_leaf_nodes=None,\n",
      "            min_impurity_decrease=0.0, min_impurity_split=None,\n",
      "            min_samples_leaf=1, min_samples_split=2,\n",
      "            min_weight_fraction_leaf=0.0, n_estimators=10, n_jobs=1,\n",
      "            oob_score=False, random_state=None, verbose=0,\n",
      "            warm_start=False)\n",
      "train time: 42.884s\n",
      "test time:  0.086s\n",
      "accuracy:   0.910\n",
      "\n",
      "Done with RandomForestClassifier\n",
      "________________________________________________________________________________\n",
      "Training: \n",
      "LinearSVC(C=1.0, class_weight=None, dual=True, fit_intercept=True,\n",
      "     intercept_scaling=1, loss='squared_hinge', max_iter=1000,\n",
      "     multi_class='ovr', penalty='l2', random_state=None, tol=0.0001,\n",
      "     verbose=0)\n",
      "train time: 22.365s\n",
      "test time:  0.036s\n",
      "accuracy:   0.975\n",
      "\n",
      "Done with LinearSVC\n",
      "________________________________________________________________________________\n",
      "Training: \n",
      "GaussianNB(priors=None)\n",
      "train time: 2.231s\n",
      "test time:  0.821s\n",
      "accuracy:   0.806\n",
      "\n",
      "Done with GaussianNB\n",
      "________________________________________________________________________________\n",
      "Training: \n",
      "BernoulliNB(alpha=1.0, binarize=0.0, class_prior=None, fit_prior=True)\n",
      "train time: 2.708s\n",
      "test time:  0.266s\n",
      "accuracy:   0.904\n",
      "\n",
      "Done with BernoulliNB\n",
      "________________________________________________________________________________\n",
      "Training: \n",
      "RandomForestClassifier(bootstrap=True, class_weight=None, criterion='gini',\n",
      "            max_depth=None, max_features='auto', max_leaf_nodes=None,\n",
      "            min_impurity_decrease=0.0, min_impurity_split=None,\n",
      "            min_samples_leaf=1, min_samples_split=2,\n",
      "            min_weight_fraction_leaf=0.0, n_estimators=10, n_jobs=1,\n",
      "            oob_score=False, random_state=None, verbose=0,\n",
      "            warm_start=False)\n",
      "train time: 44.381s\n",
      "test time:  0.078s\n",
      "accuracy:   0.907\n",
      "\n",
      "Done with RandomForestClassifier\n",
      "________________________________________________________________________________\n",
      "Training: \n",
      "LinearSVC(C=1.0, class_weight=None, dual=True, fit_intercept=True,\n",
      "     intercept_scaling=1, loss='squared_hinge', max_iter=1000,\n",
      "     multi_class='ovr', penalty='l2', random_state=None, tol=0.0001,\n",
      "     verbose=0)\n",
      "train time: 21.649s\n",
      "test time:  0.034s\n",
      "accuracy:   0.974\n",
      "\n",
      "Done with LinearSVC\n",
      "________________________________________________________________________________\n",
      "Training: \n",
      "GaussianNB(priors=None)\n",
      "train time: 2.013s\n",
      "test time:  0.643s\n",
      "accuracy:   0.811\n",
      "\n",
      "Done with GaussianNB\n",
      "________________________________________________________________________________\n",
      "Training: \n",
      "BernoulliNB(alpha=1.0, binarize=0.0, class_prior=None, fit_prior=True)\n",
      "train time: 2.451s\n",
      "test time:  0.310s\n",
      "accuracy:   0.905\n",
      "\n",
      "Done with BernoulliNB\n",
      "________________________________________________________________________________\n",
      "Training: \n",
      "RandomForestClassifier(bootstrap=True, class_weight=None, criterion='gini',\n",
      "            max_depth=None, max_features='auto', max_leaf_nodes=None,\n",
      "            min_impurity_decrease=0.0, min_impurity_split=None,\n",
      "            min_samples_leaf=1, min_samples_split=2,\n",
      "            min_weight_fraction_leaf=0.0, n_estimators=10, n_jobs=1,\n",
      "            oob_score=False, random_state=None, verbose=0,\n",
      "            warm_start=False)\n",
      "train time: 43.699s\n",
      "test time:  0.090s\n",
      "accuracy:   0.913\n",
      "\n",
      "Done with RandomForestClassifier\n",
      "________________________________________________________________________________\n",
      "Training: \n",
      "LinearSVC(C=1.0, class_weight=None, dual=True, fit_intercept=True,\n",
      "     intercept_scaling=1, loss='squared_hinge', max_iter=1000,\n",
      "     multi_class='ovr', penalty='l2', random_state=None, tol=0.0001,\n",
      "     verbose=0)\n"
     ]
    },
    {
     "name": "stdout",
     "output_type": "stream",
     "text": [
      "train time: 22.461s\n",
      "test time:  0.031s\n",
      "accuracy:   0.976\n",
      "\n",
      "Done with LinearSVC\n",
      "________________________________________________________________________________\n",
      "Training: \n",
      "GaussianNB(priors=None)\n",
      "train time: 2.224s\n",
      "test time:  0.743s\n",
      "accuracy:   0.800\n",
      "\n",
      "Done with GaussianNB\n",
      "________________________________________________________________________________\n",
      "Training: \n",
      "BernoulliNB(alpha=1.0, binarize=0.0, class_prior=None, fit_prior=True)\n",
      "train time: 2.653s\n",
      "test time:  0.296s\n",
      "accuracy:   0.902\n",
      "\n",
      "Done with BernoulliNB\n",
      "________________________________________________________________________________\n",
      "Training: \n",
      "RandomForestClassifier(bootstrap=True, class_weight=None, criterion='gini',\n",
      "            max_depth=None, max_features='auto', max_leaf_nodes=None,\n",
      "            min_impurity_decrease=0.0, min_impurity_split=None,\n",
      "            min_samples_leaf=1, min_samples_split=2,\n",
      "            min_weight_fraction_leaf=0.0, n_estimators=10, n_jobs=1,\n",
      "            oob_score=False, random_state=None, verbose=0,\n",
      "            warm_start=False)\n",
      "train time: 44.274s\n",
      "test time:  0.088s\n",
      "accuracy:   0.907\n",
      "\n",
      "Done with RandomForestClassifier\n",
      "________________________________________________________________________________\n",
      "Training: \n",
      "LinearSVC(C=1.0, class_weight=None, dual=True, fit_intercept=True,\n",
      "     intercept_scaling=1, loss='squared_hinge', max_iter=1000,\n",
      "     multi_class='ovr', penalty='l2', random_state=None, tol=0.0001,\n",
      "     verbose=0)\n",
      "train time: 20.877s\n",
      "test time:  0.027s\n",
      "accuracy:   0.972\n",
      "\n",
      "Done with LinearSVC\n",
      "________________________________________________________________________________\n",
      "Training: \n",
      "GaussianNB(priors=None)\n",
      "train time: 1.908s\n",
      "test time:  0.673s\n",
      "accuracy:   0.806\n",
      "\n",
      "Done with GaussianNB\n",
      "________________________________________________________________________________\n",
      "Training: \n",
      "BernoulliNB(alpha=1.0, binarize=0.0, class_prior=None, fit_prior=True)\n",
      "train time: 2.440s\n",
      "test time:  0.258s\n",
      "accuracy:   0.903\n",
      "\n",
      "Done with BernoulliNB\n",
      "________________________________________________________________________________\n",
      "Training: \n",
      "RandomForestClassifier(bootstrap=True, class_weight=None, criterion='gini',\n",
      "            max_depth=None, max_features='auto', max_leaf_nodes=None,\n",
      "            min_impurity_decrease=0.0, min_impurity_split=None,\n",
      "            min_samples_leaf=1, min_samples_split=2,\n",
      "            min_weight_fraction_leaf=0.0, n_estimators=10, n_jobs=1,\n",
      "            oob_score=False, random_state=None, verbose=0,\n",
      "            warm_start=False)\n",
      "train time: 42.901s\n",
      "test time:  0.070s\n",
      "accuracy:   0.908\n",
      "\n",
      "Done with RandomForestClassifier\n",
      "________________________________________________________________________________\n",
      "Training: \n",
      "LinearSVC(C=1.0, class_weight=None, dual=True, fit_intercept=True,\n",
      "     intercept_scaling=1, loss='squared_hinge', max_iter=1000,\n",
      "     multi_class='ovr', penalty='l2', random_state=None, tol=0.0001,\n",
      "     verbose=0)\n",
      "train time: 18.628s\n",
      "test time:  0.028s\n",
      "accuracy:   0.974\n",
      "\n",
      "Done with LinearSVC\n",
      "________________________________________________________________________________\n",
      "Training: \n",
      "GaussianNB(priors=None)\n",
      "train time: 1.858s\n",
      "test time:  0.664s\n",
      "accuracy:   0.811\n",
      "\n",
      "Done with GaussianNB\n",
      "________________________________________________________________________________\n",
      "Training: \n",
      "BernoulliNB(alpha=1.0, binarize=0.0, class_prior=None, fit_prior=True)\n",
      "train time: 2.482s\n",
      "test time:  0.275s\n",
      "accuracy:   0.909\n",
      "\n",
      "Done with BernoulliNB\n",
      "________________________________________________________________________________\n",
      "Training: \n",
      "RandomForestClassifier(bootstrap=True, class_weight=None, criterion='gini',\n",
      "            max_depth=None, max_features='auto', max_leaf_nodes=None,\n",
      "            min_impurity_decrease=0.0, min_impurity_split=None,\n",
      "            min_samples_leaf=1, min_samples_split=2,\n",
      "            min_weight_fraction_leaf=0.0, n_estimators=10, n_jobs=1,\n",
      "            oob_score=False, random_state=None, verbose=0,\n",
      "            warm_start=False)\n",
      "train time: 40.946s\n",
      "test time:  0.080s\n",
      "accuracy:   0.918\n",
      "\n",
      "Done with RandomForestClassifier\n",
      "________________________________________________________________________________\n",
      "Training: \n",
      "LinearSVC(C=1.0, class_weight=None, dual=True, fit_intercept=True,\n",
      "     intercept_scaling=1, loss='squared_hinge', max_iter=1000,\n",
      "     multi_class='ovr', penalty='l2', random_state=None, tol=0.0001,\n",
      "     verbose=0)\n",
      "train time: 18.942s\n",
      "test time:  0.027s\n",
      "accuracy:   0.974\n",
      "\n",
      "Done with LinearSVC\n",
      "________________________________________________________________________________\n",
      "Training: \n",
      "GaussianNB(priors=None)\n",
      "train time: 1.912s\n",
      "test time:  0.640s\n",
      "accuracy:   0.800\n",
      "\n",
      "Done with GaussianNB\n",
      "________________________________________________________________________________\n",
      "Training: \n",
      "BernoulliNB(alpha=1.0, binarize=0.0, class_prior=None, fit_prior=True)\n",
      "train time: 2.457s\n",
      "test time:  0.269s\n",
      "accuracy:   0.901\n",
      "\n",
      "Done with BernoulliNB\n",
      "________________________________________________________________________________\n",
      "Training: \n",
      "RandomForestClassifier(bootstrap=True, class_weight=None, criterion='gini',\n",
      "            max_depth=None, max_features='auto', max_leaf_nodes=None,\n",
      "            min_impurity_decrease=0.0, min_impurity_split=None,\n",
      "            min_samples_leaf=1, min_samples_split=2,\n",
      "            min_weight_fraction_leaf=0.0, n_estimators=10, n_jobs=1,\n",
      "            oob_score=False, random_state=None, verbose=0,\n",
      "            warm_start=False)\n",
      "train time: 40.019s\n",
      "test time:  0.075s\n",
      "accuracy:   0.909\n",
      "\n",
      "Done with RandomForestClassifier\n",
      "________________________________________________________________________________\n",
      "Training: \n",
      "LinearSVC(C=1.0, class_weight=None, dual=True, fit_intercept=True,\n",
      "     intercept_scaling=1, loss='squared_hinge', max_iter=1000,\n",
      "     multi_class='ovr', penalty='l2', random_state=None, tol=0.0001,\n",
      "     verbose=0)\n",
      "train time: 18.899s\n",
      "test time:  0.030s\n",
      "accuracy:   0.973\n",
      "\n",
      "Done with LinearSVC\n",
      "________________________________________________________________________________\n"
     ]
    }
   ],
   "source": [
    "kf = StratifiedKFold(n_splits=qtd_splits)\n",
    "\n",
    "#results = defaultdict(list)\n",
    "resultsGaussianNB = []\n",
    "resultsBernoulliNB = []\n",
    "resultsRandomForest = []\n",
    "resultsSVM = []\n",
    "\n",
    "\n",
    "for train, test in kf.split(X_train, y_train):\n",
    "    resultsGaussianNB.append(benchmark(GaussianNB(), X_train[train], y_train[train], X_train[test], y_train[test]))\n",
    "    resultsBernoulliNB.append(benchmark(BernoulliNB(), X_train[train], y_train[train], X_train[test], y_train[test]))\n",
    "    resultsRandomForest.append(benchmark(RandomForestClassifier(), X_train[train], y_train[train], X_train[test], y_train[test]))\n",
    "    resultsSVM.append(benchmark(svm.LinearSVC(), X_train[train], y_train[train], X_train[test], y_train[test]))"
   ]
  },
  {
   "cell_type": "markdown",
   "metadata": {},
   "source": [
    "## Naïve-Bayes Gaussian"
   ]
  },
  {
   "cell_type": "code",
   "execution_count": 19,
   "metadata": {
    "ExecuteTime": {
     "end_time": "2018-05-18T06:05:30.040767Z",
     "start_time": "2018-05-18T06:05:25.916101Z"
    }
   },
   "outputs": [
    {
     "name": "stdout",
     "output_type": "stream",
     "text": [
      "Accuracy: 0.802816091954023\n"
     ]
    },
    {
     "data": {
      "image/png": "[encoded data removed]",
      "text/plain": [
       "<Figure size 864x432 with 2 Axes>"
      ]
     },
     "metadata": {},
     "output_type": "display_data"
    }
   ],
   "source": [
    "nbg = GaussianNB()\n",
    "nbg.fit(X_train, y_train)  # ***** substituir pelo melhor fit do Kfold *****\n",
    "y_pred = nbg.predict(X_valid)                               # já substitui pelo conjunto de validação\n",
    "cm = confusion_matrix(y_valid, y_pred)                      # já substitui pelo conjunto de validação\n",
    "print('Accuracy: ' + str(accuracy_score(y_valid, y_pred)))  # já substitui pelo conjunto de validação\n",
    "plot_confusion_matrix(cm, l_enc.classes_, title='Naïve-Bayes Gaussian', normalize=True)"
   ]
  },
  {
   "cell_type": "markdown",
   "metadata": {},
   "source": [
    "## Naïve-Bayes Bernoulli"
   ]
  },
  {
   "cell_type": "code",
   "execution_count": 20,
   "metadata": {
    "ExecuteTime": {
     "end_time": "2018-05-18T06:05:33.652612Z",
     "start_time": "2018-05-18T06:05:30.043201Z"
    }
   },
   "outputs": [
    {
     "name": "stdout",
     "output_type": "stream",
     "text": [
      "Accuracy: 0.9036781609195402\n"
     ]
    },
    {
     "data": {
      "image/png": "[encoded data removed]",
      "text/plain": [
       "<Figure size 864x432 with 2 Axes>"
      ]
     },
     "metadata": {},
     "output_type": "display_data"
    }
   ],
   "source": [
    "nbb = BernoulliNB()\n",
    "nbb.fit(X_train, y_train)  # ***** substituir pelo melhor fit do Kfold *****\n",
    "y_pred = nbb.predict(X_valid)                               # já substitui pelo conjunto de validação\n",
    "cm = confusion_matrix(y_valid, y_pred)                      # já substitui pelo conjunto de validação\n",
    "print('Accuracy: ' + str(accuracy_score(y_valid, y_pred)))  # já substitui pelo conjunto de validação\n",
    "plot_confusion_matrix(cm, l_enc.classes_, title='Naïve-Bayes Bernoulli', normalize=True)"
   ]
  },
  {
   "cell_type": "markdown",
   "metadata": {},
   "source": [
    "## Random Forest"
   ]
  },
  {
   "cell_type": "code",
   "execution_count": 21,
   "metadata": {
    "ExecuteTime": {
     "end_time": "2018-05-18T06:06:22.116679Z",
     "start_time": "2018-05-18T06:05:33.655269Z"
    }
   },
   "outputs": [
    {
     "name": "stdout",
     "output_type": "stream",
     "text": [
      "Accuracy: 0.9092528735632184\n"
     ]
    },
    {
     "data": {
      "image/png": "[encoded data removed]",
      "text/plain": [
       "<Figure size 864x432 with 2 Axes>"
      ]
     },
     "metadata": {},
     "output_type": "display_data"
    }
   ],
   "source": [
    "rf = RandomForestClassifier()\n",
    "rf.fit(X_train, y_train)  # ***** substituir pelo melhor fit do Kfold *****\n",
    "y_pred = rf.predict(X_valid)                                # já substitui pelo conjunto de validação\n",
    "cm = confusion_matrix(y_valid, y_pred)                      # já substitui pelo conjunto de validação\n",
    "print('Accuracy: ' + str(accuracy_score(y_valid, y_pred)))  # já substitui pelo conjunto de validação\n",
    "plot_confusion_matrix(cm, l_enc.classes_, title='Random Forest', normalize=True)"
   ]
  },
  {
   "cell_type": "markdown",
   "metadata": {},
   "source": [
    "## SVM"
   ]
  },
  {
   "cell_type": "code",
   "execution_count": 22,
   "metadata": {
    "ExecuteTime": {
     "end_time": "2018-05-18T06:06:43.457842Z",
     "start_time": "2018-05-18T06:06:22.119645Z"
    }
   },
   "outputs": [
    {
     "name": "stdout",
     "output_type": "stream",
     "text": [
      "Accuracy: 0.974367816091954\n"
     ]
    },
    {
     "data": {
      "image/png": "[encoded data removed]",
      "text/plain": [
       "<Figure size 864x432 with 2 Axes>"
      ]
     },
     "metadata": {},
     "output_type": "display_data"
    }
   ],
   "source": [
    "lin_clf = svm.LinearSVC()\n",
    "lin_clf.fit(X_train, y_train)  # ***** substituir pelo melhor fit do Kfold *****\n",
    "y_pred = lin_clf.predict(X_valid)                           # já substitui pelo conjunto de validação\n",
    "cm = confusion_matrix(y_valid, y_pred)                      # já substitui pelo conjunto de validação\n",
    "print('Accuracy: ' + str(accuracy_score(y_valid, y_pred)))  # já substitui pelo conjunto de validação\n",
    "plot_confusion_matrix(cm, l_enc.classes_, title='SVM', normalize=True)"
   ]
  },
  {
   "cell_type": "markdown",
   "metadata": {},
   "source": [
    "## WiSARD"
   ]
  },
  {
   "cell_type": "markdown",
   "metadata": {},
   "source": [
    "# Pendente!!!\n",
    "\n",
    "## WiSARD!\n",
    "## Gráfico da acurácia e dos tempos de treinamento e previsão incluindo o desvio padrão\n",
    "## Apresentação dos gráficos em figura única\n",
    "## Como escolher o melhor fit da sequência de k-folds?"
   ]
  },
  {
   "cell_type": "markdown",
   "metadata": {},
   "source": [
    "# Results - END OF NOTEBOOK"
   ]
  },
  {
   "cell_type": "code",
   "execution_count": null,
   "metadata": {
    "ExecuteTime": {
     "end_time": "2018-05-18T05:51:02.775032Z",
     "start_time": "2018-05-18T05:47:53.515Z"
    }
   },
   "outputs": [],
   "source": [
    "print(resultsGaussianNB)\n",
    "print(resultsBernoulliNB)\n",
    "print(resultsRandomForest)\n",
    "print(resultsSVM)\n",
    "\n",
    "indices = np.arange(len(resultsGaussianNB))\n",
    "\n",
    "resultsGaussianNB = [[x[i] for x in resultsGaussianNB] for i in range(4)]\n",
    "resultsBernoulliNB = [[x[i] for x in resultsBernoulliNB] for i in range(4)]\n",
    "resultsRandomForest = [[x[i] for x in resultsRandomForest] for i in range(4)]\n",
    "resultsSVM = [[x[i] for x in resultsSVM] for i in range(4)]\n",
    "\n",
    "#ver se a concatenacao foi na direcao certa\n",
    "\n",
    "clf_names, score, training_time, test_time = resultsGaussianNB + resultsBernoulliNB + resultsRandomForest + resultsSVM\n",
    "\n",
    "#falta o que fazer com as 4 variaveis acima, e juntar nelas os dados de todos \n",
    "#os classificadores pra fazer o grafico unico\n",
    "\n",
    "print(\"comeca\")\n",
    "print(training_time)\n",
    "training_time = np.array(training_time) / np.max(training_time)\n",
    "test_time = np.array(test_time) / np.max(test_time)\n",
    "\n",
    "plt.figure(figsize=(12, 8))\n",
    "plt.title(\"Score\")\n",
    "plt.barh(indices, score, .2, label=\"score\", color='navy')\n",
    "plt.barh(indices + .3, training_time, .2, label=\"training time\",\n",
    "         color='c')\n",
    "plt.barh(indices + .6, test_time, .2, label=\"test time\", color='darkorange')\n",
    "plt.yticks(())\n",
    "plt.legend(loc='best')\n",
    "plt.subplots_adjust(left=.25)\n",
    "plt.subplots_adjust(top=.95)\n",
    "plt.subplots_adjust(bottom=.05)\n",
    "\n",
    "for i, c in zip(indices, clf_names):\n",
    "    plt.text(-.3, i, c)\n",
    "\n",
    "plt.show()"
   ]
  },
  {
   "cell_type": "code",
   "execution_count": 23,
   "metadata": {
    "ExecuteTime": {
     "end_time": "2018-05-18T06:06:44.025522Z",
     "start_time": "2018-05-18T06:06:43.460114Z"
    }
   },
   "outputs": [
    {
     "name": "stdout",
     "output_type": "stream",
     "text": [
      "['Gaussian', 'Bernoulli', 'RandomForest', 'SVM']\n",
      "['GaussianNB', 'GaussianNB', 'GaussianNB', 'GaussianNB', 'GaussianNB', 'GaussianNB', 'GaussianNB', 'GaussianNB', 'GaussianNB', 'GaussianNB', 'BernoulliNB', 'BernoulliNB', 'BernoulliNB', 'BernoulliNB', 'BernoulliNB', 'BernoulliNB', 'BernoulliNB', 'BernoulliNB', 'BernoulliNB', 'BernoulliNB', 'RandomForestClassifier', 'RandomForestClassifier', 'RandomForestClassifier', 'RandomForestClassifier', 'RandomForestClassifier', 'RandomForestClassifier', 'RandomForestClassifier', 'RandomForestClassifier', 'RandomForestClassifier', 'RandomForestClassifier', 'LinearSVC', 'LinearSVC', 'LinearSVC', 'LinearSVC', 'LinearSVC', 'LinearSVC', 'LinearSVC', 'LinearSVC', 'LinearSVC', 'LinearSVC']\n"
     ]
    },
    {
     "data": {
      "image/png": "[encoded data removed]",
      "text/plain": [
       "<Figure size 432x288 with 1 Axes>"
      ]
     },
     "metadata": {},
     "output_type": "display_data"
    },
    {
     "data": {
      "image/png": "[encoded data removed]",
      "text/plain": [
       "<Figure size 432x288 with 1 Axes>"
      ]
     },
     "metadata": {},
     "output_type": "display_data"
    },
    {
     "data": {
      "image/png": "[encoded data removed]",
      "text/plain": [
       "<Figure size 432x288 with 1 Axes>"
      ]
     },
     "metadata": {},
     "output_type": "display_data"
    },
    {
     "data": {
      "image/png": "[encoded data removed]",
      "text/plain": [
       "<Figure size 432x288 with 1 Axes>"
      ]
     },
     "metadata": {},
     "output_type": "display_data"
    }
   ],
   "source": [
    "import numpy\n",
    "#print(resultsGaussianNB)\n",
    "#print(resultsBernoulliNB)\n",
    "#print(resultsRandomForest)\n",
    "#print(resultsSVM)\n",
    "\n",
    "#TODO para cada um dos arrays acima, juntar ja os valores pra media e dp de cada metrica. São arrays de 4-tuplas\n",
    "\n",
    "\n",
    "h = [[x[i] for x in resultsGaussianNB] for i in range(4)]\n",
    "a, b, c, d = h\n",
    "\n",
    "arr = numpy.array(b)\n",
    "meanresultsGaussianNBAccuracy = numpy.mean(arr, axis=0)\n",
    "sdresultsGaussianNBAccuracy = numpy.std(arr, axis=0)\n",
    "arr = numpy.array(c)\n",
    "meanresultsGaussianNBTrain = numpy.mean(arr, axis=0)\n",
    "sdresultsGaussianNBTrain = numpy.std(arr, axis=0)\n",
    "arr = numpy.array(d)\n",
    "meanresultsGaussianNBTest = numpy.mean(arr, axis=0)\n",
    "sdresultsGaussianNBTest = numpy.std(arr, axis=0)\n",
    "\n",
    "\n",
    "h = [[x[i] for x in resultsBernoulliNB] for i in range(4)]\n",
    "a, b, c, d = h\n",
    "\n",
    "arr = numpy.array(b)\n",
    "meanresultsBernoulliNBAccuracy = numpy.mean(arr, axis=0)\n",
    "sdresultsBernoulliNBAccuracy = numpy.std(arr, axis=0)\n",
    "arr = numpy.array(c)\n",
    "meanresultsBernoulliNBTrain = numpy.mean(arr, axis=0)\n",
    "sdresultsBernoulliNBTrain = numpy.std(arr, axis=0)\n",
    "arr = numpy.array(d)\n",
    "meanresultsBernoulliNBTest = numpy.mean(arr, axis=0)\n",
    "sdresultsBernoulliNBTest = numpy.std(arr, axis=0)\n",
    "\n",
    "h = [[x[i] for x in resultsRandomForest] for i in range(4)]\n",
    "a, b, c, d = h\n",
    "\n",
    "arr = numpy.array(b)\n",
    "meanresultsRandomForestAccuracy = numpy.mean(arr, axis=0)\n",
    "sdresultsRandomForestAccuracy = numpy.std(arr, axis=0)\n",
    "arr = numpy.array(c)\n",
    "meanresultsRandomForestTrain = numpy.mean(arr, axis=0)\n",
    "sdresultsRandomForestTrain = numpy.std(arr, axis=0)\n",
    "arr = numpy.array(d)\n",
    "meanresultsRandomForestTest = numpy.mean(arr, axis=0)\n",
    "sdresultsRandomForestTest = numpy.std(arr, axis=0)\n",
    "\n",
    "h = [[x[i] for x in resultsSVM] for i in range(4)]\n",
    "a, b, c, d = h\n",
    "\n",
    "arr = numpy.array(b)\n",
    "meanresultsSVMAccuracy = numpy.mean(arr, axis=0)\n",
    "sdresultsSVMAccuracy = numpy.std(arr, axis=0)\n",
    "arr = numpy.array(c)\n",
    "meanresultsSVMTrain = numpy.mean(arr, axis=0)\n",
    "sdresultsSVMTrain = numpy.std(arr, axis=0)\n",
    "arr = numpy.array(d)\n",
    "meanresultsSVMTest = numpy.mean(arr, axis=0)\n",
    "sdresultsSVMTest = numpy.std(arr, axis=0)\n",
    "\n",
    "#ver se a concatenacao foi na direcao certa\n",
    "results = resultsGaussianNB + resultsBernoulliNB + resultsRandomForest + resultsSVM\n",
    "\n",
    "#print(\"era assim\")\n",
    "#print(results)\n",
    "\n",
    "indices = np.arange(len(results))\n",
    "\n",
    "#resultsGaussianNB2 = [[x[i] for x in resultsGaussianNB] for i in range(4)]\n",
    "#resultsBernoulliNB2 = [[x[i] for x in resultsBernoulliNB] for i in range(4)]\n",
    "#resultsRandomForest2 = [[x[i] for x in resultsRandomForest] for i in range(4)]\n",
    "#resultsSVM2 = [[x[i] for x in resultsSVM] for i in range(4)]\n",
    "\n",
    "resultsFinal = [[x[i] for x in results] for i in range(4)]\n",
    "#print(\"ficou assim\")\n",
    "#print(resultsFinal)\n",
    "\n",
    "clf_names, score, training_time, test_time = resultsFinal\n",
    "labels = [\"Gaussian\", \"Bernoulli\", \"RandomForest\", \"SVM\"]\n",
    "print(labels)\n",
    "print(clf_names)\n",
    "indicesNew = np.arange(len(labels))\n",
    "meanScore = meanresultsGaussianNBAccuracy, meanresultsBernoulliNBAccuracy, meanresultsRandomForestAccuracy, meanresultsSVMAccuracy\n",
    "meanDPScore = sdresultsGaussianNBAccuracy, sdresultsBernoulliNBAccuracy, sdresultsRandomForestAccuracy, sdresultsSVMAccuracy\n",
    "meanTrain = meanresultsBernoulliNBTrain, meanresultsBernoulliNBTrain, meanresultsRandomForestTrain, meanresultsSVMTrain\n",
    "meanDPTrain = sdresultsGaussianNBTrain, sdresultsBernoulliNBTrain, sdresultsRandomForestTrain, sdresultsSVMTrain\n",
    "meanTest = meanresultsGaussianNBTest, meanresultsBernoulliNBTest, meanresultsRandomForestTest, meanresultsSVMTest\n",
    "meanDPTest = sdresultsGaussianNBTest, sdresultsBernoulliNBTest, sdresultsRandomForestTest, sdresultsSVMTest\n",
    "\n",
    "########Tempos\n",
    "\n",
    "plt.bar(indicesNew, meanTrain, width=0.2, label=\"Mean Train Time\")\n",
    "plt.bar(indicesNew + .2, meanTest, width=0.2, label=\"Mean Test Time\")\n",
    "plt.xlabel('Classificator', fontsize=5)\n",
    "plt.ylabel('Times', fontsize=5)\n",
    "plt.xticks(indicesNew, labels, fontsize=5, rotation=30)\n",
    "plt.title('Means Times')\n",
    "plt.legend(loc='best')\n",
    "plt.show()\n",
    "\n",
    "#########STTempos\n",
    "\n",
    "plt.bar(indicesNew, meanDPTrain, width=0.2, label=\"ST Train Time\")\n",
    "plt.bar(indicesNew + .2, meanDPTest, width=0.2, label=\"ST Test Time\")\n",
    "plt.xlabel('Classificator', fontsize=5)\n",
    "plt.ylabel('Times', fontsize=5)\n",
    "plt.xticks(indicesNew, labels, fontsize=5, rotation=30)\n",
    "plt.title('ST Times')\n",
    "plt.legend(loc='best')\n",
    "plt.show()\n",
    "\n",
    "########## Accuracy\n",
    "\n",
    "plt.bar(indicesNew, meanScore, width=0.2, label=\"Mean Accuracy\")\n",
    "plt.xlabel('Classificator', fontsize=5)\n",
    "plt.ylabel('Accuracy', fontsize=5)\n",
    "plt.xticks(indicesNew, labels, fontsize=5, rotation=30)\n",
    "plt.title('Mean Accuracy')\n",
    "plt.legend(loc='best')\n",
    "plt.show()\n",
    "\n",
    "########## ST Accuracy\n",
    "\n",
    "plt.bar(indicesNew, meanDPScore, width=0.2, label=\"Mean Accuracy\")\n",
    "plt.xlabel('Classificator', fontsize=5)\n",
    "plt.ylabel('Accuracy', fontsize=5)\n",
    "plt.xticks(indicesNew, labels, fontsize=5, rotation=30)\n",
    "plt.title('ST Accuracy')\n",
    "plt.legend(loc='best')\n",
    "plt.show()\n",
    "\n",
    "\n",
    "\n"
   ]
  },
  {
   "cell_type": "code",
   "execution_count": null,
   "metadata": {},
   "outputs": [],
   "source": []
  }
 ],
 "metadata": {
  "anaconda-cloud": {},
  "hide_input": false,
  "kernelspec": {
   "display_name": "Python 3",
   "language": "python",
   "name": "python3"
  },
  "language_info": {
   "codemirror_mode": {
    "name": "ipython",
    "version": 3
   },
   "file_extension": ".py",
   "mimetype": "text/x-python",
   "name": "python",
   "nbconvert_exporter": "python",
   "pygments_lexer": "ipython3",
   "version": "3.6.3"
  },
  "latex_envs": {
   "LaTeX_envs_menu_present": true,
   "autoclose": false,
   "autocomplete": true,
   "bibliofile": "biblio.bib",
   "cite_by": "apalike",
   "current_citInitial": 1,
   "eqLabelWithNumbers": true,
   "eqNumInitial": 1,
   "hotkeys": {
    "equation": "Ctrl-E",
    "itemize": "Ctrl-I"
   },
   "labels_anchors": false,
   "latex_user_defs": false,
   "report_style_numbering": false,
   "user_envs_cfg": false
  },
  "varInspector": {
   "cols": {
    "lenName": 16,
    "lenType": 16,
    "lenVar": 40
   },
   "kernels_config": {
    "python": {
     "delete_cmd_postfix": "",
     "delete_cmd_prefix": "del ",
     "library": "var_list.py",
     "varRefreshCmd": "print(var_dic_list())"
    },
    "r": {
     "delete_cmd_postfix": ") ",
     "delete_cmd_prefix": "rm(",
     "library": "var_list.r",
     "varRefreshCmd": "cat(var_dic_list()) "
    }
   },
   "types_to_exclude": [
    "module",
    "function",
    "builtin_function_or_method",
    "instance",
    "_Feature"
   ],
   "window_display": false
  }
 },
 "nbformat": 4,
 "nbformat_minor": 1
}
