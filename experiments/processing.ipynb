{
 "cells": [
  {
   "cell_type": "code",
   "execution_count": 1,
   "metadata": {
    "collapsed": true
   },
   "outputs": [],
   "source": [
    "import pandas as pd\n",
    "from bs4 import BeautifulSoup\n",
    "from IPython.display import display\n",
    "#from nltk.corpus import stopwords\n",
    "import re\n",
    "import string"
   ]
  },
  {
   "cell_type": "code",
   "execution_count": 2,
   "metadata": {
    "collapsed": true
   },
   "outputs": [],
   "source": [
    "df = {\n",
    "    \"cooking\": pd.read_csv('../dataset/cooking.csv'),\n",
    "    \"crypto\": pd.read_csv('../dataset/crypto.csv'),\n",
    "    \"robotics\": pd.read_csv('../dataset/robotics.csv'),\n",
    "    \"biology\": pd.read_csv('../dataset/biology.csv'),\n",
    "    \"travel\": pd.read_csv('../dataset/travel.csv'),\n",
    "    \"diy\": pd.read_csv('../dataset/diy.csv'),\n",
    "    #\"physics\": pd.read_csv('physics.csv'),\n",
    "}"
   ]
  },
  {
   "cell_type": "code",
   "execution_count": 3,
   "metadata": {
    "collapsed": true
   },
   "outputs": [],
   "source": [
    "# parser para remover código html e processar o conteudo\n",
    "def process(x):\n",
    "    if x:\n",
    "        uri_re = r'(?i)\\b((?:https?://|www\\d{0,3}[.]|[a-z0-9.\\-]+[.][a-z]{2,4}/)(?:[^\\s()<>]+|\\(([^\\s()<>]+|(\\([^\\s()<>]+\\)))*\\))+(?:\\(([^\\s()<>]+|(\\([^\\s()<>]+\\)))*\\)|[^\\s`!()\\[\\]{};:\\'\".,<>?«»“”‘’]))'\n",
    "        soup = BeautifulSoup(x, 'html.parser')\n",
    "        if soup.code:\n",
    "            soup.code.decompose()\n",
    "        text = soup.get_text()\n",
    "        text = re.sub(uri_re, \"\", text)\n",
    "        \n",
    "        #remove latex\n",
    "        text = re.sub(r'\\$[^\\$]*\\$', r'', text)\n",
    "    \n",
    "        # Lowercasing all words\n",
    "        text = text.lower()\n",
    "        # Removing non ASCII chars\n",
    "        #text = re.sub(r'[^\\x00-\\x7f]',r' ',text)\n",
    "        # Removing non alphabetic characters\n",
    "        text = re.sub(r'[^a-z]',r' ',text)\n",
    "        # Removing (replacing with empty spaces actually) all the punctuations\n",
    "        text = re.sub(\"[\"+string.punctuation+\"]\", \" \", text)\n",
    "        # Replace new lines with empty spaces\n",
    "        text = re.sub(\"\\n\", \" \", text)\n",
    "        \n",
    "        # min of 3 letters and max of 10 letters\n",
    "        terms = text.split(\" \")\n",
    "        text = []\n",
    "        for term in terms:\n",
    "            if len(term) > 2 and len(term) < 11:\n",
    "                text.append(term)\n",
    "        text = ' '.join(text)\n",
    "        \n",
    "        return text\n",
    "    else:\n",
    "        return \"\""
   ]
  },
  {
   "cell_type": "code",
   "execution_count": 4,
   "metadata": {
    "collapsed": false
   },
   "outputs": [],
   "source": [
    "for tupl in df.values():\n",
    "    tupl['content'] = tupl['content'].map(process)\n",
    "    tupl['title'] = tupl['title'].map(process)"
   ]
  },
  {
   "cell_type": "code",
   "execution_count": 5,
   "metadata": {
    "collapsed": false
   },
   "outputs": [
    {
     "data": {
      "text/plain": [
       "'currently working the following task let consider the encryption scheme for the message space defined follows chooses two random keys encryption done decryption done the natural way does this scheme have the presence this scheme cpa secure consider the encryption scheme where the message space and encryption message done choosing random and then outputting the ciphertext decryption done the natural way does this scheme have the presence this scheme cpa secure current answers are this scheme has the presence since prp and therefore will give string however not sure whether intuition correct the scheme should not ind cpa secure since encryption this scheme both ind coa well ind cpa secure ind coa since prp and therefore will give string also ind cpa secure random used every time message encrypted since not too confident about solutions appreciate any comments and'"
      ]
     },
     "execution_count": 5,
     "metadata": {},
     "output_type": "execute_result"
    }
   ],
   "source": [
    "df['crypto'].iloc[8875]['content']"
   ]
  },
  {
   "cell_type": "code",
   "execution_count": 6,
   "metadata": {
    "collapsed": false
   },
   "outputs": [
    {
     "data": {
      "text/plain": [
       "'are the following schemes based pseudo random secure'"
      ]
     },
     "execution_count": 6,
     "metadata": {},
     "output_type": "execute_result"
    }
   ],
   "source": [
    "df['crypto'].iloc[8875]['title']"
   ]
  },
  {
   "cell_type": "code",
   "execution_count": 7,
   "metadata": {
    "collapsed": false
   },
   "outputs": [],
   "source": [
    "for name, data in df.items():\n",
    "    # Saving to file\n",
    "    data.to_csv(\"../dataset/processed/\" + name + \".csv\", index=False)"
   ]
  },
  {
   "cell_type": "code",
   "execution_count": null,
   "metadata": {
    "collapsed": true
   },
   "outputs": [],
   "source": []
  }
 ],
 "metadata": {
  "anaconda-cloud": {},
  "kernelspec": {
   "display_name": "Python [conda root]",
   "language": "python",
   "name": "conda-root-py"
  },
  "language_info": {
   "codemirror_mode": {
    "name": "ipython",
    "version": 3
   },
   "file_extension": ".py",
   "mimetype": "text/x-python",
   "name": "python",
   "nbconvert_exporter": "python",
   "pygments_lexer": "ipython3",
   "version": "3.5.2"
  }
 },
 "nbformat": 4,
 "nbformat_minor": 1
}
