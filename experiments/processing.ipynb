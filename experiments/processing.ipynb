{
 "cells": [
  {
   "cell_type": "code",
   "execution_count": 83,
   "metadata": {
    "collapsed": true
   },
   "outputs": [],
   "source": [
    "import pandas as pd\n",
    "from bs4 import BeautifulSoup\n",
    "from IPython.display import display\n",
    "#from nltk.corpus import stopwords\n",
    "import re\n",
    "import string"
   ]
  },
  {
   "cell_type": "code",
   "execution_count": 96,
   "metadata": {
    "collapsed": true
   },
   "outputs": [],
   "source": [
    "df = {\n",
    "    \"cooking\": pd.read_csv('../dataset/cooking.csv'),\n",
    "    \"crypto\": pd.read_csv('../dataset/crypto.csv'),\n",
    "    \"robotics\": pd.read_csv('../dataset/robotics.csv'),\n",
    "    \"biology\": pd.read_csv('../dataset/biology.csv'),\n",
    "    \"travel\": pd.read_csv('../dataset/travel.csv'),\n",
    "    \"diy\": pd.read_csv('../dataset/diy.csv'),\n",
    "    #\"physics\": pd.read_csv('physics.csv'),\n",
    "}"
   ]
  },
  {
   "cell_type": "code",
   "execution_count": 97,
   "metadata": {
    "collapsed": true
   },
   "outputs": [],
   "source": [
    "# parser para remover código html e processar o conteudo\n",
    "def process(x):\n",
    "    if x:\n",
    "        uri_re = r'(?i)\\b((?:https?://|www\\d{0,3}[.]|[a-z0-9.\\-]+[.][a-z]{2,4}/)(?:[^\\s()<>]+|\\(([^\\s()<>]+|(\\([^\\s()<>]+\\)))*\\))+(?:\\(([^\\s()<>]+|(\\([^\\s()<>]+\\)))*\\)|[^\\s`!()\\[\\]{};:\\'\".,<>?«»“”‘’]))'\n",
    "        soup = BeautifulSoup(x, 'html.parser')\n",
    "        if soup.code:\n",
    "            soup.code.decompose()\n",
    "        text = soup.get_text()\n",
    "        text = re.sub(uri_re, \"\", text)\n",
    "        \n",
    "        #remove latex\n",
    "        text = re.sub(r'\\$[^\\$]*\\$', r'', text)\n",
    "    \n",
    "        # Lowercasing all words\n",
    "        text = text.lower()\n",
    "        # Removing non ASCII chars\n",
    "        #text = re.sub(r'[^\\x00-\\x7f]',r' ',text)\n",
    "        # Removing non alphabetic characters\n",
    "        text = re.sub(r'[^a-z]',r' ',text)\n",
    "        # Removing (replacing with empty spaces actually) all the punctuations\n",
    "        text = re.sub(\"[\"+string.punctuation+\"]\", \" \", text)\n",
    "        # Replace new lines with empty spaces\n",
    "        text = re.sub(\"\\n\", \" \", text)\n",
    "        \n",
    "        return text\n",
    "    else:\n",
    "        return \"\""
   ]
  },
  {
   "cell_type": "code",
   "execution_count": 98,
   "metadata": {
    "collapsed": false
   },
   "outputs": [],
   "source": [
    "for tupl in df.values():\n",
    "    tupl['content'] = tupl['content'].map(process)\n",
    "    tupl['title'] = tupl['title'].map(process)"
   ]
  },
  {
   "cell_type": "code",
   "execution_count": 99,
   "metadata": {
    "collapsed": false
   },
   "outputs": [
    {
     "data": {
      "text/plain": [
       "'i am currently working on the following task   let f be a pseudorandom permutation    consider the encryption scheme for the message space  defined as follows   chooses two random keys   encryption is done as    decryption is done in the natural way   does this scheme have indistinguishable encryptions in the presence of an eavesdropper  is this scheme cpa secure    consider the encryption scheme where the message space is  and encryption of a message  is done by choosing random    and then outputting the ciphertext    decryption is done in the natural way   does this scheme have indistinguishable encryptions in the presence of an eavesdropper  is this scheme cpa secure    my current answers are   this scheme has indistinguishable encryptions in the presence of an eavesdropper since  is a prp  and therefore  will give a pseudorandom string  however i am not sure whether my intuition is correct  the scheme should not be ind cpa secure since encryption is deterministic  this scheme is both ind coa as well as ind cpa secure  ind coa since  as in      is a prp  and therefore  will give a pseudorandom string  it s also ind cpa secure as a random  is used every time a message in encrypted   since i am not too confident about my solutions i appreciate any comments and or corrections  '"
      ]
     },
     "execution_count": 99,
     "metadata": {},
     "output_type": "execute_result"
    }
   ],
   "source": [
    "df['crypto'].iloc[8875]['content']"
   ]
  },
  {
   "cell_type": "code",
   "execution_count": 100,
   "metadata": {
    "collapsed": false
   },
   "outputs": [
    {
     "data": {
      "text/plain": [
       "'are the following schemes based on a pseudo random permutation secure '"
      ]
     },
     "execution_count": 100,
     "metadata": {},
     "output_type": "execute_result"
    }
   ],
   "source": [
    "df['crypto'].iloc[8875]['title']"
   ]
  },
  {
   "cell_type": "code",
   "execution_count": 101,
   "metadata": {
    "collapsed": false
   },
   "outputs": [],
   "source": [
    "for name, data in df.items():\n",
    "    # Saving to file\n",
    "    data.to_csv(\"../dataset/processed/\" + name + \".csv\", index=False)"
   ]
  },
  {
   "cell_type": "code",
   "execution_count": null,
   "metadata": {
    "collapsed": true
   },
   "outputs": [],
   "source": []
  }
 ],
 "metadata": {
  "anaconda-cloud": {},
  "kernelspec": {
   "display_name": "Python [conda root]",
   "language": "python",
   "name": "conda-root-py"
  },
  "language_info": {
   "codemirror_mode": {
    "name": "ipython",
    "version": 3
   },
   "file_extension": ".py",
   "mimetype": "text/x-python",
   "name": "python",
   "nbconvert_exporter": "python",
   "pygments_lexer": "ipython3",
   "version": "3.5.2"
  }
 },
 "nbformat": 4,
 "nbformat_minor": 1
}
