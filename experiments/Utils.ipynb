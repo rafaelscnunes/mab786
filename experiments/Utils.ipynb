{
 "cells": [
  {
   "cell_type": "code",
   "execution_count": 37,
   "metadata": {
    "collapsed": true
   },
   "outputs": [],
   "source": [
    "import numpy as np\n",
    "\n",
    "def thermometer(real_vec, min_=-1.0, max_=1.0, n=20):\n",
    "    vec = []\n",
    "    for v in real_vec:\n",
    "        if v == max_:\n",
    "            vec.extend([1] * n)\n",
    "        else:\n",
    "            t = (max_ - min_)\n",
    "            p = v - min_\n",
    "            s = int((p / t) * n)\n",
    "            rang = [1] * (s+1)\n",
    "            rang.extend([0] * (n - s - 1))\n",
    "            vec.extend(rang)\n",
    "    return np.array(vec)\n",
    "\n",
    "def thermometer_one_hot(real_vec, min_=-1.0, max_=1.0, n=20):\n",
    "    vec = []\n",
    "    for v in real_vec:\n",
    "        if v == max_:\n",
    "            rang = [0] * n\n",
    "            rang[-1] = 1\n",
    "            vec.extend(rang)\n",
    "        else:\n",
    "            rang = [0] * n\n",
    "            t = (max_ - min_)\n",
    "            p = v - min_\n",
    "            s = int((p / t) * n)\n",
    "            rang[s] = 1\n",
    "            vec.extend(rang)\n",
    "    return np.array(vec)"
   ]
  },
  {
   "cell_type": "code",
   "execution_count": 40,
   "metadata": {
    "collapsed": false
   },
   "outputs": [
    {
     "data": {
      "text/plain": [
       "array([0, 0, 0, 0, 0, 0, 0, 0, 0, 0, 0, 0, 0, 0, 0, 0, 0, 0, 0, 1])"
      ]
     },
     "execution_count": 40,
     "metadata": {},
     "output_type": "execute_result"
    }
   ],
   "source": [
    "thermometer_one_hot([0.99])"
   ]
  },
  {
   "cell_type": "code",
   "execution_count": null,
   "metadata": {
    "collapsed": true
   },
   "outputs": [],
   "source": []
  },
  {
   "cell_type": "code",
   "execution_count": null,
   "metadata": {
    "collapsed": true
   },
   "outputs": [],
   "source": []
  }
 ],
 "metadata": {
  "anaconda-cloud": {},
  "kernelspec": {
   "display_name": "Python [conda root]",
   "language": "python",
   "name": "conda-root-py"
  },
  "language_info": {
   "codemirror_mode": {
    "name": "ipython",
    "version": 3
   },
   "file_extension": ".py",
   "mimetype": "text/x-python",
   "name": "python",
   "nbconvert_exporter": "python",
   "pygments_lexer": "ipython3",
   "version": "3.5.2"
  }
 },
 "nbformat": 4,
 "nbformat_minor": 1
}
