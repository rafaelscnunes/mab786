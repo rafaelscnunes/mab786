{
 "cells": [
  {
   "cell_type": "code",
   "execution_count": 135,
   "metadata": {
    "collapsed": false
   },
   "outputs": [],
   "source": [
    "from gensim.models import KeyedVectors\n",
    "from gensim.scripts.glove2word2vec import glove2word2vec\n",
    "from WiSARD import WiSARD\n",
    "import numpy as np\n",
    "import pandas as pd\n",
    "import math\n",
    "import sys\n",
    "import random\n",
    "import matplotlib.pyplot as plt\n",
    "import itertools\n",
    "def plot_confusion_matrix(cm, classes,\n",
    "                          normalize=False,\n",
    "                          title='Confusion matrix',\n",
    "                          cmap=plt.cm.Blues):\n",
    "    \"\"\"\n",
    "    This function prints and plots the confusion matrix.\n",
    "    Normalization can be applied by setting `normalize=True`.\n",
    "    \"\"\"\n",
    "    plt.imshow(cm, interpolation='nearest', cmap=cmap)\n",
    "    plt.title(title)\n",
    "    plt.colorbar()\n",
    "    tick_marks = np.arange(len(classes))\n",
    "    plt.xticks(tick_marks, classes, rotation=45)\n",
    "    plt.yticks(tick_marks, classes)\n",
    "\n",
    "    if normalize:\n",
    "        cm = cm.astype('float') / cm.sum(axis=1)[:, np.newaxis]\n",
    "        print(\"Normalized confusion matrix\")\n",
    "    else:\n",
    "        print('Confusion matrix, without normalization')\n",
    "\n",
    "    print(cm)\n",
    "\n",
    "    thresh = cm.max() / 2.\n",
    "    for i, j in itertools.product(range(cm.shape[0]), range(cm.shape[1])):\n",
    "        plt.text(j, i, cm[i, j],\n",
    "                 horizontalalignment=\"center\",\n",
    "                 color=\"white\" if cm[i, j] > thresh else \"black\")\n",
    "\n",
    "    plt.tight_layout()\n",
    "    plt.ylabel('Classe verdadeira')\n",
    "    plt.xlabel('Classe prevista')\n",
    "\n",
    "def thermometer(word_vec, min_=-1.0, max_=1.0, n=20):\n",
    "    vec = []\n",
    "    for v in word_vec:\n",
    "        t = (max_ - min_)/n\n",
    "        rang = []\n",
    "        for i in np.arange(min_ + t, max_, t):\n",
    "            if v > i:\n",
    "                rang.append(1)\n",
    "            else:\n",
    "                break\n",
    "        rang.extend([0] * (n-len(rang)-1))\n",
    "        vec.extend(rang)\n",
    "    return np.array(vec)"
   ]
  },
  {
   "cell_type": "code",
   "execution_count": null,
   "metadata": {
    "collapsed": true
   },
   "outputs": [],
   "source": [
    "model = KeyedVectors.load_word2vec_format('../glove.6B.50d.word2vec.txt')"
   ]
  },
  {
   "cell_type": "code",
   "execution_count": 257,
   "metadata": {
    "collapsed": false
   },
   "outputs": [],
   "source": [
    "df = {\n",
    "    \"cooking\": pd.read_csv('../dataset/processed/cooking.csv'),\n",
    "    \"crypto\": pd.read_csv('../dataset/processed/crypto.csv'),\n",
    "    \"robotics\": pd.read_csv('../dataset/processed/robotics.csv'),\n",
    "    \"biology\": pd.read_csv('../dataset/processed/biology.csv'),\n",
    "    \"travel\": pd.read_csv('../dataset/processed/travel.csv'),\n",
    "    \"diy\": pd.read_csv('../dataset/processed/diy.csv'),\n",
    "    #\"physics\": pd.read_csv('physics.csv'),\n",
    "}\n",
    "\n",
    "X = []\n",
    "y = []\n",
    "for file in df:\n",
    "    for i in range(2000):#range(df[file].shape[0]):\n",
    "        #data.append(df[file].iloc[i]['title'])\n",
    "        #data.append(df[file].iloc[i]['content'])\n",
    "        doc = df[file].iloc[i]['content']\n",
    "        v = np.array([0] * 50)\n",
    "        w = doc.split(' ')\n",
    "        for j in w:\n",
    "            if j in model:\n",
    "                v = np.add(v, model[j])\n",
    "        v = v / np.linalg.norm(v) # normalized\n",
    "        X.append(thermometer(v))\n",
    "        y.append(file)\n",
    "\n",
    "X_test = []\n",
    "y_test = []\n",
    "for file in df:\n",
    "    for i in range(2001,2501):#range(df[file].shape[0]):\n",
    "        #data.append(df[file].iloc[i]['title'])\n",
    "        #data.append(df[file].iloc[i]['content'])\n",
    "        doc = df[file].iloc[i]['content']\n",
    "        v = np.array([0] * 50)\n",
    "        w = doc.split(' ')\n",
    "        for j in w:\n",
    "            if j in model:\n",
    "                v = np.add(v, model[j])\n",
    "        v = v / np.linalg.norm(v) # normalized\n",
    "        X_test.append(thermometer(v))\n",
    "        y_test.append(file)"
   ]
  },
  {
   "cell_type": "code",
   "execution_count": 258,
   "metadata": {
    "collapsed": false
   },
   "outputs": [
    {
     "data": {
      "text/plain": [
       "3000"
      ]
     },
     "execution_count": 258,
     "metadata": {},
     "output_type": "execute_result"
    }
   ],
   "source": [
    "len(y_test)"
   ]
  },
  {
   "cell_type": "code",
   "execution_count": 242,
   "metadata": {
    "collapsed": false
   },
   "outputs": [],
   "source": [
    "#from sklearn.model_selection import KFold\n",
    "#from sklearn.utils import shuffle\n",
    "#Xnp = np.array(X)\n",
    "#ynp = np.array(y)\n",
    "#Xnp, ynp = shuffle(Xnp, ynp)\n",
    "#kf = KFold(n_splits=5, shuffle=True)\n",
    "#for train_index, test_index in kf.split(X):\n",
    "#    print(\"TRAIN:\", train_index, \"TEST:\", test_index)\n",
    "#    X_train, X_test = Xnp[train_index], Xnp[test_index]\n",
    "#    y_train, y_test = ynp[train_index], ynp[test_index]"
   ]
  },
  {
   "cell_type": "code",
   "execution_count": 259,
   "metadata": {
    "collapsed": false
   },
   "outputs": [],
   "source": [
    "w = WiSARD(8, seed=random.randint(0, 2**32-1), ignore_zero_addr=True)"
   ]
  },
  {
   "cell_type": "code",
   "execution_count": 262,
   "metadata": {
    "collapsed": false
   },
   "outputs": [],
   "source": [
    "#for i in range(len(X)):\n",
    "#    w.fit([X[i]], [y[i]])\n",
    "w.fit(X, y)"
   ]
  },
  {
   "cell_type": "code",
   "execution_count": 263,
   "metadata": {
    "collapsed": false
   },
   "outputs": [],
   "source": [
    "result = w.predict(X_test)"
   ]
  },
  {
   "cell_type": "code",
   "execution_count": 264,
   "metadata": {
    "collapsed": false
   },
   "outputs": [
    {
     "name": "stdout",
     "output_type": "stream",
     "text": [
      "Confusion matrix, without normalization\n",
      "[[  4   1   0  42   0 453]\n",
      " [  0  13   0   7   0 480]\n",
      " [  0   6   1  20   0 473]\n",
      " [  0   1   0  67   0 432]\n",
      " [  0   0   0  33  18 449]\n",
      " [  0   0   0   4   0 496]]\n"
     ]
    },
    {
     "data": {
      "image/png": "[encoded data removed]",
      "text/plain": [
       "<matplotlib.figure.Figure at 0x7f3eed944c50>"
      ]
     },
     "metadata": {},
     "output_type": "display_data"
    }
   ],
   "source": [
    "# import confusion matrix function\n",
    "from sklearn.metrics import confusion_matrix\n",
    "# Making the Confusion Matrix\n",
    "cm = confusion_matrix(y_test, result, labels=['cooking', 'crypto', 'robotics', 'biology', 'travel', 'diy'])\n",
    "#class_names = ['A','B','C','D','E','F','G','H']\n",
    "# Plot non-normalized confusion matrix\n",
    "plt.figure()\n",
    "plot_confusion_matrix(cm, classes=['cooking', 'crypto', 'robotics', 'biology', 'travel', 'diy'], title='Matriz de Confusao')\n",
    "plt.show()"
   ]
  },
  {
   "cell_type": "code",
   "execution_count": null,
   "metadata": {
    "collapsed": true
   },
   "outputs": [],
   "source": []
  }
 ],
 "metadata": {
  "anaconda-cloud": {},
  "kernelspec": {
   "display_name": "Python [conda root]",
   "language": "python",
   "name": "conda-root-py"
  },
  "language_info": {
   "codemirror_mode": {
    "name": "ipython",
    "version": 3
   },
   "file_extension": ".py",
   "mimetype": "text/x-python",
   "name": "python",
   "nbconvert_exporter": "python",
   "pygments_lexer": "ipython3",
   "version": "3.5.2"
  }
 },
 "nbformat": 4,
 "nbformat_minor": 1
}
