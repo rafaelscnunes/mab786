{
 "cells": [
  {
   "cell_type": "markdown",
   "metadata": {},
   "source": [
    "# Setup"
   ]
  },
  {
   "cell_type": "code",
   "execution_count": 1,
   "metadata": {
    "ExecuteTime": {
     "end_time": "2018-05-04T10:56:36.582533Z",
     "start_time": "2018-05-04T10:56:32.195724Z"
    }
   },
   "outputs": [],
   "source": [
    "import numpy as np\n",
    "import pandas as pd\n",
    "pd.options.mode.chained_assignment = None  # default='warn'\n",
    "\n",
    "import seaborn as sns\n",
    "color = sns.color_palette()\n",
    "import matplotlib.pyplot as plt \n",
    "%matplotlib inline\n",
    "\n",
    "from nltk.corpus import stopwords\n",
    "STOP_WORDS = set(stopwords.words('english'))\n",
    "from nltk import word_tokenize, ngrams\n",
    "\n",
    "from sklearn.ensemble import RandomForestClassifier\n",
    "from sklearn.utils import resample\n",
    "from sklearn.metrics import log_loss\n",
    "from sklearn.model_selection import KFold\n",
    "from sklearn.preprocessing import LabelEncoder\n",
    "from sklearn.decomposition import TruncatedSVD\n",
    "from sklearn.model_selection import train_test_split\n",
    "from sklearn.feature_extraction.text import TfidfVectorizer\n",
    "from sklearn.naive_bayes import GaussianNB\n",
    "from sklearn.naive_bayes import BernoulliNB\n",
    "from sklearn.metrics import confusion_matrix\n",
    "from sklearn.metrics import accuracy_score\n",
    "\n",
    "import itertools\n",
    "import xgboost as xgb"
   ]
  },
  {
   "cell_type": "markdown",
   "metadata": {},
   "source": [
    "# Pre-processing"
   ]
  },
  {
   "cell_type": "markdown",
   "metadata": {},
   "source": [
    "## Importing..."
   ]
  },
  {
   "cell_type": "code",
   "execution_count": 2,
   "metadata": {
    "ExecuteTime": {
     "end_time": "2018-05-04T10:56:38.525210Z",
     "start_time": "2018-05-04T10:56:36.675082Z"
    }
   },
   "outputs": [],
   "source": [
    "# df = pd.read_csv('pizza.csv')\n",
    "# df = pd.read_csv('pizza.csv', parse_dates=['dates'])\n",
    "# df = pd.read_csv('pizza.csv', usecols=['foo', 'bar'])\n",
    "\n",
    "df = {\n",
    "    \"cooking\": pd.read_csv('../dataset/processed/cooking.csv', usecols=['title', 'content']),\n",
    "    \"crypto\": pd.read_csv('../dataset/processed/crypto.csv', usecols=['title', 'content']),\n",
    "    \"robotics\": pd.read_csv('../dataset/processed/robotics.csv', usecols=['title', 'content']),\n",
    "    \"biology\": pd.read_csv('../dataset/processed/biology.csv', usecols=['title', 'content']),\n",
    "    \"travel\": pd.read_csv('../dataset/processed/travel.csv', usecols=['title', 'content']),\n",
    "    \"diy\": pd.read_csv('../dataset/processed/diy.csv', usecols=['title', 'content']),\n",
    "    #\"physics\": pd.read_csv('physics.csv'),\n",
    "}"
   ]
  },
  {
   "cell_type": "markdown",
   "metadata": {},
   "source": [
    "## Generating new .csv file with title+content and class columns..."
   ]
  },
  {
   "cell_type": "code",
   "execution_count": 3,
   "metadata": {
    "ExecuteTime": {
     "end_time": "2018-05-04T10:56:50.823461Z",
     "start_time": "2018-05-04T10:56:39.060865Z"
    }
   },
   "outputs": [
    {
     "data": {
      "text/plain": [
       "20"
      ]
     },
     "execution_count": 3,
     "metadata": {},
     "output_type": "execute_result"
    }
   ],
   "source": [
    "with open('../dataset/processed/data.csv', 'w') as f:\n",
    "    f.write('title_content|label\\n')\n",
    "    for _class in df:\n",
    "        df[_class]['title_content'] = df[_class][['title', 'content']].apply(lambda x: '{} {}'.format(x[0],x[1]), axis=1)\n",
    "        df[_class]['label'] = _class\n",
    "        df[_class].to_csv(f, sep='|', columns=['title_content', 'label'], header=False, index=False)"
   ]
  },
  {
   "cell_type": "markdown",
   "metadata": {
    "ExecuteTime": {
     "end_time": "2018-04-27T02:48:59.162152Z",
     "start_time": "2018-04-27T02:48:59.120563Z"
    }
   },
   "source": [
    "# Data Analysis"
   ]
  },
  {
   "cell_type": "markdown",
   "metadata": {},
   "source": [
    "## Exploration"
   ]
  },
  {
   "cell_type": "code",
   "execution_count": 4,
   "metadata": {
    "ExecuteTime": {
     "end_time": "2018-05-04T10:56:53.349804Z",
     "start_time": "2018-05-04T10:56:51.638122Z"
    }
   },
   "outputs": [
    {
     "data": {
      "text/html": [
       "<div>\n",
       "<style scoped>\n",
       "    .dataframe tbody tr th:only-of-type {\n",
       "        vertical-align: middle;\n",
       "    }\n",
       "\n",
       "    .dataframe tbody tr th {\n",
       "        vertical-align: top;\n",
       "    }\n",
       "\n",
       "    .dataframe thead th {\n",
       "        text-align: right;\n",
       "    }\n",
       "</style>\n",
       "<table border=\"1\" class=\"dataframe\">\n",
       "  <thead>\n",
       "    <tr style=\"text-align: right;\">\n",
       "      <th></th>\n",
       "      <th>title_content</th>\n",
       "      <th>label</th>\n",
       "    </tr>\n",
       "  </thead>\n",
       "  <tbody>\n",
       "    <tr>\n",
       "      <th>75597</th>\n",
       "      <td>what type filters should use for stage whole h...</td>\n",
       "      <td>diy</td>\n",
       "    </tr>\n",
       "    <tr>\n",
       "      <th>61769</th>\n",
       "      <td>should install tamper resistant when changing ...</td>\n",
       "      <td>diy</td>\n",
       "    </tr>\n",
       "    <tr>\n",
       "      <th>25857</th>\n",
       "      <td>what algorithm can use for map explored area u...</td>\n",
       "      <td>robotics</td>\n",
       "    </tr>\n",
       "    <tr>\n",
       "      <th>25479</th>\n",
       "      <td>can discard specific signature from file writi...</td>\n",
       "      <td>crypto</td>\n",
       "    </tr>\n",
       "    <tr>\n",
       "      <th>4189</th>\n",
       "      <td>storing cut button mushrooms whole button mush...</td>\n",
       "      <td>cooking</td>\n",
       "    </tr>\n",
       "  </tbody>\n",
       "</table>\n",
       "</div>"
      ],
      "text/plain": [
       "                                           title_content     label\n",
       "75597  what type filters should use for stage whole h...       diy\n",
       "61769  should install tamper resistant when changing ...       diy\n",
       "25857  what algorithm can use for map explored area u...  robotics\n",
       "25479  can discard specific signature from file writi...    crypto\n",
       "4189   storing cut button mushrooms whole button mush...   cooking"
      ]
     },
     "execution_count": 4,
     "metadata": {},
     "output_type": "execute_result"
    },
    {
     "data": {
      "text/html": [
       "<div>\n",
       "<style scoped>\n",
       "    .dataframe tbody tr th:only-of-type {\n",
       "        vertical-align: middle;\n",
       "    }\n",
       "\n",
       "    .dataframe tbody tr th {\n",
       "        vertical-align: top;\n",
       "    }\n",
       "\n",
       "    .dataframe thead th {\n",
       "        text-align: right;\n",
       "    }\n",
       "</style>\n",
       "<table border=\"1\" class=\"dataframe\">\n",
       "  <thead>\n",
       "    <tr style=\"text-align: right;\">\n",
       "      <th></th>\n",
       "      <th>title_content</th>\n",
       "      <th>label</th>\n",
       "    </tr>\n",
       "  </thead>\n",
       "  <tbody>\n",
       "    <tr>\n",
       "      <th>count</th>\n",
       "      <td>87000</td>\n",
       "      <td>87000</td>\n",
       "    </tr>\n",
       "    <tr>\n",
       "      <th>unique</th>\n",
       "      <td>86988</td>\n",
       "      <td>6</td>\n",
       "    </tr>\n",
       "    <tr>\n",
       "      <th>top</th>\n",
       "      <td>motor for diy remote controlled shades current...</td>\n",
       "      <td>diy</td>\n",
       "    </tr>\n",
       "    <tr>\n",
       "      <th>freq</th>\n",
       "      <td>2</td>\n",
       "      <td>25918</td>\n",
       "    </tr>\n",
       "  </tbody>\n",
       "</table>\n",
       "</div>"
      ],
      "text/plain": [
       "                                            title_content  label\n",
       "count                                               87000  87000\n",
       "unique                                              86988      6\n",
       "top     motor for diy remote controlled shades current...    diy\n",
       "freq                                                    2  25918"
      ]
     },
     "execution_count": 4,
     "metadata": {},
     "output_type": "execute_result"
    }
   ],
   "source": [
    "dataset = pd.read_csv('../dataset/processed/data.csv', sep='|')\n",
    "# dataset.head()\n",
    "# dataset.tail()\n",
    "dataset.sample(5)\n",
    "# dataset.shape\n",
    "dataset.describe()\n",
    "# dataset.info()"
   ]
  },
  {
   "cell_type": "markdown",
   "metadata": {},
   "source": [
    "## Labels distribution"
   ]
  },
  {
   "cell_type": "markdown",
   "metadata": {},
   "source": [
    "### Absolut numbers & Percentage"
   ]
  },
  {
   "cell_type": "code",
   "execution_count": 5,
   "metadata": {
    "ExecuteTime": {
     "end_time": "2018-05-04T10:56:54.463685Z",
     "start_time": "2018-05-04T10:56:54.289075Z"
    }
   },
   "outputs": [
    {
     "name": "stdout",
     "output_type": "stream",
     "text": [
      "count        6.000000\n",
      "mean     14500.000000\n",
      "std       7872.042454\n",
      "min       2771.000000\n",
      "25%      11123.000000\n",
      "50%      14300.000000\n",
      "75%      18310.250000\n",
      "max      25918.000000\n",
      "Name: label, dtype: float64\n",
      "biology     13196\n",
      "cooking     15404\n",
      "crypto      10432\n",
      "diy         25918\n",
      "robotics     2771\n",
      "travel      19279\n",
      "Name: label, dtype: int64\n",
      "biology     15.167816\n",
      "cooking     17.705747\n",
      "crypto      11.990805\n",
      "diy         29.790805\n",
      "robotics     3.185057\n",
      "travel      22.159770\n",
      "Name: label, dtype: float64\n"
     ]
    }
   ],
   "source": [
    "labels = dataset['label'].value_counts()\n",
    "print(labels.describe())\n",
    "print(labels.sort_index())\n",
    "print(labels.sort_index()/labels.sum()*100)"
   ]
  },
  {
   "cell_type": "markdown",
   "metadata": {},
   "source": [
    "### Histogram"
   ]
  },
  {
   "cell_type": "code",
   "execution_count": 6,
   "metadata": {
    "ExecuteTime": {
     "end_time": "2018-05-04T10:56:56.658665Z",
     "start_time": "2018-05-04T10:56:55.394079Z"
    }
   },
   "outputs": [
    {
     "data": {
      "text/plain": [
       "Text(0,0.5,'Observations')"
      ]
     },
     "execution_count": 6,
     "metadata": {},
     "output_type": "execute_result"
    },
    {
     "data": {
      "text/plain": [
       "Text(0.5,0,'Labels')"
      ]
     },
     "execution_count": 6,
     "metadata": {},
     "output_type": "execute_result"
    },
    {
     "data": {
      "text/plain": [
       "(array([0, 1, 2, 3, 4, 5]), <a list of 6 Text xticklabel objects>)"
      ]
     },
     "execution_count": 6,
     "metadata": {},
     "output_type": "execute_result"
    },
    {
     "data": {
      "text/plain": [
       "Text(0.5,1,'Labels frequency histogram')"
      ]
     },
     "execution_count": 6,
     "metadata": {},
     "output_type": "execute_result"
    },
    {
     "data": {
      "image/png": "[encoded data removed]",
      "text/plain": [
       "<Figure size 1440x720 with 1 Axes>"
      ]
     },
     "metadata": {},
     "output_type": "display_data"
    }
   ],
   "source": [
    "fig = plt.figure(figsize=(20, 10))\n",
    "ax1 = sns.countplot(dataset['label'].sort_values())\n",
    "plt.ylabel('Observations', fontsize=12)\n",
    "plt.xlabel('Labels', fontsize=12)\n",
    "plt.xticks(rotation='vertical')\n",
    "plt.title('Labels frequency histogram')\n",
    "plt.show()"
   ]
  },
  {
   "cell_type": "markdown",
   "metadata": {},
   "source": [
    "## Word distribution"
   ]
  },
  {
   "cell_type": "markdown",
   "metadata": {},
   "source": [
    "### Statistics of the number of words (size) of title_content text field"
   ]
  },
  {
   "cell_type": "code",
   "execution_count": 7,
   "metadata": {
    "ExecuteTime": {
     "end_time": "2018-05-04T10:56:59.029986Z",
     "start_time": "2018-05-04T10:56:57.611794Z"
    }
   },
   "outputs": [],
   "source": [
    "dataset['size'] = dataset['title_content'].apply(lambda x : len(str(x).split()))\n",
    "sizes = dataset['size'].value_counts()"
   ]
  },
  {
   "cell_type": "code",
   "execution_count": 8,
   "metadata": {
    "ExecuteTime": {
     "end_time": "2018-05-04T10:56:59.800261Z",
     "start_time": "2018-05-04T10:56:59.760137Z"
    }
   },
   "outputs": [
    {
     "data": {
      "text/plain": [
       "count    87000.000000\n",
       "mean        83.234460\n",
       "std         64.852637\n",
       "min          3.000000\n",
       "25%         42.000000\n",
       "50%         66.000000\n",
       "75%        103.000000\n",
       "max       1725.000000\n",
       "Name: size, dtype: float64"
      ]
     },
     "execution_count": 8,
     "metadata": {},
     "output_type": "execute_result"
    },
    {
     "name": "stdout",
     "output_type": "stream",
     "text": [
      "The top 20 most frequent size of title_content, and their respective frequency:\n",
      "44    1065\n",
      "39    1058\n",
      "35    1055\n",
      "42    1053\n",
      "51    1023\n",
      "45    1023\n",
      "47    1016\n",
      "50    1008\n",
      "41    1008\n",
      "37     995\n",
      "36     989\n",
      "55     983\n",
      "38     982\n",
      "46     978\n",
      "40     959\n",
      "33     956\n",
      "32     953\n",
      "34     952\n",
      "31     949\n",
      "43     948\n",
      "Name: size, dtype: int64\n"
     ]
    }
   ],
   "source": [
    "dataset['size'].describe()\n",
    "print('The top 20 most frequent size of title_content, and their respective frequency:')\n",
    "print(sizes.nlargest(20))"
   ]
  },
  {
   "cell_type": "markdown",
   "metadata": {},
   "source": [
    "### Histogram"
   ]
  },
  {
   "cell_type": "code",
   "execution_count": 9,
   "metadata": {
    "ExecuteTime": {
     "end_time": "2018-05-04T10:57:09.757709Z",
     "start_time": "2018-05-04T10:57:00.688345Z"
    }
   },
   "outputs": [
    {
     "data": {
      "text/plain": [
       "[]"
      ]
     },
     "execution_count": 9,
     "metadata": {},
     "output_type": "execute_result"
    },
    {
     "data": {
      "text/plain": [
       "Text(0.5,1,'Number of words frequency histogram')"
      ]
     },
     "execution_count": 9,
     "metadata": {},
     "output_type": "execute_result"
    },
    {
     "data": {
      "text/plain": [
       "Text(0,0.5,'Number of Occurrences')"
      ]
     },
     "execution_count": 9,
     "metadata": {},
     "output_type": "execute_result"
    },
    {
     "data": {
      "text/plain": [
       "Text(0.5,0,'Number of words')"
      ]
     },
     "execution_count": 9,
     "metadata": {},
     "output_type": "execute_result"
    },
    {
     "data": {
      "image/png": "[encoded data removed]",
      "text/plain": [
       "<Figure size 1440x720 with 1 Axes>"
      ]
     },
     "metadata": {},
     "output_type": "display_data"
    }
   ],
   "source": [
    "fig = plt.figure(figsize=(20, 10))\n",
    "ax1 = sns.barplot(sizes.index, sizes.values, alpha=0.8)\n",
    "ax1.set_xticklabels([])\n",
    "plt.title('Number of words frequency histogram')\n",
    "plt.ylabel('Number of Occurrences', fontsize=12)\n",
    "plt.xlabel('Number of words', fontsize=12)\n",
    "plt.show()"
   ]
  },
  {
   "cell_type": "markdown",
   "metadata": {},
   "source": [
    "## Data example"
   ]
  },
  {
   "cell_type": "markdown",
   "metadata": {},
   "source": [
    "### Robotics texts with more than 200 words"
   ]
  },
  {
   "cell_type": "code",
   "execution_count": 10,
   "metadata": {
    "ExecuteTime": {
     "end_time": "2018-05-04T10:57:11.742330Z",
     "start_time": "2018-05-04T10:57:10.598056Z"
    }
   },
   "outputs": [
    {
     "data": {
      "text/html": [
       "<div>\n",
       "<style scoped>\n",
       "    .dataframe tbody tr th:only-of-type {\n",
       "        vertical-align: middle;\n",
       "    }\n",
       "\n",
       "    .dataframe tbody tr th {\n",
       "        vertical-align: top;\n",
       "    }\n",
       "\n",
       "    .dataframe thead th {\n",
       "        text-align: right;\n",
       "    }\n",
       "</style>\n",
       "<table border=\"1\" class=\"dataframe\">\n",
       "  <thead>\n",
       "    <tr style=\"text-align: right;\">\n",
       "      <th></th>\n",
       "      <th>size</th>\n",
       "    </tr>\n",
       "  </thead>\n",
       "  <tbody>\n",
       "    <tr>\n",
       "      <th>count</th>\n",
       "      <td>237.000000</td>\n",
       "    </tr>\n",
       "    <tr>\n",
       "      <th>mean</th>\n",
       "      <td>299.438819</td>\n",
       "    </tr>\n",
       "    <tr>\n",
       "      <th>std</th>\n",
       "      <td>133.648324</td>\n",
       "    </tr>\n",
       "    <tr>\n",
       "      <th>min</th>\n",
       "      <td>201.000000</td>\n",
       "    </tr>\n",
       "    <tr>\n",
       "      <th>25%</th>\n",
       "      <td>226.000000</td>\n",
       "    </tr>\n",
       "    <tr>\n",
       "      <th>50%</th>\n",
       "      <td>257.000000</td>\n",
       "    </tr>\n",
       "    <tr>\n",
       "      <th>75%</th>\n",
       "      <td>318.000000</td>\n",
       "    </tr>\n",
       "    <tr>\n",
       "      <th>max</th>\n",
       "      <td>1276.000000</td>\n",
       "    </tr>\n",
       "  </tbody>\n",
       "</table>\n",
       "</div>"
      ],
      "text/plain": [
       "              size\n",
       "count   237.000000\n",
       "mean    299.438819\n",
       "std     133.648324\n",
       "min     201.000000\n",
       "25%     226.000000\n",
       "50%     257.000000\n",
       "75%     318.000000\n",
       "max    1276.000000"
      ]
     },
     "execution_count": 10,
     "metadata": {},
     "output_type": "execute_result"
    }
   ],
   "source": [
    "filtered_data = dataset[(dataset.label == 'robotics') & (dataset.title_content.apply(lambda x : len(str(x).split())) > 200)]\n",
    "filtered_data.describe()"
   ]
  },
  {
   "cell_type": "markdown",
   "metadata": {},
   "source": [
    "### Cell content example"
   ]
  },
  {
   "cell_type": "code",
   "execution_count": 11,
   "metadata": {
    "ExecuteTime": {
     "end_time": "2018-05-04T10:57:11.766587Z",
     "start_time": "2018-05-04T10:57:11.747747Z"
    }
   },
   "outputs": [
    {
     "name": "stdout",
     "output_type": "stream",
     "text": [
      "TEXT: visa needed for transit heatrow wife ukrainian citizen with romanian residency permit have tickets for flight madrid heatrow seoul see below details jue iberia turista madrid adolfo rez barajas terminal londres heathrow terminal jue british airways turista londres heathrow terminal seoul incheon want understand she needs transit visa not far that there the datv visa which can used you will not thourgh border control but don know this the case not will not have checkin our luggage but there any other border control that might have pass the terminals will change and not both flights will depart from terminal according this you don need apply for one you have eea family permit which seems the case this situation she not required any visa all\n",
      "LABEL: travel\n",
      "LENGTH: 124 words.\n"
     ]
    }
   ],
   "source": [
    "line=61041\n",
    "print('TEXT: {0}'.format(dataset.loc[61041, 'title_content']))\n",
    "print('LABEL: {0}'.format(dataset.loc[61041, 'label']))\n",
    "print('LENGTH: {0} words.'.format(len(dataset.loc[61041, 'title_content'].split())))"
   ]
  },
  {
   "cell_type": "markdown",
   "metadata": {
    "hide_input": false
   },
   "source": [
    "# Sampling"
   ]
  },
  {
   "cell_type": "code",
   "execution_count": 12,
   "metadata": {
    "ExecuteTime": {
     "end_time": "2018-05-04T10:57:12.898559Z",
     "start_time": "2018-05-04T10:57:11.775940Z"
    }
   },
   "outputs": [
    {
     "data": {
      "text/plain": [
       "Text(0,0.5,'Observations')"
      ]
     },
     "execution_count": 12,
     "metadata": {},
     "output_type": "execute_result"
    },
    {
     "data": {
      "text/plain": [
       "Text(0.5,0,'Labels')"
      ]
     },
     "execution_count": 12,
     "metadata": {},
     "output_type": "execute_result"
    },
    {
     "data": {
      "text/plain": [
       "Text(0.5,1,'Labels Histogram')"
      ]
     },
     "execution_count": 12,
     "metadata": {},
     "output_type": "execute_result"
    },
    {
     "data": {
      "image/png": "[encoded data removed]",
      "text/plain": [
       "<Figure size 1440x720 with 1 Axes>"
      ]
     },
     "metadata": {},
     "output_type": "display_data"
    }
   ],
   "source": [
    "ds = {}\n",
    "for label in labels.keys():\n",
    "    ds[label] = dataset[dataset.label == label]\n",
    "#     ds[label] = resample(ds[label], replace=False, n_samples=labels.min(), random_state=711)\n",
    "ds = pd.concat(ds[label] for label in ds)\n",
    "\n",
    "fig = plt.figure(figsize=(20, 10))\n",
    "ax1 = sns.countplot(ds['label'].sort_values())\n",
    "plt.ylabel('Observations', fontsize=12)\n",
    "plt.xlabel('Labels', fontsize=12)\n",
    "# plt.xticks(rotation='vertical')\n",
    "plt.title('Labels Histogram')\n",
    "plt.show()"
   ]
  },
  {
   "cell_type": "markdown",
   "metadata": {},
   "source": [
    "# Bag-of-Words"
   ]
  },
  {
   "cell_type": "code",
   "execution_count": null,
   "metadata": {},
   "outputs": [],
   "source": []
  },
  {
   "cell_type": "code",
   "execution_count": 13,
   "metadata": {
    "ExecuteTime": {
     "end_time": "2018-05-04T10:57:24.221250Z",
     "start_time": "2018-05-04T10:57:12.903934Z"
    }
   },
   "outputs": [
    {
     "name": "stdout",
     "output_type": "stream",
     "text": [
      "(87000, 37087)\n",
      "Encoded labels:  [(0, 'biology'), (1, 'cooking'), (2, 'crypto'), (3, 'diy'), (4, 'robotics'), (5, 'travel')]\n"
     ]
    }
   ],
   "source": [
    "tfidf = TfidfVectorizer(analyzer='word',\n",
    "                        stop_words=STOP_WORDS,\n",
    "                        ngram_range=(1,1),\n",
    "                        max_df=0.7, min_df=2,\n",
    "                        sublinear_tf=True)\n",
    "X = tfidf.fit_transform(ds['title_content'])\n",
    "print(X.shape)\n",
    "\n",
    "l_enc = LabelEncoder()\n",
    "y = l_enc.fit_transform(ds['label'])\n",
    "print('Encoded labels: ', list([(i, l_enc.classes_[i]) for i in range(0, len(l_enc.classes_))]))"
   ]
  },
  {
   "cell_type": "markdown",
   "metadata": {},
   "source": [
    "# Dimensionality reduction"
   ]
  },
  {
   "cell_type": "code",
   "execution_count": 14,
   "metadata": {
    "ExecuteTime": {
     "end_time": "2018-05-04T11:38:06.985429Z",
     "start_time": "2018-05-04T10:57:29.355273Z"
    }
   },
   "outputs": [
    {
     "name": "stdout",
     "output_type": "stream",
     "text": [
      "Shape of svd matrix:  (87000, 1000)\n"
     ]
    }
   ],
   "source": [
    "svd = TruncatedSVD(n_components=1000, algorithm='randomized')\n",
    "X_svd = svd.fit_transform(X)\n",
    "print('Shape of svd matrix: ', X_svd.shape)"
   ]
  },
  {
   "cell_type": "markdown",
   "metadata": {},
   "source": [
    "# Split Valid/Train/Test examples"
   ]
  },
  {
   "cell_type": "code",
   "execution_count": 15,
   "metadata": {
    "ExecuteTime": {
     "end_time": "2018-05-04T11:39:02.666682Z",
     "start_time": "2018-05-04T11:38:21.043575Z"
    }
   },
   "outputs": [
    {
     "name": "stdout",
     "output_type": "stream",
     "text": [
      "X_train matrix shape is: (62640, 1000)\n",
      "X_test matrix shape is: (15660, 1000)\n",
      "X_valid matrix shape is: (8700, 1000)\n",
      "y_train matrix shape is: (62640,)\n",
      "y_test matrix shape: (15660,)\n",
      "y_valid matrix shape: (8700,)\n"
     ]
    }
   ],
   "source": [
    "# X = np.concatenate([svd_titulo, svd_resumo], axis=1)\n",
    "X_temp, X_valid, y_temp, y_valid = train_test_split(X_svd, y, test_size=0.1, random_state=283)\n",
    "X_train, X_test, y_train, y_test = train_test_split(X_temp, y_temp, test_size=0.2, random_state=283)\n",
    "\n",
    "print('X_train matrix shape is: {0}'.format(X_train.shape))\n",
    "print('X_test matrix shape is: {0}'.format(X_test.shape))\n",
    "print('X_valid matrix shape is: {0}'.format(X_valid.shape))\n",
    "print('y_train matrix shape is: {0}'.format(y_train.shape))\n",
    "print('y_test matrix shape: {0}'.format(y_test.shape))\n",
    "print('y_valid matrix shape: {0}'.format(y_valid.shape))"
   ]
  },
  {
   "cell_type": "markdown",
   "metadata": {},
   "source": [
    "# Experiments"
   ]
  },
  {
   "cell_type": "code",
   "execution_count": 16,
   "metadata": {
    "ExecuteTime": {
     "end_time": "2018-05-04T11:39:51.213545Z",
     "start_time": "2018-05-04T11:39:49.246041Z"
    }
   },
   "outputs": [],
   "source": [
    "def plot_confusion_matrix(cm, classes,\n",
    "                          normalize=False,\n",
    "                          title='',\n",
    "                          cmap=plt.cm.Blues):\n",
    "    \"\"\"\n",
    "    This function prints and plots the confusion matrix.\n",
    "    Normalization can be applied by setting `normalize=True`.\n",
    "    \"\"\"\n",
    "    plt.figure()\n",
    "    plt.imshow(cm, interpolation='nearest', cmap=cmap)\n",
    "    plt.colorbar()\n",
    "    tick_marks = np.arange(len(classes))\n",
    "    plt.xticks(tick_marks, classes, rotation=45)\n",
    "    plt.yticks(tick_marks, classes)\n",
    "\n",
    "    if normalize:\n",
    "        cm = cm.astype('float') / cm.sum(axis=1)[:, np.newaxis]\n",
    "        plt.title(title + \" normalized confusion matrix\")\n",
    "    else:\n",
    "        plt.title(title + ' confusion matrix, without normalization')\n",
    "\n",
    "    print(cm)\n",
    "\n",
    "    thresh = cm.max() / 2.\n",
    "    for i, j in itertools.product(range(cm.shape[0]), range(cm.shape[1])):\n",
    "        plt.text(j, i, cm[i, j],\n",
    "                 horizontalalignment=\"center\",\n",
    "                 color=\"white\" if cm[i, j] > thresh else \"black\")\n",
    "\n",
    "    plt.tight_layout()\n",
    "    plt.ylabel('True class')\n",
    "    plt.xlabel('Predicted class')\n",
    "    plt.show()"
   ]
  },
  {
   "cell_type": "markdown",
   "metadata": {},
   "source": [
    "## Naïve-Bayes Gaussian"
   ]
  },
  {
   "cell_type": "code",
   "execution_count": 17,
   "metadata": {
    "ExecuteTime": {
     "end_time": "2018-05-04T11:41:02.060421Z",
     "start_time": "2018-05-04T11:40:13.643455Z"
    }
   },
   "outputs": [
    {
     "data": {
      "text/plain": [
       "GaussianNB(priors=None)"
      ]
     },
     "execution_count": 17,
     "metadata": {},
     "output_type": "execute_result"
    },
    {
     "name": "stdout",
     "output_type": "stream",
     "text": [
      "Accuracy: 0.8054916985951469\n",
      "[[1927   98   55  165   13  104]\n",
      " [ 436 2072    5  271    9   25]\n",
      " [ 168    8 1607   33   27   14]\n",
      " [ 328  156    5 3927   49  176]\n",
      " [  67    6    8   37  375   12]\n",
      " [ 555   27    4  166   19 2706]]\n"
     ]
    },
    {
     "data": {
      "image/png": "[encoded data removed]",
      "text/plain": [
       "<Figure size 432x288 with 2 Axes>"
      ]
     },
     "metadata": {},
     "output_type": "display_data"
    }
   ],
   "source": [
    "nbg = GaussianNB()\n",
    "nbg.fit(X_train, y_train)\n",
    "y_pred = nbg.predict(X_test)\n",
    "\n",
    "cm = confusion_matrix(y_test, y_pred)\n",
    "print('Accuracy: ' + str(accuracy_score(y_test, y_pred)))\n",
    "plot_confusion_matrix(cm, l_enc.classes_, title='Naïve-Bayes')"
   ]
  },
  {
   "cell_type": "markdown",
   "metadata": {},
   "source": [
    "## Naïve-Bayes Bernoulli"
   ]
  },
  {
   "cell_type": "code",
   "execution_count": 18,
   "metadata": {
    "ExecuteTime": {
     "end_time": "2018-05-04T11:41:51.253855Z",
     "start_time": "2018-05-04T11:41:12.556146Z"
    }
   },
   "outputs": [
    {
     "data": {
      "text/plain": [
       "BernoulliNB(alpha=1.0, binarize=0.0, class_prior=None, fit_prior=True)"
      ]
     },
     "execution_count": 18,
     "metadata": {},
     "output_type": "execute_result"
    },
    {
     "name": "stdout",
     "output_type": "stream",
     "text": [
      "Accuracy: 0.9095785440613027\n",
      "[[2011   70   53  126    7   95]\n",
      " [  79 2418    6  215    1   99]\n",
      " [  43   16 1673   50    4   71]\n",
      " [  41   70   32 4431   10   57]\n",
      " [  17   15   27   32  399   15]\n",
      " [  27   18   12  107    1 3312]]\n"
     ]
    },
    {
     "data": {
      "image/png": "[encoded data removed]",
      "text/plain": [
       "<Figure size 432x288 with 2 Axes>"
      ]
     },
     "metadata": {},
     "output_type": "display_data"
    }
   ],
   "source": [
    "nbb = BernoulliNB()\n",
    "nbb.fit(X_train, y_train)\n",
    "y_pred = nbb.predict(X_test)\n",
    "\n",
    "cm = confusion_matrix(y_test, y_pred)\n",
    "print('Accuracy: ' + str(accuracy_score(y_test, y_pred)))\n",
    "plot_confusion_matrix(cm, l_enc.classes_, title='Naïve-Bayes')"
   ]
  },
  {
   "cell_type": "markdown",
   "metadata": {},
   "source": [
    "## Random Forest"
   ]
  },
  {
   "cell_type": "code",
   "execution_count": 19,
   "metadata": {
    "ExecuteTime": {
     "end_time": "2018-05-04T11:43:46.136133Z",
     "start_time": "2018-05-04T11:41:52.693378Z"
    }
   },
   "outputs": [
    {
     "data": {
      "text/plain": [
       "RandomForestClassifier(bootstrap=True, class_weight=None, criterion='gini',\n",
       "            max_depth=None, max_features='auto', max_leaf_nodes=None,\n",
       "            min_impurity_decrease=0.0, min_impurity_split=None,\n",
       "            min_samples_leaf=1, min_samples_split=2,\n",
       "            min_weight_fraction_leaf=0.0, n_estimators=10, n_jobs=1,\n",
       "            oob_score=False, random_state=None, verbose=0,\n",
       "            warm_start=False)"
      ]
     },
     "execution_count": 19,
     "metadata": {},
     "output_type": "execute_result"
    },
    {
     "name": "stdout",
     "output_type": "stream",
     "text": [
      "Accuracy: 0.9147509578544061\n",
      "[[2092   68   35   89    7   71]\n",
      " [ 108 2533    8  126    3   40]\n",
      " [  75   13 1712   38    4   15]\n",
      " [  64   88   24 4427    6   32]\n",
      " [  70   12   41   79  281   22]\n",
      " [  91   28    4   73    1 3280]]\n"
     ]
    },
    {
     "data": {
      "image/png": "[encoded data removed]",
      "text/plain": [
       "<Figure size 432x288 with 2 Axes>"
      ]
     },
     "metadata": {},
     "output_type": "display_data"
    }
   ],
   "source": [
    "rf = RandomForestClassifier()\n",
    "rf.fit(X_train, y_train)\n",
    "y_pred = rf.predict(X_test)\n",
    "\n",
    "cm = confusion_matrix(y_test, y_pred)\n",
    "print('Accuracy: ' + str(accuracy_score(y_test, y_pred)))\n",
    "plot_confusion_matrix(cm, l_enc.classes_, title='Naïve-Bayes')"
   ]
  }
 ],
 "metadata": {
  "anaconda-cloud": {},
  "hide_input": false,
  "kernelspec": {
   "display_name": "Python 3",
   "language": "python",
   "name": "python3"
  },
  "language_info": {
   "codemirror_mode": {
    "name": "ipython",
    "version": 3
   },
   "file_extension": ".py",
   "mimetype": "text/x-python",
   "name": "python",
   "nbconvert_exporter": "python",
   "pygments_lexer": "ipython3",
   "version": "3.6.5"
  },
  "latex_envs": {
   "LaTeX_envs_menu_present": true,
   "autoclose": false,
   "autocomplete": true,
   "bibliofile": "biblio.bib",
   "cite_by": "apalike",
   "current_citInitial": 1,
   "eqLabelWithNumbers": true,
   "eqNumInitial": 1,
   "hotkeys": {
    "equation": "Ctrl-E",
    "itemize": "Ctrl-I"
   },
   "labels_anchors": false,
   "latex_user_defs": false,
   "report_style_numbering": false,
   "user_envs_cfg": false
  },
  "varInspector": {
   "cols": {
    "lenName": 16,
    "lenType": 16,
    "lenVar": 40
   },
   "kernels_config": {
    "python": {
     "delete_cmd_postfix": "",
     "delete_cmd_prefix": "del ",
     "library": "var_list.py",
     "varRefreshCmd": "print(var_dic_list())"
    },
    "r": {
     "delete_cmd_postfix": ") ",
     "delete_cmd_prefix": "rm(",
     "library": "var_list.r",
     "varRefreshCmd": "cat(var_dic_list()) "
    }
   },
   "types_to_exclude": [
    "module",
    "function",
    "builtin_function_or_method",
    "instance",
    "_Feature"
   ],
   "window_display": false
  }
 },
 "nbformat": 4,
 "nbformat_minor": 1
}
