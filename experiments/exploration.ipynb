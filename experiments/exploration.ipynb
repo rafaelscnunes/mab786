{
 "cells": [
  {
   "cell_type": "code",
   "execution_count": 1,
   "metadata": {
    "ExecuteTime": {
     "end_time": "2018-03-30T19:59:08.017412Z",
     "start_time": "2018-03-30T19:59:07.982851Z"
    },
    "collapsed": false,
    "hide_input": false
   },
   "outputs": [
    {
     "data": {
      "text/plain": [
       "'/Users/rafaenune/Documents/PESC-EDC/MAB786 - Redes neurais sem peso/Transfer learning on stack exchange tags'"
      ]
     },
     "execution_count": 1,
     "metadata": {},
     "output_type": "execute_result"
    }
   ],
   "source": [
    "%pwd"
   ]
  },
  {
   "cell_type": "code",
   "execution_count": 1,
   "metadata": {
    "ExecuteTime": {
     "end_time": "2018-03-30T19:59:10.293248Z",
     "start_time": "2018-03-30T19:59:08.701541Z"
    },
    "collapsed": true,
    "hide_input": false
   },
   "outputs": [],
   "source": [
    "import pandas as pd\n",
    "from bs4 import BeautifulSoup\n",
    "from IPython.display import display"
   ]
  },
  {
   "cell_type": "code",
   "execution_count": 2,
   "metadata": {
    "ExecuteTime": {
     "end_time": "2018-03-30T19:59:14.184222Z",
     "start_time": "2018-03-30T19:59:10.343721Z"
    },
    "collapsed": true
   },
   "outputs": [],
   "source": [
    "df = {\n",
    "    \"cooking\": pd.read_csv('../dataset/cooking.csv'),\n",
    "    \"crypto\": pd.read_csv('../dataset/crypto.csv'),\n",
    "    \"robotics\": pd.read_csv('../dataset/robotics.csv'),\n",
    "    \"biology\": pd.read_csv('../dataset/biology.csv'),\n",
    "    \"travel\": pd.read_csv('../dataset/travel.csv'),\n",
    "    \"diy\": pd.read_csv('../dataset/diy.csv'),\n",
    "    #\"physics\": pd.read_csv('physics.csv'),\n",
    "}"
   ]
  },
  {
   "cell_type": "code",
   "execution_count": 3,
   "metadata": {
    "ExecuteTime": {
     "end_time": "2018-03-30T19:59:16.220680Z",
     "start_time": "2018-03-30T19:59:16.203119Z"
    },
    "collapsed": false
   },
   "outputs": [
    {
     "name": "stdout",
     "output_type": "stream",
     "text": [
      "diy (25918, 4)\n",
      "cooking (15404, 4)\n",
      "robotics (2771, 4)\n",
      "crypto (10432, 4)\n",
      "travel (19279, 4)\n",
      "biology (13196, 4)\n"
     ]
    }
   ],
   "source": [
    "for _class in df:\n",
    "    print(_class, df[_class].shape)"
   ]
  },
  {
   "cell_type": "code",
   "execution_count": 4,
   "metadata": {
    "ExecuteTime": {
     "end_time": "2018-03-30T19:59:17.501627Z",
     "start_time": "2018-03-30T19:59:17.485270Z"
    },
    "collapsed": false,
    "hide_input": true
   },
   "outputs": [
    {
     "data": {
      "text/plain": [
       "id                                                         3\n",
       "title      What are the benefits of the two permutation t...\n",
       "content    <p>Why do we use a permutation table in the fi...\n",
       "tags                            block-cipher des permutation\n",
       "Name: 0, dtype: object"
      ]
     },
     "execution_count": 4,
     "metadata": {},
     "output_type": "execute_result"
    }
   ],
   "source": [
    "df['crypto'].iloc[0]"
   ]
  },
  {
   "cell_type": "code",
   "execution_count": 6,
   "metadata": {
    "ExecuteTime": {
     "end_time": "2018-03-30T19:59:19.317985Z",
     "start_time": "2018-03-30T19:59:19.126238Z"
    },
    "collapsed": false
   },
   "outputs": [
    {
     "data": {
      "text/html": [
       "<div>\n",
       "<table border=\"1\" class=\"dataframe\">\n",
       "  <thead>\n",
       "    <tr style=\"text-align: right;\">\n",
       "      <th></th>\n",
       "      <th>id</th>\n",
       "      <th>title</th>\n",
       "      <th>content</th>\n",
       "      <th>tags</th>\n",
       "    </tr>\n",
       "  </thead>\n",
       "  <tbody>\n",
       "    <tr>\n",
       "      <th>0</th>\n",
       "      <td>3</td>\n",
       "      <td>What are the benefits of the two permutation t...</td>\n",
       "      <td>&lt;p&gt;Why do we use a permutation table in the fi...</td>\n",
       "      <td>block-cipher des permutation</td>\n",
       "    </tr>\n",
       "    <tr>\n",
       "      <th>1</th>\n",
       "      <td>7</td>\n",
       "      <td>Why use a 1-2 Oblivious Transfer instead of a ...</td>\n",
       "      <td>&lt;p&gt;When initiating an &lt;a href=\"http://en.wikip...</td>\n",
       "      <td>oblivious-transfer multiparty-computation func...</td>\n",
       "    </tr>\n",
       "    <tr>\n",
       "      <th>2</th>\n",
       "      <td>8</td>\n",
       "      <td>Why do we append the length of the message in ...</td>\n",
       "      <td>&lt;p&gt;As we know, &lt;a href=\"http://en.wikipedia.or...</td>\n",
       "      <td>sha-1 hash</td>\n",
       "    </tr>\n",
       "    <tr>\n",
       "      <th>3</th>\n",
       "      <td>9</td>\n",
       "      <td>What is the general justification for the hard...</td>\n",
       "      <td>&lt;p&gt;Since most cryptographic hash functions are...</td>\n",
       "      <td>hash cryptanalysis preimage-resistance</td>\n",
       "    </tr>\n",
       "    <tr>\n",
       "      <th>4</th>\n",
       "      <td>14</td>\n",
       "      <td>How can I use asymmetric encryption, such as R...</td>\n",
       "      <td>&lt;p&gt;RSA is not designed to be used on long bloc...</td>\n",
       "      <td>encryption rsa public-key</td>\n",
       "    </tr>\n",
       "  </tbody>\n",
       "</table>\n",
       "</div>"
      ],
      "text/plain": [
       "   id                                              title  \\\n",
       "0   3  What are the benefits of the two permutation t...   \n",
       "1   7  Why use a 1-2 Oblivious Transfer instead of a ...   \n",
       "2   8  Why do we append the length of the message in ...   \n",
       "3   9  What is the general justification for the hard...   \n",
       "4  14  How can I use asymmetric encryption, such as R...   \n",
       "\n",
       "                                             content  \\\n",
       "0  <p>Why do we use a permutation table in the fi...   \n",
       "1  <p>When initiating an <a href=\"http://en.wikip...   \n",
       "2  <p>As we know, <a href=\"http://en.wikipedia.or...   \n",
       "3  <p>Since most cryptographic hash functions are...   \n",
       "4  <p>RSA is not designed to be used on long bloc...   \n",
       "\n",
       "                                                tags  \n",
       "0                       block-cipher des permutation  \n",
       "1  oblivious-transfer multiparty-computation func...  \n",
       "2                                         sha-1 hash  \n",
       "3             hash cryptanalysis preimage-resistance  \n",
       "4                          encryption rsa public-key  "
      ]
     },
     "metadata": {},
     "output_type": "display_data"
    },
    {
     "name": "stdout",
     "output_type": "stream",
     "text": [
      "crypto: 10432 questions\n"
     ]
    },
    {
     "data": {
      "text/html": [
       "<div>\n",
       "<table border=\"1\" class=\"dataframe\">\n",
       "  <thead>\n",
       "    <tr style=\"text-align: right;\">\n",
       "      <th></th>\n",
       "      <th>id</th>\n",
       "      <th>title</th>\n",
       "      <th>content</th>\n",
       "      <th>tags</th>\n",
       "    </tr>\n",
       "  </thead>\n",
       "  <tbody>\n",
       "    <tr>\n",
       "      <th>0</th>\n",
       "      <td>1</td>\n",
       "      <td>What is the right approach to write the spin c...</td>\n",
       "      <td>&lt;p&gt;Imagine programming a 3 wheel soccer robot....</td>\n",
       "      <td>soccer control</td>\n",
       "    </tr>\n",
       "    <tr>\n",
       "      <th>1</th>\n",
       "      <td>2</td>\n",
       "      <td>How can I modify a low cost hobby servo to run...</td>\n",
       "      <td>&lt;p&gt;I've got some hobby servos (&lt;a href=\"http:/...</td>\n",
       "      <td>control rcservo</td>\n",
       "    </tr>\n",
       "    <tr>\n",
       "      <th>2</th>\n",
       "      <td>3</td>\n",
       "      <td>What useful gaits exist for a six legged robot...</td>\n",
       "      <td>&lt;p&gt;&lt;a href=\"http://www.oricomtech.com/projects...</td>\n",
       "      <td>gait walk</td>\n",
       "    </tr>\n",
       "    <tr>\n",
       "      <th>3</th>\n",
       "      <td>4</td>\n",
       "      <td>Good Microcontrollers/SOCs for a Robotics Project</td>\n",
       "      <td>&lt;p&gt;I am looking for a starting point for my pr...</td>\n",
       "      <td>microcontroller arduino raspberry-pi</td>\n",
       "    </tr>\n",
       "    <tr>\n",
       "      <th>4</th>\n",
       "      <td>5</td>\n",
       "      <td>Nearest-neighbor data structure for non-Euclid...</td>\n",
       "      <td>&lt;p&gt;I'm trying to implement a nearest-neighbor ...</td>\n",
       "      <td>motion-planning rrt</td>\n",
       "    </tr>\n",
       "  </tbody>\n",
       "</table>\n",
       "</div>"
      ],
      "text/plain": [
       "   id                                              title  \\\n",
       "0   1  What is the right approach to write the spin c...   \n",
       "1   2  How can I modify a low cost hobby servo to run...   \n",
       "2   3  What useful gaits exist for a six legged robot...   \n",
       "3   4  Good Microcontrollers/SOCs for a Robotics Project   \n",
       "4   5  Nearest-neighbor data structure for non-Euclid...   \n",
       "\n",
       "                                             content  \\\n",
       "0  <p>Imagine programming a 3 wheel soccer robot....   \n",
       "1  <p>I've got some hobby servos (<a href=\"http:/...   \n",
       "2  <p><a href=\"http://www.oricomtech.com/projects...   \n",
       "3  <p>I am looking for a starting point for my pr...   \n",
       "4  <p>I'm trying to implement a nearest-neighbor ...   \n",
       "\n",
       "                                   tags  \n",
       "0                        soccer control  \n",
       "1                       control rcservo  \n",
       "2                             gait walk  \n",
       "3  microcontroller arduino raspberry-pi  \n",
       "4                   motion-planning rrt  "
      ]
     },
     "metadata": {},
     "output_type": "display_data"
    },
    {
     "name": "stdout",
     "output_type": "stream",
     "text": [
      "robotics: 2771 questions\n"
     ]
    },
    {
     "data": {
      "text/html": [
       "<div>\n",
       "<table border=\"1\" class=\"dataframe\">\n",
       "  <thead>\n",
       "    <tr style=\"text-align: right;\">\n",
       "      <th></th>\n",
       "      <th>id</th>\n",
       "      <th>title</th>\n",
       "      <th>content</th>\n",
       "      <th>tags</th>\n",
       "    </tr>\n",
       "  </thead>\n",
       "  <tbody>\n",
       "    <tr>\n",
       "      <th>0</th>\n",
       "      <td>1</td>\n",
       "      <td>How do I install a new, non load bearing wall ...</td>\n",
       "      <td>&lt;p&gt;I'm looking to finish my basement and simpl...</td>\n",
       "      <td>remodeling basement carpentry</td>\n",
       "    </tr>\n",
       "    <tr>\n",
       "      <th>1</th>\n",
       "      <td>2</td>\n",
       "      <td>What kind of caulk should I use around my bath...</td>\n",
       "      <td>&lt;p&gt;I would like to recaulk between the bathtub...</td>\n",
       "      <td>caulking bathroom</td>\n",
       "    </tr>\n",
       "    <tr>\n",
       "      <th>2</th>\n",
       "      <td>3</td>\n",
       "      <td>Is fiberglass mesh tape a good choice for dryw...</td>\n",
       "      <td>&lt;p&gt;I'm going to be doing some drywalling short...</td>\n",
       "      <td>drywall</td>\n",
       "    </tr>\n",
       "    <tr>\n",
       "      <th>3</th>\n",
       "      <td>4</td>\n",
       "      <td>Are there ways to determine if a wall is load ...</td>\n",
       "      <td>&lt;p&gt;Other than looking up blue prints, which ma...</td>\n",
       "      <td>walls load-bearing structural</td>\n",
       "    </tr>\n",
       "    <tr>\n",
       "      <th>4</th>\n",
       "      <td>5</td>\n",
       "      <td>How do I safely replace a worn out electrical ...</td>\n",
       "      <td>&lt;p&gt;I have a number of outlets that are old and...</td>\n",
       "      <td>repair electrical</td>\n",
       "    </tr>\n",
       "  </tbody>\n",
       "</table>\n",
       "</div>"
      ],
      "text/plain": [
       "   id                                              title  \\\n",
       "0   1  How do I install a new, non load bearing wall ...   \n",
       "1   2  What kind of caulk should I use around my bath...   \n",
       "2   3  Is fiberglass mesh tape a good choice for dryw...   \n",
       "3   4  Are there ways to determine if a wall is load ...   \n",
       "4   5  How do I safely replace a worn out electrical ...   \n",
       "\n",
       "                                             content  \\\n",
       "0  <p>I'm looking to finish my basement and simpl...   \n",
       "1  <p>I would like to recaulk between the bathtub...   \n",
       "2  <p>I'm going to be doing some drywalling short...   \n",
       "3  <p>Other than looking up blue prints, which ma...   \n",
       "4  <p>I have a number of outlets that are old and...   \n",
       "\n",
       "                            tags  \n",
       "0  remodeling basement carpentry  \n",
       "1              caulking bathroom  \n",
       "2                        drywall  \n",
       "3  walls load-bearing structural  \n",
       "4              repair electrical  "
      ]
     },
     "metadata": {},
     "output_type": "display_data"
    },
    {
     "name": "stdout",
     "output_type": "stream",
     "text": [
      "diy: 25918 questions\n"
     ]
    },
    {
     "data": {
      "text/html": [
       "<div>\n",
       "<table border=\"1\" class=\"dataframe\">\n",
       "  <thead>\n",
       "    <tr style=\"text-align: right;\">\n",
       "      <th></th>\n",
       "      <th>id</th>\n",
       "      <th>title</th>\n",
       "      <th>content</th>\n",
       "      <th>tags</th>\n",
       "    </tr>\n",
       "  </thead>\n",
       "  <tbody>\n",
       "    <tr>\n",
       "      <th>0</th>\n",
       "      <td>1</td>\n",
       "      <td>What are some Caribbean cruises for October?</td>\n",
       "      <td>&lt;p&gt;My fiancée and I are looking for a good Car...</td>\n",
       "      <td>caribbean cruising vacations</td>\n",
       "    </tr>\n",
       "    <tr>\n",
       "      <th>1</th>\n",
       "      <td>2</td>\n",
       "      <td>How can I find a guide that will take me safel...</td>\n",
       "      <td>&lt;p&gt;This was one of our definition questions, b...</td>\n",
       "      <td>guides extreme-tourism amazon-river amazon-jungle</td>\n",
       "    </tr>\n",
       "    <tr>\n",
       "      <th>2</th>\n",
       "      <td>4</td>\n",
       "      <td>Does Singapore Airlines offer any reward seats...</td>\n",
       "      <td>&lt;p&gt;Singapore Airlines has an all-business clas...</td>\n",
       "      <td>loyalty-programs routes ewr singapore-airlines...</td>\n",
       "    </tr>\n",
       "    <tr>\n",
       "      <th>3</th>\n",
       "      <td>5</td>\n",
       "      <td>What is the easiest transportation to use thro...</td>\n",
       "      <td>&lt;p&gt;Another definition question that interested...</td>\n",
       "      <td>romania transportation</td>\n",
       "    </tr>\n",
       "    <tr>\n",
       "      <th>4</th>\n",
       "      <td>6</td>\n",
       "      <td>How can I visit Antarctica?</td>\n",
       "      <td>&lt;p&gt;A year ago I was reading some magazine, and...</td>\n",
       "      <td>extreme-tourism antarctica</td>\n",
       "    </tr>\n",
       "  </tbody>\n",
       "</table>\n",
       "</div>"
      ],
      "text/plain": [
       "   id                                              title  \\\n",
       "0   1       What are some Caribbean cruises for October?   \n",
       "1   2  How can I find a guide that will take me safel...   \n",
       "2   4  Does Singapore Airlines offer any reward seats...   \n",
       "3   5  What is the easiest transportation to use thro...   \n",
       "4   6                        How can I visit Antarctica?   \n",
       "\n",
       "                                             content  \\\n",
       "0  <p>My fiancée and I are looking for a good Car...   \n",
       "1  <p>This was one of our definition questions, b...   \n",
       "2  <p>Singapore Airlines has an all-business clas...   \n",
       "3  <p>Another definition question that interested...   \n",
       "4  <p>A year ago I was reading some magazine, and...   \n",
       "\n",
       "                                                tags  \n",
       "0                       caribbean cruising vacations  \n",
       "1  guides extreme-tourism amazon-river amazon-jungle  \n",
       "2  loyalty-programs routes ewr singapore-airlines...  \n",
       "3                             romania transportation  \n",
       "4                         extreme-tourism antarctica  "
      ]
     },
     "metadata": {},
     "output_type": "display_data"
    },
    {
     "name": "stdout",
     "output_type": "stream",
     "text": [
      "travel: 19279 questions\n"
     ]
    },
    {
     "data": {
      "text/html": [
       "<div>\n",
       "<table border=\"1\" class=\"dataframe\">\n",
       "  <thead>\n",
       "    <tr style=\"text-align: right;\">\n",
       "      <th></th>\n",
       "      <th>id</th>\n",
       "      <th>title</th>\n",
       "      <th>content</th>\n",
       "      <th>tags</th>\n",
       "    </tr>\n",
       "  </thead>\n",
       "  <tbody>\n",
       "    <tr>\n",
       "      <th>0</th>\n",
       "      <td>1</td>\n",
       "      <td>What is the criticality of the ribosome bindin...</td>\n",
       "      <td>&lt;p&gt;In prokaryotic translation, how critical fo...</td>\n",
       "      <td>ribosome binding-sites translation synthetic-b...</td>\n",
       "    </tr>\n",
       "    <tr>\n",
       "      <th>1</th>\n",
       "      <td>2</td>\n",
       "      <td>How is RNAse contamination in RNA based experi...</td>\n",
       "      <td>&lt;p&gt;Does anyone have any suggestions to prevent...</td>\n",
       "      <td>rna biochemistry</td>\n",
       "    </tr>\n",
       "    <tr>\n",
       "      <th>2</th>\n",
       "      <td>3</td>\n",
       "      <td>Are lymphocyte sizes clustered in two groups?</td>\n",
       "      <td>&lt;p&gt;Tortora writes in &lt;em&gt;Principles of Anatomy...</td>\n",
       "      <td>immunology cell-biology hematology</td>\n",
       "    </tr>\n",
       "    <tr>\n",
       "      <th>3</th>\n",
       "      <td>4</td>\n",
       "      <td>How long does antibiotic-dosed LB maintain goo...</td>\n",
       "      <td>&lt;p&gt;Various people in our lab will prepare a li...</td>\n",
       "      <td>cell-culture</td>\n",
       "    </tr>\n",
       "    <tr>\n",
       "      <th>4</th>\n",
       "      <td>5</td>\n",
       "      <td>Is exon order always preserved in splicing?</td>\n",
       "      <td>&lt;p&gt;Are there any cases in which the splicing m...</td>\n",
       "      <td>splicing mrna spliceosome introns exons</td>\n",
       "    </tr>\n",
       "  </tbody>\n",
       "</table>\n",
       "</div>"
      ],
      "text/plain": [
       "   id                                              title  \\\n",
       "0   1  What is the criticality of the ribosome bindin...   \n",
       "1   2  How is RNAse contamination in RNA based experi...   \n",
       "2   3      Are lymphocyte sizes clustered in two groups?   \n",
       "3   4  How long does antibiotic-dosed LB maintain goo...   \n",
       "4   5        Is exon order always preserved in splicing?   \n",
       "\n",
       "                                             content  \\\n",
       "0  <p>In prokaryotic translation, how critical fo...   \n",
       "1  <p>Does anyone have any suggestions to prevent...   \n",
       "2  <p>Tortora writes in <em>Principles of Anatomy...   \n",
       "3  <p>Various people in our lab will prepare a li...   \n",
       "4  <p>Are there any cases in which the splicing m...   \n",
       "\n",
       "                                                tags  \n",
       "0  ribosome binding-sites translation synthetic-b...  \n",
       "1                                   rna biochemistry  \n",
       "2                 immunology cell-biology hematology  \n",
       "3                                       cell-culture  \n",
       "4            splicing mrna spliceosome introns exons  "
      ]
     },
     "metadata": {},
     "output_type": "display_data"
    },
    {
     "name": "stdout",
     "output_type": "stream",
     "text": [
      "biology: 13196 questions\n"
     ]
    },
    {
     "data": {
      "text/html": [
       "<div>\n",
       "<table border=\"1\" class=\"dataframe\">\n",
       "  <thead>\n",
       "    <tr style=\"text-align: right;\">\n",
       "      <th></th>\n",
       "      <th>id</th>\n",
       "      <th>title</th>\n",
       "      <th>content</th>\n",
       "      <th>tags</th>\n",
       "    </tr>\n",
       "  </thead>\n",
       "  <tbody>\n",
       "    <tr>\n",
       "      <th>0</th>\n",
       "      <td>1</td>\n",
       "      <td>How can I get chewy chocolate chip cookies?</td>\n",
       "      <td>&lt;p&gt;My chocolate chips cookies are always too c...</td>\n",
       "      <td>baking cookies texture</td>\n",
       "    </tr>\n",
       "    <tr>\n",
       "      <th>1</th>\n",
       "      <td>2</td>\n",
       "      <td>How should I cook bacon in an oven?</td>\n",
       "      <td>&lt;p&gt;I've heard of people cooking bacon in an ov...</td>\n",
       "      <td>oven cooking-time bacon</td>\n",
       "    </tr>\n",
       "    <tr>\n",
       "      <th>2</th>\n",
       "      <td>3</td>\n",
       "      <td>What is the difference between white and brown...</td>\n",
       "      <td>&lt;p&gt;I always use brown extra large eggs, but I ...</td>\n",
       "      <td>eggs</td>\n",
       "    </tr>\n",
       "    <tr>\n",
       "      <th>3</th>\n",
       "      <td>4</td>\n",
       "      <td>What is the difference between baking soda and...</td>\n",
       "      <td>&lt;p&gt;And can I use one in place of the other in ...</td>\n",
       "      <td>substitutions please-remove-this-tag baking-so...</td>\n",
       "    </tr>\n",
       "    <tr>\n",
       "      <th>4</th>\n",
       "      <td>5</td>\n",
       "      <td>In a tomato sauce recipe, how can I cut the ac...</td>\n",
       "      <td>&lt;p&gt;It seems that every time I make a tomato sa...</td>\n",
       "      <td>sauce pasta tomatoes italian-cuisine</td>\n",
       "    </tr>\n",
       "  </tbody>\n",
       "</table>\n",
       "</div>"
      ],
      "text/plain": [
       "   id                                              title  \\\n",
       "0   1        How can I get chewy chocolate chip cookies?   \n",
       "1   2                How should I cook bacon in an oven?   \n",
       "2   3  What is the difference between white and brown...   \n",
       "3   4  What is the difference between baking soda and...   \n",
       "4   5  In a tomato sauce recipe, how can I cut the ac...   \n",
       "\n",
       "                                             content  \\\n",
       "0  <p>My chocolate chips cookies are always too c...   \n",
       "1  <p>I've heard of people cooking bacon in an ov...   \n",
       "2  <p>I always use brown extra large eggs, but I ...   \n",
       "3  <p>And can I use one in place of the other in ...   \n",
       "4  <p>It seems that every time I make a tomato sa...   \n",
       "\n",
       "                                                tags  \n",
       "0                             baking cookies texture  \n",
       "1                            oven cooking-time bacon  \n",
       "2                                               eggs  \n",
       "3  substitutions please-remove-this-tag baking-so...  \n",
       "4               sauce pasta tomatoes italian-cuisine  "
      ]
     },
     "metadata": {},
     "output_type": "display_data"
    },
    {
     "name": "stdout",
     "output_type": "stream",
     "text": [
      "cooking: 15404 questions\n"
     ]
    }
   ],
   "source": [
    "for file in df:\n",
    "    display(df[file].head())\n",
    "    print('{0}: {1} questions'.format(file, df[file].shape[0]))\n"
   ]
  },
  {
   "cell_type": "code",
   "execution_count": 7,
   "metadata": {
    "ExecuteTime": {
     "end_time": "2018-03-30T19:59:20.154494Z",
     "start_time": "2018-03-30T19:59:20.139946Z"
    },
    "collapsed": true
   },
   "outputs": [],
   "source": [
    "html = df['crypto'].iloc[1]['content']"
   ]
  },
  {
   "cell_type": "code",
   "execution_count": 8,
   "metadata": {
    "ExecuteTime": {
     "end_time": "2018-03-30T19:59:22.701196Z",
     "start_time": "2018-03-30T19:59:22.692284Z"
    },
    "collapsed": true
   },
   "outputs": [],
   "source": [
    "def parser(html):\n",
    "    soup = BeautifulSoup(html, 'html.parser').get_text()\n",
    "    return soup"
   ]
  },
  {
   "cell_type": "code",
   "execution_count": 12,
   "metadata": {
    "ExecuteTime": {
     "end_time": "2018-03-30T19:59:24.301012Z",
     "start_time": "2018-03-30T19:59:24.288450Z"
    },
    "collapsed": false
   },
   "outputs": [
    {
     "name": "stdout",
     "output_type": "stream",
     "text": [
      "<p>When initiating an <a href=\"http://en.wikipedia.org/wiki/Oblivious_transfer\">oblivious transfer</a>, why would someone use a <a href=\"http://en.wikipedia.org/wiki/Oblivious_transfer#1-2_oblivious_transfer\">1-2 oblivious transfer</a> rather than going for an <a href=\"http://en.wikipedia.org/wiki/Oblivious_transfer#1-out-of-n_oblivious_transfer_and_k-out-of-n_oblivious_transfer\">1 out of n oblivious transfer</a>? Perhaps a slight time overhead for the extra message encrypts, but with everything as fast as it is these days is that a concern?</p>\n",
      "\n"
     ]
    }
   ],
   "source": [
    "print(df['crypto'].iloc[1]['content'])\n"
   ]
  },
  {
   "cell_type": "code",
   "execution_count": 11,
   "metadata": {
    "ExecuteTime": {
     "end_time": "2018-03-30T19:59:25.344009Z",
     "start_time": "2018-03-30T19:59:25.334069Z"
    },
    "collapsed": false
   },
   "outputs": [
    {
     "name": "stdout",
     "output_type": "stream",
     "text": [
      "When initiating an oblivious transfer, why would someone use a 1-2 oblivious transfer rather than going for an 1 out of n oblivious transfer? Perhaps a slight time overhead for the extra message encrypts, but with everything as fast as it is these days is that a concern?\n",
      "\n"
     ]
    }
   ],
   "source": [
    "print(parser(df['crypto'].iloc[1]['content']))"
   ]
  },
  {
   "cell_type": "code",
   "execution_count": 20,
   "metadata": {
    "ExecuteTime": {
     "end_time": "2018-03-30T19:59:26.030603Z",
     "start_time": "2018-03-30T19:59:26.008758Z"
    },
    "collapsed": false
   },
   "outputs": [
    {
     "name": "stdout",
     "output_type": "stream",
     "text": [
      "<p>I've been reading a paper [<a href=\"https://mice.cs.columbia.edu:443/getTechreport.php?techreportID=483\">1</a>], and I've ran across something called a \"Group Cipher\", which is similar to homomorphic encryption, with an important difference.</p>\n",
      "\n",
      "<p>In homomorphic encryption we have an encryption operation $E_k: P \\rightarrow C$, where $P$ is the set of plain texts and $C$ is the set of cipher texts. We also have an efficient group operation on $C$ that induces a homomorphism to the group operation on $P$.</p>\n",
      "\n",
      "<p>The difference with Group Ciphers is that the group operation on $C$ is composition of encryption $E$, and it induces a homomorphism on the group operation of the set of keys $K$. That means, if we denote an encryption of a plain text $X$ as ${X}_i$, then we would have that ${ { X }_i }_j = { X }_{i \\circ j}$.</p>\n",
      "\n",
      "<p>In the paper they use it to do something like asymmetric encryption, but using symmetric encryption. They do need a semi-trusted third party.</p>\n",
      "\n",
      "<p>For example, Alice's key is $i$, Bob's key is $j$. Ted has the key $i^{-1} \\circ j$.</p>\n",
      "\n",
      "<p>Alice will encryption something : ${X}_i$. Send it to Ted, who will then encrypt it again : ${ {X}_i }_{i^{-1} \\circ j}$ , which will yield ${X}_j$, then Ted send it to Alice again. After that Alice sends it to Bob. Bob can then decrypt it.</p>\n",
      "\n",
      "<p>What happened here is that Alice can send to Bob, without knowing bob's (symmetric) key. And Bob can decrypt without knowing Alice's (symmetric) key. Just like asymmetric encryption. But using symmetric encryption instead (and a semi-trusted third party).</p>\n",
      "\n",
      "<p>They also prove that the Pohlig-Hellman cipher has this property.</p>\n",
      "\n",
      "<p>The question is:</p>\n",
      "\n",
      "<blockquote>\n",
      "  <p>1- Does Group Ciphers have any other applications in the literature (with references) ?</p>\n",
      "  \n",
      "  <p>2- What are the drawbacks of this scheme compared to asymmetric encryption (other than the required semi-trusted third party) ? </p>\n",
      "</blockquote>\n",
      "\n",
      "<p>(I was not sure of which tag to use for this question.)</p>\n",
      "\n",
      "<p><a href=\"https://mice.cs.columbia.edu:443/getTechreport.php?techreportID=483\">1</a> S. M. Bellovin and W. R. Cheskwick (2004). \"<a href=\"https://mice.cs.columbia.edu:443/getTechreport.php?techreportID=483\">Privacy-Enhanced Searches Using Encrypted Bloom Filters</a>\". Draft.</p>\n",
      "\n"
     ]
    }
   ],
   "source": [
    "print(df['crypto'].iloc[88]['content'])"
   ]
  },
  {
   "cell_type": "code",
   "execution_count": 21,
   "metadata": {
    "collapsed": false
   },
   "outputs": [
    {
     "name": "stdout",
     "output_type": "stream",
     "text": [
      "I've been reading a paper [1], and I've ran across something called a \"Group Cipher\", which is similar to homomorphic encryption, with an important difference.\n",
      "In homomorphic encryption we have an encryption operation $E_k: P \\rightarrow C$, where $P$ is the set of plain texts and $C$ is the set of cipher texts. We also have an efficient group operation on $C$ that induces a homomorphism to the group operation on $P$.\n",
      "The difference with Group Ciphers is that the group operation on $C$ is composition of encryption $E$, and it induces a homomorphism on the group operation of the set of keys $K$. That means, if we denote an encryption of a plain text $X$ as ${X}_i$, then we would have that ${ { X }_i }_j = { X }_{i \\circ j}$.\n",
      "In the paper they use it to do something like asymmetric encryption, but using symmetric encryption. They do need a semi-trusted third party.\n",
      "For example, Alice's key is $i$, Bob's key is $j$. Ted has the key $i^{-1} \\circ j$.\n",
      "Alice will encryption something : ${X}_i$. Send it to Ted, who will then encrypt it again : ${ {X}_i }_{i^{-1} \\circ j}$ , which will yield ${X}_j$, then Ted send it to Alice again. After that Alice sends it to Bob. Bob can then decrypt it.\n",
      "What happened here is that Alice can send to Bob, without knowing bob's (symmetric) key. And Bob can decrypt without knowing Alice's (symmetric) key. Just like asymmetric encryption. But using symmetric encryption instead (and a semi-trusted third party).\n",
      "They also prove that the Pohlig-Hellman cipher has this property.\n",
      "The question is:\n",
      "\n",
      "1- Does Group Ciphers have any other applications in the literature (with references) ?\n",
      "2- What are the drawbacks of this scheme compared to asymmetric encryption (other than the required semi-trusted third party) ? \n",
      "\n",
      "(I was not sure of which tag to use for this question.)\n",
      "1 S. M. Bellovin and W. R. Cheskwick (2004). \"Privacy-Enhanced Searches Using Encrypted Bloom Filters\". Draft.\n",
      "\n"
     ]
    }
   ],
   "source": [
    "print(parser(df['crypto'].iloc[88]['content']))"
   ]
  },
  {
   "cell_type": "code",
   "execution_count": null,
   "metadata": {
    "collapsed": true
   },
   "outputs": [],
   "source": []
  }
 ],
 "metadata": {
  "anaconda-cloud": {},
  "celltoolbar": "Slideshow",
  "gist": {
   "data": {
    "description": "Documents/PESC-EDC/MAB786 - Redes neurais sem peso/Transfer learning on stack exchange tags/exploration.ipynb",
    "public": false
   },
   "id": ""
  },
  "hide_input": false,
  "kernelspec": {
   "display_name": "Python [default]",
   "language": "python",
   "name": "python3"
  },
  "language_info": {
   "codemirror_mode": {
    "name": "ipython",
    "version": 3
   },
   "file_extension": ".py",
   "mimetype": "text/x-python",
   "name": "python",
   "nbconvert_exporter": "python",
   "pygments_lexer": "ipython3",
   "version": "3.5.2"
  },
  "latex_envs": {
   "LaTeX_envs_menu_present": true,
   "autoclose": false,
   "autocomplete": true,
   "bibliofile": "biblio.bib",
   "cite_by": "apalike",
   "current_citInitial": 1,
   "eqLabelWithNumbers": true,
   "eqNumInitial": 1,
   "hotkeys": {
    "equation": "Ctrl-E",
    "itemize": "Ctrl-I"
   },
   "labels_anchors": false,
   "latex_user_defs": false,
   "report_style_numbering": false,
   "user_envs_cfg": false
  },
  "varInspector": {
   "cols": {
    "lenName": 16,
    "lenType": 16,
    "lenVar": 40
   },
   "kernels_config": {
    "python": {
     "delete_cmd_postfix": "",
     "delete_cmd_prefix": "del ",
     "library": "var_list.py",
     "varRefreshCmd": "print(var_dic_list())"
    },
    "r": {
     "delete_cmd_postfix": ") ",
     "delete_cmd_prefix": "rm(",
     "library": "var_list.r",
     "varRefreshCmd": "cat(var_dic_list()) "
    }
   },
   "position": {
    "height": "289px",
    "left": "982px",
    "right": "4px",
    "top": "113px",
    "width": "454px"
   },
   "types_to_exclude": [
    "module",
    "function",
    "builtin_function_or_method",
    "instance",
    "_Feature"
   ],
   "window_display": false
  }
 },
 "nbformat": 4,
 "nbformat_minor": 2
}
